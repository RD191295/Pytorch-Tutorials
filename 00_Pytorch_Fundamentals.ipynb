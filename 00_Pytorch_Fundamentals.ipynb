{
  "nbformat": 4,
  "nbformat_minor": 0,
  "metadata": {
    "colab": {
      "provenance": [],
      "include_colab_link": true
    },
    "kernelspec": {
      "name": "python3",
      "display_name": "Python 3"
    },
    "language_info": {
      "name": "python"
    },
    "accelerator": "GPU"
  },
  "cells": [
    {
      "cell_type": "markdown",
      "metadata": {
        "id": "view-in-github",
        "colab_type": "text"
      },
      "source": [
        "<a href=\"https://colab.research.google.com/github/RD191295/Pytorch-Tutorials/blob/main/00_Pytorch_Fundamentals.ipynb\" target=\"_parent\"><img src=\"https://colab.research.google.com/assets/colab-badge.svg\" alt=\"Open In Colab\"/></a>"
      ]
    },
    {
      "cell_type": "markdown",
      "source": [
        "##📗 Pytorch Fundamentals"
      ],
      "metadata": {
        "id": "yignxvRnBucO"
      }
    },
    {
      "cell_type": "markdown",
      "source": [
        "### 📕***Introduction to Pytorch***\n",
        "<p align=\"justify\"> PyTorch is an open-source library used in machine learning library developed using Torch library for *python* program. It is developed by Facebook’s AI Research lab and released in January 2016 as a free and open-source library mainly used in computer vision, deep learning, and natural language processing applications. Programmer can build a complex neural network with ease using PyTorch as it has a core data structure, Tensor, multi-dimensional array like Numpy arrays. PyTorch use is increasing in current industries and in the research community as it is flexible, faster, easy to get the project up and running, due to which PyTorch is one of the top deep learning tools.<p>\n",
        "\n",
        "\n",
        "\n",
        "🔖**Source Link:** https://pytorch.org/"
      ],
      "metadata": {
        "id": "4q1LZeY3jWrP"
      }
    },
    {
      "cell_type": "code",
      "execution_count": 1,
      "metadata": {
        "colab": {
          "base_uri": "https://localhost:8080/"
        },
        "id": "vsJNVlkq-sCc",
        "outputId": "18808666-f545-4802-c234-57015596a4b5"
      },
      "outputs": [
        {
          "output_type": "stream",
          "name": "stdout",
          "text": [
            "1.13.1+cu116\n"
          ]
        }
      ],
      "source": [
        "import torch\n",
        "print(torch.__version__)"
      ]
    },
    {
      "cell_type": "code",
      "source": [
        "!nvidia-smi"
      ],
      "metadata": {
        "colab": {
          "base_uri": "https://localhost:8080/"
        },
        "id": "1Zg0WqlbC7Ue",
        "outputId": "e6e98c8b-8c40-4531-8091-720263795141"
      },
      "execution_count": 2,
      "outputs": [
        {
          "output_type": "stream",
          "name": "stdout",
          "text": [
            "Sun Apr  2 16:43:52 2023       \n",
            "+-----------------------------------------------------------------------------+\n",
            "| NVIDIA-SMI 525.85.12    Driver Version: 525.85.12    CUDA Version: 12.0     |\n",
            "|-------------------------------+----------------------+----------------------+\n",
            "| GPU  Name        Persistence-M| Bus-Id        Disp.A | Volatile Uncorr. ECC |\n",
            "| Fan  Temp  Perf  Pwr:Usage/Cap|         Memory-Usage | GPU-Util  Compute M. |\n",
            "|                               |                      |               MIG M. |\n",
            "|===============================+======================+======================|\n",
            "|   0  Tesla T4            Off  | 00000000:00:04.0 Off |                    0 |\n",
            "| N/A   43C    P8     9W /  70W |      0MiB / 15360MiB |      0%      Default |\n",
            "|                               |                      |                  N/A |\n",
            "+-------------------------------+----------------------+----------------------+\n",
            "                                                                               \n",
            "+-----------------------------------------------------------------------------+\n",
            "| Processes:                                                                  |\n",
            "|  GPU   GI   CI        PID   Type   Process name                  GPU Memory |\n",
            "|        ID   ID                                                   Usage      |\n",
            "|=============================================================================|\n",
            "|  No running processes found                                                 |\n",
            "+-----------------------------------------------------------------------------+\n"
          ]
        }
      ]
    },
    {
      "cell_type": "markdown",
      "source": [
        "## 📗Introduction to Tensors"
      ],
      "metadata": {
        "id": "pbtGmDE1ZBe9"
      }
    },
    {
      "cell_type": "markdown",
      "source": [
        "###📕Creating Tensors\n",
        "\n",
        "🔖**Source Link**: https://pytorch.org/docs/stable/tensors.html"
      ],
      "metadata": {
        "id": "S9P76822dxy6"
      }
    },
    {
      "cell_type": "code",
      "source": [
        "# Scalar \n",
        "scalar  = torch.tensor(7)\n",
        "scalar"
      ],
      "metadata": {
        "colab": {
          "base_uri": "https://localhost:8080/"
        },
        "id": "93MuGV4VFMq7",
        "outputId": "c6cdd08d-5469-4174-862c-e88a9a2d0af0"
      },
      "execution_count": 3,
      "outputs": [
        {
          "output_type": "execute_result",
          "data": {
            "text/plain": [
              "tensor(7)"
            ]
          },
          "metadata": {},
          "execution_count": 3
        }
      ]
    },
    {
      "cell_type": "code",
      "source": [
        "# Scalar has no dimension !!\n",
        "scalar.ndim"
      ],
      "metadata": {
        "colab": {
          "base_uri": "https://localhost:8080/"
        },
        "id": "tzlFBo4UZgZw",
        "outputId": "006d8bcd-d81b-4f7f-cc7f-e14380a26673"
      },
      "execution_count": 4,
      "outputs": [
        {
          "output_type": "execute_result",
          "data": {
            "text/plain": [
              "0"
            ]
          },
          "metadata": {},
          "execution_count": 4
        }
      ]
    },
    {
      "cell_type": "code",
      "source": [
        "# Vectors\n",
        "Vector = torch.tensor([7,1])\n",
        "Vector"
      ],
      "metadata": {
        "colab": {
          "base_uri": "https://localhost:8080/"
        },
        "id": "7E69Tq2FZjFl",
        "outputId": "bb17005d-bf11-4be4-934e-cf39057f6ce0"
      },
      "execution_count": 5,
      "outputs": [
        {
          "output_type": "execute_result",
          "data": {
            "text/plain": [
              "tensor([7, 1])"
            ]
          },
          "metadata": {},
          "execution_count": 5
        }
      ]
    },
    {
      "cell_type": "code",
      "source": [
        "# Vector has 1 dimension!!\n",
        "Vector.ndim"
      ],
      "metadata": {
        "colab": {
          "base_uri": "https://localhost:8080/"
        },
        "id": "laMbf9V-Z03X",
        "outputId": "058edbb1-6cbc-4090-a3e7-677b0da70e92"
      },
      "execution_count": 6,
      "outputs": [
        {
          "output_type": "execute_result",
          "data": {
            "text/plain": [
              "1"
            ]
          },
          "metadata": {},
          "execution_count": 6
        }
      ]
    },
    {
      "cell_type": "code",
      "source": [
        "# Vector shape\n",
        "Vector.shape"
      ],
      "metadata": {
        "colab": {
          "base_uri": "https://localhost:8080/"
        },
        "id": "mnD--xqKZ7S1",
        "outputId": "0d1153eb-6496-4e0b-dceb-901877ca0c9f"
      },
      "execution_count": 7,
      "outputs": [
        {
          "output_type": "execute_result",
          "data": {
            "text/plain": [
              "torch.Size([2])"
            ]
          },
          "metadata": {},
          "execution_count": 7
        }
      ]
    },
    {
      "cell_type": "code",
      "source": [
        "# Matric\n",
        "Matrix = torch.tensor([[7, 8],\n",
        "                       [9, 10]])\n",
        "\n",
        "Matrix"
      ],
      "metadata": {
        "colab": {
          "base_uri": "https://localhost:8080/"
        },
        "id": "S3pLEumWaARB",
        "outputId": "fa425dfd-1654-40b8-a2a7-e3fb55f0c11e"
      },
      "execution_count": 8,
      "outputs": [
        {
          "output_type": "execute_result",
          "data": {
            "text/plain": [
              "tensor([[ 7,  8],\n",
              "        [ 9, 10]])"
            ]
          },
          "metadata": {},
          "execution_count": 8
        }
      ]
    },
    {
      "cell_type": "code",
      "source": [
        "# Matric has 2 dim\n",
        "Matrix.ndim"
      ],
      "metadata": {
        "colab": {
          "base_uri": "https://localhost:8080/"
        },
        "id": "ZmDPQ9pSaPs5",
        "outputId": "71253f8d-2b69-46a0-c60c-58602f5b5f89"
      },
      "execution_count": 9,
      "outputs": [
        {
          "output_type": "execute_result",
          "data": {
            "text/plain": [
              "2"
            ]
          },
          "metadata": {},
          "execution_count": 9
        }
      ]
    },
    {
      "cell_type": "code",
      "source": [
        "# Matrix shape\n",
        "Matrix.shape"
      ],
      "metadata": {
        "colab": {
          "base_uri": "https://localhost:8080/"
        },
        "id": "Ov0UuWalaXff",
        "outputId": "0ba2e24c-0eca-42cf-994e-113b8d2188a0"
      },
      "execution_count": 10,
      "outputs": [
        {
          "output_type": "execute_result",
          "data": {
            "text/plain": [
              "torch.Size([2, 2])"
            ]
          },
          "metadata": {},
          "execution_count": 10
        }
      ]
    },
    {
      "cell_type": "code",
      "source": [
        "# Tensor\n",
        "TENSOR = torch.tensor([[[1, 2, 3],\n",
        "                        [3, 6, 9],\n",
        "                        [2, 4, 5]]])\n",
        "TENSOR"
      ],
      "metadata": {
        "colab": {
          "base_uri": "https://localhost:8080/"
        },
        "id": "juuYyrh1acsl",
        "outputId": "e0329f12-4815-453a-8e7a-deb2f8602798"
      },
      "execution_count": 11,
      "outputs": [
        {
          "output_type": "execute_result",
          "data": {
            "text/plain": [
              "tensor([[[1, 2, 3],\n",
              "         [3, 6, 9],\n",
              "         [2, 4, 5]]])"
            ]
          },
          "metadata": {},
          "execution_count": 11
        }
      ]
    },
    {
      "cell_type": "code",
      "source": [
        "# Tensor dimension --- it has N dimension\n",
        "TENSOR.ndim"
      ],
      "metadata": {
        "colab": {
          "base_uri": "https://localhost:8080/"
        },
        "id": "kv7gOb0NatTi",
        "outputId": "5c0e91ff-181e-4048-ccae-077f9f2ae5ea"
      },
      "execution_count": 12,
      "outputs": [
        {
          "output_type": "execute_result",
          "data": {
            "text/plain": [
              "3"
            ]
          },
          "metadata": {},
          "execution_count": 12
        }
      ]
    },
    {
      "cell_type": "code",
      "source": [
        "# Tensor shape\n",
        "TENSOR.shape"
      ],
      "metadata": {
        "colab": {
          "base_uri": "https://localhost:8080/"
        },
        "id": "36eDqFViaz_H",
        "outputId": "397acd42-fe4b-4c63-a3be-2ae9d859a706"
      },
      "execution_count": 13,
      "outputs": [
        {
          "output_type": "execute_result",
          "data": {
            "text/plain": [
              "torch.Size([1, 3, 3])"
            ]
          },
          "metadata": {},
          "execution_count": 13
        }
      ]
    },
    {
      "cell_type": "code",
      "source": [
        "# Tensor Example 2\n",
        "Tensor_2 = torch.tensor([[[1,2,3],\n",
        "                          [3,2,5]],\n",
        "                         [[4,3,5],\n",
        "                          [5,6,7]]])\n",
        "Tensor_2"
      ],
      "metadata": {
        "colab": {
          "base_uri": "https://localhost:8080/"
        },
        "id": "NwSTWNwEbPns",
        "outputId": "ac7a1b27-a5fe-4e23-b211-e624896af3ff"
      },
      "execution_count": 14,
      "outputs": [
        {
          "output_type": "execute_result",
          "data": {
            "text/plain": [
              "tensor([[[1, 2, 3],\n",
              "         [3, 2, 5]],\n",
              "\n",
              "        [[4, 3, 5],\n",
              "         [5, 6, 7]]])"
            ]
          },
          "metadata": {},
          "execution_count": 14
        }
      ]
    },
    {
      "cell_type": "code",
      "source": [
        "# Tensor_2 Shape\n",
        "Tensor_2.shape"
      ],
      "metadata": {
        "colab": {
          "base_uri": "https://localhost:8080/"
        },
        "id": "FALBUbBRbfTb",
        "outputId": "47951dd4-5bc4-4c9e-d768-d0a0d1bddee3"
      },
      "execution_count": 15,
      "outputs": [
        {
          "output_type": "execute_result",
          "data": {
            "text/plain": [
              "torch.Size([2, 2, 3])"
            ]
          },
          "metadata": {},
          "execution_count": 15
        }
      ]
    },
    {
      "cell_type": "markdown",
      "source": [
        "### 📕 Random Tensors\n",
        "\n",
        "Why Random Tensors❓\n",
        "\n",
        "Random tensors are important because the way many nerual networks learn is that they start with tensors full of random numbers and then adjust those random numbers to better represent the data.\n",
        "\n",
        "``` \n",
        "Start with random numbers --> look at the data --> Update random numbers --> look at the data --> Update ranodm numbers\n",
        "```\n",
        "\n",
        "🔖**Source Link:** https://pytorch.org/docs/stable/generated/torch.rand.html\n"
      ],
      "metadata": {
        "id": "jGIT-ZhCeAPK"
      }
    },
    {
      "cell_type": "code",
      "source": [
        "# Create a random tensor of size (3, 4)\n",
        "random_tensor = torch.rand(3, 4)\n",
        "random_tensor"
      ],
      "metadata": {
        "colab": {
          "base_uri": "https://localhost:8080/"
        },
        "id": "cKcvP3FZeC-v",
        "outputId": "91dfe44d-3d1f-4e25-f41c-a9046dd18022"
      },
      "execution_count": 16,
      "outputs": [
        {
          "output_type": "execute_result",
          "data": {
            "text/plain": [
              "tensor([[0.2601, 0.4882, 0.3871, 0.8445],\n",
              "        [0.9840, 0.9257, 0.8772, 0.6307],\n",
              "        [0.2716, 0.0025, 0.4974, 0.5334]])"
            ]
          },
          "metadata": {},
          "execution_count": 16
        }
      ]
    },
    {
      "cell_type": "code",
      "source": [
        "# Create a random tensor with similar shape to an image tensor\n",
        "random_image_size_tensor = torch.rand(size = (224, 224, 3))\n",
        "random_image_size_tensor.shape, random_image_size_tensor.ndim"
      ],
      "metadata": {
        "colab": {
          "base_uri": "https://localhost:8080/"
        },
        "id": "s_NQ78adgRQg",
        "outputId": "0133282d-2ada-424b-d154-ffddbbbcdb05"
      },
      "execution_count": 17,
      "outputs": [
        {
          "output_type": "execute_result",
          "data": {
            "text/plain": [
              "(torch.Size([224, 224, 3]), 3)"
            ]
          },
          "metadata": {},
          "execution_count": 17
        }
      ]
    },
    {
      "cell_type": "code",
      "source": [
        "# Create New Random Tensor\n",
        "Random_1 = torch.rand(size = (5,4,3))\n",
        "Random_1 , Random_1.ndim, Random_1.shape"
      ],
      "metadata": {
        "colab": {
          "base_uri": "https://localhost:8080/"
        },
        "id": "kcapYiewhGcT",
        "outputId": "8093f655-5e7b-42e6-ff06-5df99761667e"
      },
      "execution_count": 18,
      "outputs": [
        {
          "output_type": "execute_result",
          "data": {
            "text/plain": [
              "(tensor([[[0.6319, 0.8940, 0.6871],\n",
              "          [0.8515, 0.4159, 0.4781],\n",
              "          [0.3255, 0.9081, 0.3856],\n",
              "          [0.7981, 0.1113, 0.7264]],\n",
              " \n",
              "         [[0.8275, 0.1485, 0.8158],\n",
              "          [0.6807, 0.5552, 0.4569],\n",
              "          [0.0956, 0.2911, 0.3904],\n",
              "          [0.1633, 0.8803, 0.6333]],\n",
              " \n",
              "         [[0.9614, 0.4547, 0.3792],\n",
              "          [0.2251, 0.2594, 0.4721],\n",
              "          [0.8534, 0.1129, 0.0987],\n",
              "          [0.9028, 0.4824, 0.8845]],\n",
              " \n",
              "         [[0.6164, 0.2077, 0.3302],\n",
              "          [0.4808, 0.9881, 0.9408],\n",
              "          [0.3220, 0.4549, 0.4198],\n",
              "          [0.1803, 0.4718, 0.0425]],\n",
              " \n",
              "         [[0.1236, 0.8484, 0.8425],\n",
              "          [0.8669, 0.7867, 0.6386],\n",
              "          [0.4713, 0.6112, 0.1172],\n",
              "          [0.1374, 0.0573, 0.7877]]]),\n",
              " 3,\n",
              " torch.Size([5, 4, 3]))"
            ]
          },
          "metadata": {},
          "execution_count": 18
        }
      ]
    },
    {
      "cell_type": "markdown",
      "source": [
        "### 📕 Zeros and Ones\n",
        "\n",
        "\n",
        "🔖**Source Link:** https://pytorch.org/docs/stable/generated/torch.zeros.html\n",
        "\n",
        "🔖**Source Link:** https://pytorch.org/docs/stable/generated/torch.ones.html"
      ],
      "metadata": {
        "id": "WBSeuW-ohEDk"
      }
    },
    {
      "cell_type": "code",
      "source": [
        "# Create a tensor of all zeros\n",
        "Zeros = torch.zeros(size = (3,4))\n",
        "Zeros"
      ],
      "metadata": {
        "colab": {
          "base_uri": "https://localhost:8080/"
        },
        "id": "cbROK9zyhDBY",
        "outputId": "40d27193-6143-4fbe-e11b-d2106a3dac13"
      },
      "execution_count": 19,
      "outputs": [
        {
          "output_type": "execute_result",
          "data": {
            "text/plain": [
              "tensor([[0., 0., 0., 0.],\n",
              "        [0., 0., 0., 0.],\n",
              "        [0., 0., 0., 0.]])"
            ]
          },
          "metadata": {},
          "execution_count": 19
        }
      ]
    },
    {
      "cell_type": "code",
      "source": [
        "# Create a tensors of all ones\n",
        "ones = torch.ones(size = (4,5))\n",
        "ones"
      ],
      "metadata": {
        "colab": {
          "base_uri": "https://localhost:8080/"
        },
        "id": "w4NXQuCkiHTK",
        "outputId": "2163b97f-851b-469c-d94b-bc9bb8e17aec"
      },
      "execution_count": 20,
      "outputs": [
        {
          "output_type": "execute_result",
          "data": {
            "text/plain": [
              "tensor([[1., 1., 1., 1., 1.],\n",
              "        [1., 1., 1., 1., 1.],\n",
              "        [1., 1., 1., 1., 1.],\n",
              "        [1., 1., 1., 1., 1.]])"
            ]
          },
          "metadata": {},
          "execution_count": 20
        }
      ]
    },
    {
      "cell_type": "markdown",
      "source": [
        "### 📕Creating range of tensors and tenosr-like\n",
        "\n",
        "\n",
        "🔖**Source Link:** https://pytorch.org/docs/stable/generated/torch.arange.html\n",
        "\n",
        "\n",
        "🔖**Source Link:** https://pytorch.org/docs/stable/generated/torch.zeros_like.html"
      ],
      "metadata": {
        "id": "On-EwFQakWCi"
      }
    },
    {
      "cell_type": "code",
      "source": [
        "# Use torch.arange()\n",
        "one_to_ten = torch.arange(start = 1, end = 211, step = 2)\n",
        "one_to_ten"
      ],
      "metadata": {
        "colab": {
          "base_uri": "https://localhost:8080/"
        },
        "id": "LUHds0b8oo5K",
        "outputId": "e1917118-bd45-4c5a-d6ad-26e2211fda02"
      },
      "execution_count": 21,
      "outputs": [
        {
          "output_type": "execute_result",
          "data": {
            "text/plain": [
              "tensor([  1,   3,   5,   7,   9,  11,  13,  15,  17,  19,  21,  23,  25,  27,\n",
              "         29,  31,  33,  35,  37,  39,  41,  43,  45,  47,  49,  51,  53,  55,\n",
              "         57,  59,  61,  63,  65,  67,  69,  71,  73,  75,  77,  79,  81,  83,\n",
              "         85,  87,  89,  91,  93,  95,  97,  99, 101, 103, 105, 107, 109, 111,\n",
              "        113, 115, 117, 119, 121, 123, 125, 127, 129, 131, 133, 135, 137, 139,\n",
              "        141, 143, 145, 147, 149, 151, 153, 155, 157, 159, 161, 163, 165, 167,\n",
              "        169, 171, 173, 175, 177, 179, 181, 183, 185, 187, 189, 191, 193, 195,\n",
              "        197, 199, 201, 203, 205, 207, 209])"
            ]
          },
          "metadata": {},
          "execution_count": 21
        }
      ]
    },
    {
      "cell_type": "code",
      "source": [
        "# Creating tensors like\n",
        "ten_zeros = torch.zeros_like(input = one_to_ten)\n",
        "ten_zeros"
      ],
      "metadata": {
        "colab": {
          "base_uri": "https://localhost:8080/"
        },
        "id": "vWfFLdKDpN1W",
        "outputId": "ce195a4e-8825-4f57-c56b-cd77d87f9a77"
      },
      "execution_count": 22,
      "outputs": [
        {
          "output_type": "execute_result",
          "data": {
            "text/plain": [
              "tensor([0, 0, 0, 0, 0, 0, 0, 0, 0, 0, 0, 0, 0, 0, 0, 0, 0, 0, 0, 0, 0, 0, 0, 0,\n",
              "        0, 0, 0, 0, 0, 0, 0, 0, 0, 0, 0, 0, 0, 0, 0, 0, 0, 0, 0, 0, 0, 0, 0, 0,\n",
              "        0, 0, 0, 0, 0, 0, 0, 0, 0, 0, 0, 0, 0, 0, 0, 0, 0, 0, 0, 0, 0, 0, 0, 0,\n",
              "        0, 0, 0, 0, 0, 0, 0, 0, 0, 0, 0, 0, 0, 0, 0, 0, 0, 0, 0, 0, 0, 0, 0, 0,\n",
              "        0, 0, 0, 0, 0, 0, 0, 0, 0])"
            ]
          },
          "metadata": {},
          "execution_count": 22
        }
      ]
    },
    {
      "cell_type": "markdown",
      "source": [
        "### 📕Tensor Datatypes\n",
        "\n",
        "**🔑Note:** Tensor datatypes is one of the 3 big errors you will run into with Pytorch:\n",
        "1. Tensors not right datatype\n",
        "2. Tensors not right shape\n",
        "3. Tensors not on the right device"
      ],
      "metadata": {
        "id": "OlS4SBI7pqF8"
      }
    },
    {
      "cell_type": "code",
      "source": [
        "# Float 32 tensors\n",
        "float_32_tensor = torch.tensor([3.0, 6.0, 9.0],\n",
        "                               dtype = None,  # what datatype is the tensor\n",
        "                               device = None, # The device of the constructed tensor. If None and data is a tensor then the device of data is used. If None and data is not a tensor then the result tensor is constructed on the CPU.\n",
        "                               requires_grad = False # if need to fine gradient\n",
        "                               )\n",
        "float_32_tensor"
      ],
      "metadata": {
        "colab": {
          "base_uri": "https://localhost:8080/"
        },
        "id": "C2KLx5zUpjyC",
        "outputId": "37ce8bde-cfa4-4c9e-ef5b-36132d2d596b"
      },
      "execution_count": 23,
      "outputs": [
        {
          "output_type": "execute_result",
          "data": {
            "text/plain": [
              "tensor([3., 6., 9.])"
            ]
          },
          "metadata": {},
          "execution_count": 23
        }
      ]
    },
    {
      "cell_type": "code",
      "source": [
        "float_32_tensor.dtype"
      ],
      "metadata": {
        "colab": {
          "base_uri": "https://localhost:8080/"
        },
        "id": "hBpB-e6Lq8Ts",
        "outputId": "bb25427f-a68f-4fe7-c018-effd8222268e"
      },
      "execution_count": 24,
      "outputs": [
        {
          "output_type": "execute_result",
          "data": {
            "text/plain": [
              "torch.float32"
            ]
          },
          "metadata": {},
          "execution_count": 24
        }
      ]
    },
    {
      "cell_type": "code",
      "source": [
        "float_16_tensor = float_32_tensor.type(torch.float16)"
      ],
      "metadata": {
        "id": "yHJzWX2CrTHb"
      },
      "execution_count": 25,
      "outputs": []
    },
    {
      "cell_type": "code",
      "source": [
        "int_32_tensors = torch.tensor([3, 6, 9 ],\n",
        "                              dtype = torch.int32)\n",
        "int_32_tensors"
      ],
      "metadata": {
        "colab": {
          "base_uri": "https://localhost:8080/"
        },
        "id": "l39ZAUJwzENh",
        "outputId": "aa9f816c-c5ed-4cc1-8fec-80141ac02a7a"
      },
      "execution_count": 26,
      "outputs": [
        {
          "output_type": "execute_result",
          "data": {
            "text/plain": [
              "tensor([3, 6, 9], dtype=torch.int32)"
            ]
          },
          "metadata": {},
          "execution_count": 26
        }
      ]
    },
    {
      "cell_type": "code",
      "source": [
        "float_32_tensor * int_32_tensors"
      ],
      "metadata": {
        "colab": {
          "base_uri": "https://localhost:8080/"
        },
        "id": "P9_XNUEM0BCz",
        "outputId": "fb297434-e556-4102-cc21-2e8463361a5c"
      },
      "execution_count": 27,
      "outputs": [
        {
          "output_type": "execute_result",
          "data": {
            "text/plain": [
              "tensor([ 9., 36., 81.])"
            ]
          },
          "metadata": {},
          "execution_count": 27
        }
      ]
    },
    {
      "cell_type": "markdown",
      "source": [
        "### 📕 Tensor Attributes\n",
        "\n",
        "Getting Information from tensor\n",
        "\n",
        "1. Get datatype from a tensor can use`tensor.dtype`\n",
        "2. to get shape from a tensor can use `tensor.shape`\n",
        "3. to get device from a tensor, can use `tensor.device`"
      ],
      "metadata": {
        "id": "rsEp6Yfezn5A"
      }
    },
    {
      "cell_type": "code",
      "source": [
        "# create tensor\n",
        "some_tensor = torch.rand(size = (3, 4))\n",
        "some_tensor"
      ],
      "metadata": {
        "colab": {
          "base_uri": "https://localhost:8080/"
        },
        "id": "bb2TgDN60Xra",
        "outputId": "72e130fb-1e63-40b9-ccc0-16262cb36977"
      },
      "execution_count": 28,
      "outputs": [
        {
          "output_type": "execute_result",
          "data": {
            "text/plain": [
              "tensor([[0.6385, 0.4599, 0.7702, 0.2118],\n",
              "        [0.8991, 0.3652, 0.1355, 0.6931],\n",
              "        [0.3778, 0.6315, 0.1222, 0.2320]])"
            ]
          },
          "metadata": {},
          "execution_count": 28
        }
      ]
    },
    {
      "cell_type": "code",
      "source": [
        "# Print out details about some_tensor\n",
        "print(some_tensor)\n",
        "print(f\"Datatype of some_tensor is:{some_tensor.dtype}\")\n",
        "print(f\"Shape of some_tensor is:{some_tensor.shape}\")\n",
        "print(f\"device of some_tensor is:{some_tensor.device}\")"
      ],
      "metadata": {
        "colab": {
          "base_uri": "https://localhost:8080/"
        },
        "id": "6PFKCBt50_aZ",
        "outputId": "8cf82bcc-817b-4f89-d02e-3f3f0de47bfe"
      },
      "execution_count": 29,
      "outputs": [
        {
          "output_type": "stream",
          "name": "stdout",
          "text": [
            "tensor([[0.6385, 0.4599, 0.7702, 0.2118],\n",
            "        [0.8991, 0.3652, 0.1355, 0.6931],\n",
            "        [0.3778, 0.6315, 0.1222, 0.2320]])\n",
            "Datatype of some_tensor is:torch.float32\n",
            "Shape of some_tensor is:torch.Size([3, 4])\n",
            "device of some_tensor is:cpu\n"
          ]
        }
      ]
    },
    {
      "cell_type": "markdown",
      "source": [
        "### 📕 Manipulating Tensor\n",
        "\n",
        "Tensor Operations include:\n",
        "1. Addition\n",
        "2. subtraction\n",
        "3. Multiplication ( element-wise)\n",
        "4. Division \n",
        "5. Matrix multiplication\n",
        "\n",
        "\n",
        "There are two main rules that performing matrix multiplication needs to satisfy:\n",
        "1. The **inner dimensions** must match:\n",
        " * ` (3, 2) @ (3, 2) ` won't work\n",
        " *  `(2, 3) @ (3, 2) ` will work\n",
        " *  `(3, 2) @ (2, 3)` will work\n",
        "\n",
        "2. Resulting matrix has the shape of the **outer dimension**\n",
        " *  `(2, 3) @ (3, 2) ` -> `(2, 2)`\n",
        " *  `(3, 2) @ (2, 3)` -> `(3, 3)`"
      ],
      "metadata": {
        "id": "GOsmYY9D18BD"
      }
    },
    {
      "cell_type": "code",
      "source": [
        "# Create tensor\n",
        "tensor_A = torch.tensor([1, 2, 45])\n",
        "tensor_A + 12"
      ],
      "metadata": {
        "colab": {
          "base_uri": "https://localhost:8080/"
        },
        "id": "tsk8jNBt1s4R",
        "outputId": "74c87d3f-714e-45f9-aebc-91b3d5905b17"
      },
      "execution_count": 30,
      "outputs": [
        {
          "output_type": "execute_result",
          "data": {
            "text/plain": [
              "tensor([13, 14, 57])"
            ]
          },
          "metadata": {},
          "execution_count": 30
        }
      ]
    },
    {
      "cell_type": "code",
      "source": [
        "# Multiply tensor by 10\n",
        "tensor_A * 10"
      ],
      "metadata": {
        "colab": {
          "base_uri": "https://localhost:8080/"
        },
        "id": "xFksfMWm2mNj",
        "outputId": "b9e46652-87ab-48be-d65a-e74d8f75bf92"
      },
      "execution_count": 31,
      "outputs": [
        {
          "output_type": "execute_result",
          "data": {
            "text/plain": [
              "tensor([ 10,  20, 450])"
            ]
          },
          "metadata": {},
          "execution_count": 31
        }
      ]
    },
    {
      "cell_type": "code",
      "source": [
        "# Devision tensor by 10\n",
        "tensor_A / 10"
      ],
      "metadata": {
        "colab": {
          "base_uri": "https://localhost:8080/"
        },
        "id": "SxZmhaC92t81",
        "outputId": "ffd271b3-eb65-4547-b8ba-b6bf6f16ed6c"
      },
      "execution_count": 32,
      "outputs": [
        {
          "output_type": "execute_result",
          "data": {
            "text/plain": [
              "tensor([0.1000, 0.2000, 4.5000])"
            ]
          },
          "metadata": {},
          "execution_count": 32
        }
      ]
    },
    {
      "cell_type": "code",
      "source": [
        "# Subtraction tensor by 10\n",
        "tensor_A - 10"
      ],
      "metadata": {
        "colab": {
          "base_uri": "https://localhost:8080/"
        },
        "id": "vMuh_GMM22dj",
        "outputId": "21c0f03c-b90b-4ecc-882d-3bd0be07ddfe"
      },
      "execution_count": 33,
      "outputs": [
        {
          "output_type": "execute_result",
          "data": {
            "text/plain": [
              "tensor([-9, -8, 35])"
            ]
          },
          "metadata": {},
          "execution_count": 33
        }
      ]
    },
    {
      "cell_type": "code",
      "source": [
        "# Try out Pytorch in-built function\n",
        "torch.mul(tensor_A, 10)"
      ],
      "metadata": {
        "colab": {
          "base_uri": "https://localhost:8080/"
        },
        "id": "eOQVwKhf278J",
        "outputId": "076ecde8-565d-4349-9a70-84d99ef9ff56"
      },
      "execution_count": 34,
      "outputs": [
        {
          "output_type": "execute_result",
          "data": {
            "text/plain": [
              "tensor([ 10,  20, 450])"
            ]
          },
          "metadata": {},
          "execution_count": 34
        }
      ]
    },
    {
      "cell_type": "code",
      "source": [
        "torch.add(tensor_A , tensor_A)"
      ],
      "metadata": {
        "colab": {
          "base_uri": "https://localhost:8080/"
        },
        "id": "DDHMHGIT3GaC",
        "outputId": "c145f44e-d64d-43dd-8208-fb92e9ff2d26"
      },
      "execution_count": 35,
      "outputs": [
        {
          "output_type": "execute_result",
          "data": {
            "text/plain": [
              "tensor([ 2,  4, 90])"
            ]
          },
          "metadata": {},
          "execution_count": 35
        }
      ]
    },
    {
      "cell_type": "code",
      "source": [
        "# Create tensor_B\n",
        "tensor_B = torch.tensor([[3, 2, 45],\n",
        "                         [4, 5, 6],\n",
        "                         [5, 6, 10]])\n",
        "\n",
        "# Matirx Mutliplication\n",
        "torch.matmul(tensor_A, tensor_B)"
      ],
      "metadata": {
        "colab": {
          "base_uri": "https://localhost:8080/"
        },
        "id": "kvFjJPOS3MBH",
        "outputId": "ec972a6f-e3b9-4b10-9213-2febb23fda1e"
      },
      "execution_count": 36,
      "outputs": [
        {
          "output_type": "execute_result",
          "data": {
            "text/plain": [
              "tensor([236, 282, 507])"
            ]
          },
          "metadata": {},
          "execution_count": 36
        }
      ]
    },
    {
      "cell_type": "code",
      "source": [
        "# Shape Errors : when both has same dimension and try to do matrix multipication\n",
        "tensor_C = torch.tensor([[1,2],\n",
        "                         [3,4],\n",
        "                         [5,7]])\n",
        "\n",
        "tensor_D = torch.tensor([[3,5],\n",
        "                         [10,3],\n",
        "                         [5,6]])\n",
        "\n",
        "torch.mm(tensor_C, tensor_D.T) # did transpose of tensor_D"
      ],
      "metadata": {
        "colab": {
          "base_uri": "https://localhost:8080/"
        },
        "id": "tM4w2qwYAKG-",
        "outputId": "1f7e3d1c-cd58-4452-dbd6-57c2b9af95fc"
      },
      "execution_count": 37,
      "outputs": [
        {
          "output_type": "execute_result",
          "data": {
            "text/plain": [
              "tensor([[13, 16, 17],\n",
              "        [29, 42, 39],\n",
              "        [50, 71, 67]])"
            ]
          },
          "metadata": {},
          "execution_count": 37
        }
      ]
    },
    {
      "cell_type": "markdown",
      "source": [
        "### 📕 Tensor Aggregation\n",
        "1. Min\n",
        "2. Max\n",
        "3. Mean\n",
        "4. Sum\n"
      ],
      "metadata": {
        "id": "5urPWIrnNubg"
      }
    },
    {
      "cell_type": "code",
      "source": [
        "# Create a tensor\n",
        "X = torch.arange(0, 10, 3)\n",
        "X "
      ],
      "metadata": {
        "colab": {
          "base_uri": "https://localhost:8080/"
        },
        "id": "eruVgtrXLrSE",
        "outputId": "4a2105f4-85c4-4994-cce9-5ec858be8804"
      },
      "execution_count": 38,
      "outputs": [
        {
          "output_type": "execute_result",
          "data": {
            "text/plain": [
              "tensor([0, 3, 6, 9])"
            ]
          },
          "metadata": {},
          "execution_count": 38
        }
      ]
    },
    {
      "cell_type": "code",
      "source": [
        "# Find the Min\n",
        "torch.min(X)"
      ],
      "metadata": {
        "colab": {
          "base_uri": "https://localhost:8080/"
        },
        "id": "_uFwjeEpOPcd",
        "outputId": "d628ac4c-fc31-40ee-825e-005cb5ce989d"
      },
      "execution_count": 39,
      "outputs": [
        {
          "output_type": "execute_result",
          "data": {
            "text/plain": [
              "tensor(0)"
            ]
          },
          "metadata": {},
          "execution_count": 39
        }
      ]
    },
    {
      "cell_type": "code",
      "source": [
        "# Find the max\n",
        "torch.max(X)"
      ],
      "metadata": {
        "colab": {
          "base_uri": "https://localhost:8080/"
        },
        "id": "MqIZZsbzOVbz",
        "outputId": "2548601e-df15-49d9-fde9-254b5510ffbc"
      },
      "execution_count": 40,
      "outputs": [
        {
          "output_type": "execute_result",
          "data": {
            "text/plain": [
              "tensor(9)"
            ]
          },
          "metadata": {},
          "execution_count": 40
        }
      ]
    },
    {
      "cell_type": "code",
      "source": [
        "#Find the mean\n",
        "torch.mean(X.type(dtype = torch.float32))"
      ],
      "metadata": {
        "colab": {
          "base_uri": "https://localhost:8080/"
        },
        "id": "EpNO2HqhOZRe",
        "outputId": "fc468a40-38df-4131-b58b-63f245795786"
      },
      "execution_count": 41,
      "outputs": [
        {
          "output_type": "execute_result",
          "data": {
            "text/plain": [
              "tensor(4.5000)"
            ]
          },
          "metadata": {},
          "execution_count": 41
        }
      ]
    },
    {
      "cell_type": "code",
      "source": [
        "# Find the summ\n",
        "torch.sum(X)"
      ],
      "metadata": {
        "colab": {
          "base_uri": "https://localhost:8080/"
        },
        "id": "YY1oXqvdOvcA",
        "outputId": "f282e8f0-1ba0-48ea-988d-62885f52450d"
      },
      "execution_count": 42,
      "outputs": [
        {
          "output_type": "execute_result",
          "data": {
            "text/plain": [
              "tensor(18)"
            ]
          },
          "metadata": {},
          "execution_count": 42
        }
      ]
    },
    {
      "cell_type": "markdown",
      "source": [
        "### 📕 Positional min/max\n",
        "You can also find the index of a tensor where the max or minimum occurs with torch.argmax() and torch.argmin() respectively.\n",
        "\n",
        "This is helpful incase you just want the position where the highest (or lowest) value is and not the actual value itself (we'll see this in a later section when using the softmax activation function).\n"
      ],
      "metadata": {
        "id": "fSvXfoE-JV0e"
      }
    },
    {
      "cell_type": "code",
      "source": [
        "# Create a tensor\n",
        "tensor = torch.arange(10, 100, 10)\n",
        "print(f\"Tensor: {tensor}\")\n",
        "\n",
        "# Returns index of max and min values\n",
        "print(f\"Index where max value occurs: {tensor.argmax()}\")\n",
        "print(f\"Index where min value occurs: {tensor.argmin()}\")"
      ],
      "metadata": {
        "id": "OUK-WIDKJhol",
        "outputId": "baf689ef-013f-432c-ed4b-f9c395ddc51c",
        "colab": {
          "base_uri": "https://localhost:8080/"
        }
      },
      "execution_count": 43,
      "outputs": [
        {
          "output_type": "stream",
          "name": "stdout",
          "text": [
            "Tensor: tensor([10, 20, 30, 40, 50, 60, 70, 80, 90])\n",
            "Index where max value occurs: 8\n",
            "Index where min value occurs: 0\n"
          ]
        }
      ]
    },
    {
      "cell_type": "markdown",
      "source": [
        "### 📕 change tensor datatype\n",
        "As mentioned, a common issue with deep learning operations is having your tensors in different datatypes.\n",
        "\n",
        "If one tensor is in torch.float64 and another is in torch.float32, you might run into some errors.\n",
        "\n",
        "But there's a fix.\n",
        "\n",
        "You can change the datatypes of tensors using torch.Tensor.type(dtype=None) where the dtype parameter is the datatype you'd like to use.\n",
        "\n",
        "First we'll create a tensor and check it's datatype (the default is torch.float32)."
      ],
      "metadata": {
        "id": "yda5FjFbJw2m"
      }
    },
    {
      "cell_type": "code",
      "source": [
        "# Create a tensor and check its datatype\n",
        "tensor = torch.arange(10., 100., 10.)\n",
        "tensor.dtype"
      ],
      "metadata": {
        "id": "7_pKG1TUKtX0",
        "outputId": "7be02d27-327a-4b39-9b34-5d3822e0008d",
        "colab": {
          "base_uri": "https://localhost:8080/"
        }
      },
      "execution_count": 44,
      "outputs": [
        {
          "output_type": "execute_result",
          "data": {
            "text/plain": [
              "torch.float32"
            ]
          },
          "metadata": {},
          "execution_count": 44
        }
      ]
    },
    {
      "cell_type": "code",
      "source": [
        "# Create a float16 tensor\n",
        "tensor_float16 = tensor.type(torch.float16)\n",
        "tensor_float16"
      ],
      "metadata": {
        "id": "7WgoZRHZKxjW",
        "outputId": "c19baaba-c243-46c9-a58c-dbb315b57630",
        "colab": {
          "base_uri": "https://localhost:8080/"
        }
      },
      "execution_count": 45,
      "outputs": [
        {
          "output_type": "execute_result",
          "data": {
            "text/plain": [
              "tensor([10., 20., 30., 40., 50., 60., 70., 80., 90.], dtype=torch.float16)"
            ]
          },
          "metadata": {},
          "execution_count": 45
        }
      ]
    },
    {
      "cell_type": "code",
      "source": [
        "# Create a int8 tensor\n",
        "tensor_int8 = tensor.type(torch.int8)\n",
        "tensor_int8"
      ],
      "metadata": {
        "id": "mA9On7IRK6uY",
        "outputId": "75e4f67c-7145-45b4-9b37-8b6bc79d78b6",
        "colab": {
          "base_uri": "https://localhost:8080/"
        }
      },
      "execution_count": 46,
      "outputs": [
        {
          "output_type": "execute_result",
          "data": {
            "text/plain": [
              "tensor([10, 20, 30, 40, 50, 60, 70, 80, 90], dtype=torch.int8)"
            ]
          },
          "metadata": {},
          "execution_count": 46
        }
      ]
    },
    {
      "cell_type": "markdown",
      "source": [
        "\n",
        "\n",
        "> **Note:** Different datatypes can be confusing to begin with. But think of it like this, the lower the number (e.g. 32, 16, 8), the less precise a computer stores the value. And with a lower amount of storage, this generally results in faster computation and a smaller overall model. Mobile-based neural networks often operate with 8-bit integers, smaller and faster to run but less accurate than their float32 counterparts. For more on this, I'd read up about precision in computing).\n",
        "\n",
        "\n",
        "\n",
        ">**Exercise:** So far we've covered a fair few tensor methods but there's a bunch more in the torch.Tensor documentation, I'd recommend spending 10-minutes scrolling through and looking into any that catch your eye. Click on them and then write them out in code yourself to see what happens.\n"
      ],
      "metadata": {
        "id": "xU1Ut7fBLaYp"
      }
    },
    {
      "cell_type": "markdown",
      "source": [
        "### 📕Reshaping, stacking, squeezing and unsqueezing\n",
        "\n",
        "Often times you'll want to reshape or change the dimensions of your tensors without actually changing the values inside them.\n",
        "\n",
        "To do so, some popular methods are:\n",
        "\n",
        "| Method | One-line description |\n",
        "| ----- | ----- |\n",
        "| [`torch.reshape(input, shape)`](https://pytorch.org/docs/stable/generated/torch.reshape.html#torch.reshape) | Reshapes `input` to `shape` (if compatible), can also use `torch.Tensor.reshape()`. |\n",
        "| [`torch.Tensor.view(shape)`](https://pytorch.org/docs/stable/generated/torch.Tensor.view.html) | Returns a view of the original tensor in a different `shape` but shares the same data as the original tensor. |\n",
        "| [`torch.stack(tensors, dim=0)`](https://pytorch.org/docs/1.9.1/generated/torch.stack.html) | Concatenates a sequence of `tensors` along a new dimension (`dim`), all `tensors` must be same size. |\n",
        "| [`torch.squeeze(input)`](https://pytorch.org/docs/stable/generated/torch.squeeze.html) | Squeezes `input` to remove all the dimenions with value `1`. |\n",
        "| [`torch.unsqueeze(input, dim)`](https://pytorch.org/docs/1.9.1/generated/torch.unsqueeze.html) | Returns `input` with a dimension value of `1` added at `dim`. | \n",
        "| [`torch.permute(input, dims)`](https://pytorch.org/docs/stable/generated/torch.permute.html) | Returns a *view* of the original `input` with its dimensions permuted (rearranged) to `dims`. | \n",
        "\n",
        "Why do any of these?\n",
        "\n",
        "Because deep learning models (neural networks) are all about manipulating tensors in some way. And because of the rules of matrix multiplication, if you've got shape mismatches, you'll run into errors. These methods help you make the right elements of your tensors are mixing with the right elements of other tensors. \n",
        "\n",
        "Let's try them out.\n",
        "\n",
        "First, we'll create a tensor."
      ],
      "metadata": {
        "id": "WkwCYD-wLrsT"
      }
    },
    {
      "cell_type": "code",
      "source": [
        "# Create a tensor\n",
        "import torch\n",
        "x = torch.arange(1., 8.)\n",
        "x, x.shape"
      ],
      "metadata": {
        "id": "hhmcS58AMQoE",
        "outputId": "370955d9-1a23-43f5-9eb5-e5f32abbca16",
        "colab": {
          "base_uri": "https://localhost:8080/"
        }
      },
      "execution_count": 47,
      "outputs": [
        {
          "output_type": "execute_result",
          "data": {
            "text/plain": [
              "(tensor([1., 2., 3., 4., 5., 6., 7.]), torch.Size([7]))"
            ]
          },
          "metadata": {},
          "execution_count": 47
        }
      ]
    },
    {
      "cell_type": "code",
      "source": [
        "# Add an extra dimension\n",
        "x_reshaped = x.reshape(1, 7)\n",
        "x_reshaped, x_reshaped.shape"
      ],
      "metadata": {
        "id": "6WWBI_VYMURF",
        "outputId": "62222d2d-b0ca-4c20-d8b3-3f7d42a88760",
        "colab": {
          "base_uri": "https://localhost:8080/"
        }
      },
      "execution_count": 48,
      "outputs": [
        {
          "output_type": "execute_result",
          "data": {
            "text/plain": [
              "(tensor([[1., 2., 3., 4., 5., 6., 7.]]), torch.Size([1, 7]))"
            ]
          },
          "metadata": {},
          "execution_count": 48
        }
      ]
    },
    {
      "cell_type": "code",
      "source": [
        "# Change view (keeps same data as original but changes view)\n",
        "# See more: https://stackoverflow.com/a/54507446/7900723\n",
        "z = x.view(1, 7)\n",
        "z, z.shape"
      ],
      "metadata": {
        "id": "KJA1zlzjMcUo",
        "outputId": "111e7498-67c5-4f66-e5f7-72f46f495961",
        "colab": {
          "base_uri": "https://localhost:8080/"
        }
      },
      "execution_count": 49,
      "outputs": [
        {
          "output_type": "execute_result",
          "data": {
            "text/plain": [
              "(tensor([[1., 2., 3., 4., 5., 6., 7.]]), torch.Size([1, 7]))"
            ]
          },
          "metadata": {},
          "execution_count": 49
        }
      ]
    },
    {
      "cell_type": "code",
      "source": [
        "# Changing z changes x\n",
        "z[:, 0] = 5\n",
        "z, x"
      ],
      "metadata": {
        "id": "VockWtTxMf44",
        "outputId": "3c02a287-75fc-4e81-d26a-dc6a80030060",
        "colab": {
          "base_uri": "https://localhost:8080/"
        }
      },
      "execution_count": 50,
      "outputs": [
        {
          "output_type": "execute_result",
          "data": {
            "text/plain": [
              "(tensor([[5., 2., 3., 4., 5., 6., 7.]]), tensor([5., 2., 3., 4., 5., 6., 7.]))"
            ]
          },
          "metadata": {},
          "execution_count": 50
        }
      ]
    },
    {
      "cell_type": "code",
      "source": [
        "# Stack tensors on top of each other\n",
        "x_stacked = torch.stack([x, x, x, x], dim=0) # try changing dim to dim=1 and see what happens\n",
        "x_stacked"
      ],
      "metadata": {
        "id": "WfaYP1luMjbI",
        "outputId": "a23a6682-549a-47b3-b273-e363d878466a",
        "colab": {
          "base_uri": "https://localhost:8080/"
        }
      },
      "execution_count": 51,
      "outputs": [
        {
          "output_type": "execute_result",
          "data": {
            "text/plain": [
              "tensor([[5., 2., 3., 4., 5., 6., 7.],\n",
              "        [5., 2., 3., 4., 5., 6., 7.],\n",
              "        [5., 2., 3., 4., 5., 6., 7.],\n",
              "        [5., 2., 3., 4., 5., 6., 7.]])"
            ]
          },
          "metadata": {},
          "execution_count": 51
        }
      ]
    },
    {
      "cell_type": "code",
      "source": [
        "print(f\"Previous tensor: {x_reshaped}\")\n",
        "print(f\"Previous shape: {x_reshaped.shape}\")"
      ],
      "metadata": {
        "id": "feBdJ9u_Mnog",
        "outputId": "5d404284-681b-4255-fb3e-594a1b3ceb73",
        "colab": {
          "base_uri": "https://localhost:8080/"
        }
      },
      "execution_count": 52,
      "outputs": [
        {
          "output_type": "stream",
          "name": "stdout",
          "text": [
            "Previous tensor: tensor([[5., 2., 3., 4., 5., 6., 7.]])\n",
            "Previous shape: torch.Size([1, 7])\n"
          ]
        }
      ]
    },
    {
      "cell_type": "code",
      "source": [
        "# Remove extra dimension from x_reshaped\n",
        "x_squeezed = x_reshaped.squeeze()\n",
        "print(f\"\\nNew tensor: {x_squeezed}\")\n",
        "print(f\"New shape: {x_squeezed.shape}\")"
      ],
      "metadata": {
        "id": "Re0RlEohMrZT",
        "outputId": "aa64b1e2-fac7-49af-d90c-c38c06064464",
        "colab": {
          "base_uri": "https://localhost:8080/"
        }
      },
      "execution_count": 53,
      "outputs": [
        {
          "output_type": "stream",
          "name": "stdout",
          "text": [
            "\n",
            "New tensor: tensor([5., 2., 3., 4., 5., 6., 7.])\n",
            "New shape: torch.Size([7])\n"
          ]
        }
      ]
    },
    {
      "cell_type": "code",
      "source": [
        "print(f\"Previous tensor: {x_squeezed}\")\n",
        "print(f\"Previous shape: {x_squeezed.shape}\")"
      ],
      "metadata": {
        "id": "fcovI5IPMwBB",
        "outputId": "12945f84-d62b-495d-c157-ff13c645c163",
        "colab": {
          "base_uri": "https://localhost:8080/"
        }
      },
      "execution_count": 54,
      "outputs": [
        {
          "output_type": "stream",
          "name": "stdout",
          "text": [
            "Previous tensor: tensor([5., 2., 3., 4., 5., 6., 7.])\n",
            "Previous shape: torch.Size([7])\n"
          ]
        }
      ]
    },
    {
      "cell_type": "code",
      "source": [
        "## Add an extra dimension with unsqueeze\n",
        "x_unsqueezed = x_squeezed.unsqueeze(dim=0)\n",
        "print(f\"\\nNew tensor: {x_unsqueezed}\")\n",
        "print(f\"New shape: {x_unsqueezed.shape}\")"
      ],
      "metadata": {
        "id": "cyYZS5CBMydl",
        "outputId": "90603611-ce0e-4f27-9170-f85635579f41",
        "colab": {
          "base_uri": "https://localhost:8080/"
        }
      },
      "execution_count": 55,
      "outputs": [
        {
          "output_type": "stream",
          "name": "stdout",
          "text": [
            "\n",
            "New tensor: tensor([[5., 2., 3., 4., 5., 6., 7.]])\n",
            "New shape: torch.Size([1, 7])\n"
          ]
        }
      ]
    },
    {
      "cell_type": "code",
      "source": [
        "# Create tensor with specific shape\n",
        "x_original = torch.rand(size=(224, 224, 3))\n",
        "\n",
        "# Permute the original tensor to rearrange the axis order\n",
        "x_permuted = x_original.permute(2, 0, 1) # shifts axis 0->1, 1->2, 2->0"
      ],
      "metadata": {
        "id": "Ju9UsYxXM26S"
      },
      "execution_count": 56,
      "outputs": []
    },
    {
      "cell_type": "code",
      "source": [
        "print(f\"Previous shape: {x_original.shape}\")\n",
        "print(f\"New shape: {x_permuted.shape}\")"
      ],
      "metadata": {
        "id": "r8-Tty6dM6sA",
        "outputId": "44cca783-9b5a-4828-e2f0-84872183f75d",
        "colab": {
          "base_uri": "https://localhost:8080/"
        }
      },
      "execution_count": 57,
      "outputs": [
        {
          "output_type": "stream",
          "name": "stdout",
          "text": [
            "Previous shape: torch.Size([224, 224, 3])\n",
            "New shape: torch.Size([3, 224, 224])\n"
          ]
        }
      ]
    },
    {
      "cell_type": "markdown",
      "source": [
        "## 📕 Indexing (selecting data from tensors)\n",
        "\n",
        "Sometimes you'll want to select specific data from tensors (for example, only the first column or second row).\n",
        "\n",
        "To do so, you can use indexing.\n",
        "\n",
        "If you've ever done indexing on Python lists or NumPy arrays, indexing in PyTorch with tensors is very similar."
      ],
      "metadata": {
        "id": "fx2J97OnNYtB"
      }
    },
    {
      "cell_type": "code",
      "source": [
        "# Create a tensor \n",
        "import torch\n",
        "x = torch.arange(1, 10).reshape(1, 3, 3)\n",
        "x, x.shape"
      ],
      "metadata": {
        "id": "bH8G1aRmNAPJ",
        "outputId": "a4e2faf2-b21b-4443-d1f0-18f34feef17b",
        "colab": {
          "base_uri": "https://localhost:8080/"
        }
      },
      "execution_count": 58,
      "outputs": [
        {
          "output_type": "execute_result",
          "data": {
            "text/plain": [
              "(tensor([[[1, 2, 3],\n",
              "          [4, 5, 6],\n",
              "          [7, 8, 9]]]),\n",
              " torch.Size([1, 3, 3]))"
            ]
          },
          "metadata": {},
          "execution_count": 58
        }
      ]
    },
    {
      "cell_type": "code",
      "source": [
        "# Let's index bracket by bracket\n",
        "print(f\"First square bracket:\\n{x[0]}\") \n",
        "print(f\"Second square bracket: {x[0][0]}\") \n",
        "print(f\"Third square bracket: {x[0][0][0]}\")"
      ],
      "metadata": {
        "id": "_ouHx9FuNF6r",
        "outputId": "4b3f5db7-25d0-42d6-b89f-511b827652cc",
        "colab": {
          "base_uri": "https://localhost:8080/"
        }
      },
      "execution_count": 59,
      "outputs": [
        {
          "output_type": "stream",
          "name": "stdout",
          "text": [
            "First square bracket:\n",
            "tensor([[1, 2, 3],\n",
            "        [4, 5, 6],\n",
            "        [7, 8, 9]])\n",
            "Second square bracket: tensor([1, 2, 3])\n",
            "Third square bracket: 1\n"
          ]
        }
      ]
    },
    {
      "cell_type": "code",
      "source": [
        "# Get all values of 0th dimension and the 0 index of 1st dimension\n",
        "x[:, 0]"
      ],
      "metadata": {
        "id": "Zsa7HNodNiFl",
        "outputId": "add935b6-7031-4c3d-8a6a-c70ee46b0bb9",
        "colab": {
          "base_uri": "https://localhost:8080/"
        }
      },
      "execution_count": 60,
      "outputs": [
        {
          "output_type": "execute_result",
          "data": {
            "text/plain": [
              "tensor([[1, 2, 3]])"
            ]
          },
          "metadata": {},
          "execution_count": 60
        }
      ]
    },
    {
      "cell_type": "code",
      "source": [
        "# Get all values of 0th & 1st dimensions but only index 1 of 2nd dimension\n",
        "x[:, :, 1]"
      ],
      "metadata": {
        "id": "VbSZ46FiNgaU",
        "outputId": "f6ba1506-aeb4-4ca4-c7c5-0fec6f4fa625",
        "colab": {
          "base_uri": "https://localhost:8080/"
        }
      },
      "execution_count": 61,
      "outputs": [
        {
          "output_type": "execute_result",
          "data": {
            "text/plain": [
              "tensor([[2, 5, 8]])"
            ]
          },
          "metadata": {},
          "execution_count": 61
        }
      ]
    },
    {
      "cell_type": "code",
      "source": [
        "# Get all values of the 0 dimension but only the 1 index value of the 1st and 2nd dimension\n",
        "x[:, 1, 1]"
      ],
      "metadata": {
        "id": "jogQhe3wNkr0",
        "outputId": "6198e099-9881-4788-e6f7-7396867a179a",
        "colab": {
          "base_uri": "https://localhost:8080/"
        }
      },
      "execution_count": 62,
      "outputs": [
        {
          "output_type": "execute_result",
          "data": {
            "text/plain": [
              "tensor([5])"
            ]
          },
          "metadata": {},
          "execution_count": 62
        }
      ]
    },
    {
      "cell_type": "code",
      "source": [
        "# Get index 0 of 0th and 1st dimension and all values of 2nd dimension \n",
        "x[0, 0, :] # same as x[0][0]"
      ],
      "metadata": {
        "id": "90Ve3xrSNqnr",
        "outputId": "8c221ae9-ddf8-40b4-b49e-d09bacc9ecfe",
        "colab": {
          "base_uri": "https://localhost:8080/"
        }
      },
      "execution_count": 63,
      "outputs": [
        {
          "output_type": "execute_result",
          "data": {
            "text/plain": [
              "tensor([1, 2, 3])"
            ]
          },
          "metadata": {},
          "execution_count": 63
        }
      ]
    },
    {
      "cell_type": "markdown",
      "source": [
        "### 📕 PyTorch tensors & NumPy\n",
        "\n",
        "Since NumPy is a popular Python numerical computing library, PyTorch has functionality to interact with it nicely.  \n",
        "\n",
        "The two main methods you'll want to use for NumPy to PyTorch (and back again) are: \n",
        "* [`torch.from_numpy(ndarray)`](https://pytorch.org/docs/stable/generated/torch.from_numpy.html) - NumPy array -> PyTorch tensor. \n",
        "* [`torch.Tensor.numpy()`](https://pytorch.org/docs/stable/generated/torch.Tensor.numpy.html) - PyTorch tensor -> NumPy array.\n",
        "\n",
        "Let's try them out."
      ],
      "metadata": {
        "id": "Vp0goG7XNvhD"
      }
    },
    {
      "cell_type": "code",
      "source": [
        "# NumPy array to tensor\n",
        "import torch\n",
        "import numpy as np\n",
        "array = np.arange(1.0, 8.0)\n",
        "tensor = torch.from_numpy(array)\n",
        "array, tensor"
      ],
      "metadata": {
        "id": "6f1cjdneN1Jd",
        "outputId": "cda90227-5c5b-4e3c-8379-4c0060335501",
        "colab": {
          "base_uri": "https://localhost:8080/"
        }
      },
      "execution_count": 64,
      "outputs": [
        {
          "output_type": "execute_result",
          "data": {
            "text/plain": [
              "(array([1., 2., 3., 4., 5., 6., 7.]),\n",
              " tensor([1., 2., 3., 4., 5., 6., 7.], dtype=torch.float64))"
            ]
          },
          "metadata": {},
          "execution_count": 64
        }
      ]
    },
    {
      "cell_type": "code",
      "source": [
        "# Change the array, keep the tensor\n",
        "array = array + 1\n",
        "array, tensor"
      ],
      "metadata": {
        "id": "kWTrWz1KN5dK",
        "outputId": "7fd3faae-b5b0-4c5f-d357-fe26f8571c8e",
        "colab": {
          "base_uri": "https://localhost:8080/"
        }
      },
      "execution_count": 65,
      "outputs": [
        {
          "output_type": "execute_result",
          "data": {
            "text/plain": [
              "(array([2., 3., 4., 5., 6., 7., 8.]),\n",
              " tensor([1., 2., 3., 4., 5., 6., 7.], dtype=torch.float64))"
            ]
          },
          "metadata": {},
          "execution_count": 65
        }
      ]
    },
    {
      "cell_type": "code",
      "source": [
        "# Tensor to NumPy array\n",
        "tensor = torch.ones(7) # create a tensor of ones with dtype=float32\n",
        "numpy_tensor = tensor.numpy() # will be dtype=float32 unless changed\n",
        "tensor, numpy_tensor"
      ],
      "metadata": {
        "id": "WB4PKWJIN-0M",
        "outputId": "d0999346-163a-4376-8bac-67cee99f0871",
        "colab": {
          "base_uri": "https://localhost:8080/"
        }
      },
      "execution_count": 66,
      "outputs": [
        {
          "output_type": "execute_result",
          "data": {
            "text/plain": [
              "(tensor([1., 1., 1., 1., 1., 1., 1.]),\n",
              " array([1., 1., 1., 1., 1., 1., 1.], dtype=float32))"
            ]
          },
          "metadata": {},
          "execution_count": 66
        }
      ]
    },
    {
      "cell_type": "code",
      "source": [
        "# Change the tensor, keep the array the same\n",
        "tensor = tensor + 1\n",
        "tensor, numpy_tensor"
      ],
      "metadata": {
        "id": "kGDN2YyxOz4O",
        "outputId": "59881d32-575c-4203-e20f-2e163716fd83",
        "colab": {
          "base_uri": "https://localhost:8080/"
        }
      },
      "execution_count": 67,
      "outputs": [
        {
          "output_type": "execute_result",
          "data": {
            "text/plain": [
              "(tensor([2., 2., 2., 2., 2., 2., 2.]),\n",
              " array([1., 1., 1., 1., 1., 1., 1.], dtype=float32))"
            ]
          },
          "metadata": {},
          "execution_count": 67
        }
      ]
    },
    {
      "cell_type": "markdown",
      "source": [
        "### 📕 Reproducibility (trying to take the random out of random)\n",
        "\n",
        "As you learn more about neural networks and machine learning, you'll start to discover how much randomness plays a part.\n",
        "\n",
        "Well, pseudorandomness that is. Because after all, as they're designed, a computer is fundamentally deterministic (each step is predictable) so the randomness they create are simulated randomness (though there is debate on this too, but since I'm not a computer scientist, I'll let you find out more yourself).\n",
        "\n",
        "How does this relate to neural networks and deep learning then?\n",
        "\n",
        "We've discussed neural networks start with random numbers to describe patterns in data (these numbers are poor descriptions) and try to improve those random numbers using tensor operations (and a few other things we haven't discussed yet) to better describe patterns in data.\n",
        "\n",
        "In short: \n",
        "\n",
        "``start with random numbers -> tensor operations -> try to make better (again and again and again)``\n",
        "\n",
        "Although randomness is nice and powerful, sometimes you'd like there to be a little less randomness.\n",
        "\n",
        "Why?\n",
        "\n",
        "So you can perform repeatable experiments.\n",
        "\n",
        "For example, you create an algorithm capable of achieving X performance.\n",
        "\n",
        "And then your friend tries it out to verify you're not crazy.\n",
        "\n",
        "How could they do such a thing?\n",
        "\n",
        "That's where **reproducibility** comes in.\n",
        "\n",
        "In other words, can you get the same (or very similar) results on your computer running the same code as I get on mine?\n",
        "\n",
        "Let's see a brief example of reproducibility in PyTorch.\n",
        "\n",
        "We'll start by creating two random tensors, since they're random, you'd expect them to be different right? "
      ],
      "metadata": {
        "id": "U31MhqzqONkQ"
      }
    },
    {
      "cell_type": "code",
      "source": [
        "RANDOM_SEED = 42\n",
        "\n",
        "torch.manual_seed(RANDOM_SEED)\n",
        "random_tensor_A = torch.rand(3,3)\n",
        "\n",
        "torch.manual_seed(RANDOM_SEED)\n",
        "random_tensor_B = torch.rand(3,3)\n",
        "\n",
        "print(random_tensor_A)\n",
        "print(random_tensor_B)\n",
        "print(random_tensor_A == random_tensor_B)"
      ],
      "metadata": {
        "id": "2bZ-q9h6OSCJ",
        "outputId": "76897b3f-30e0-4b08-fd32-1319e1dc395b",
        "colab": {
          "base_uri": "https://localhost:8080/"
        }
      },
      "execution_count": 68,
      "outputs": [
        {
          "output_type": "stream",
          "name": "stdout",
          "text": [
            "tensor([[0.8823, 0.9150, 0.3829],\n",
            "        [0.9593, 0.3904, 0.6009],\n",
            "        [0.2566, 0.7936, 0.9408]])\n",
            "tensor([[0.8823, 0.9150, 0.3829],\n",
            "        [0.9593, 0.3904, 0.6009],\n",
            "        [0.2566, 0.7936, 0.9408]])\n",
            "tensor([[True, True, True],\n",
            "        [True, True, True],\n",
            "        [True, True, True]])\n"
          ]
        }
      ]
    },
    {
      "cell_type": "markdown",
      "source": [
        "## Running tensors and Pytorch objexts on the GPUS (making faster computations !!!)"
      ],
      "metadata": {
        "id": "myo7qjQvpwM_"
      }
    },
    {
      "cell_type": "markdown",
      "source": [
        "# Getting a GPU"
      ],
      "metadata": {
        "id": "40fy_4-BroP7"
      }
    },
    {
      "cell_type": "code",
      "source": [
        "!nvidia-smi"
      ],
      "metadata": {
        "id": "1vbifBT0p5SE",
        "outputId": "8261705b-4ea4-468f-d6de-34a5d12a1079",
        "colab": {
          "base_uri": "https://localhost:8080/"
        }
      },
      "execution_count": 69,
      "outputs": [
        {
          "output_type": "stream",
          "name": "stdout",
          "text": [
            "Sun Apr  2 16:43:53 2023       \n",
            "+-----------------------------------------------------------------------------+\n",
            "| NVIDIA-SMI 525.85.12    Driver Version: 525.85.12    CUDA Version: 12.0     |\n",
            "|-------------------------------+----------------------+----------------------+\n",
            "| GPU  Name        Persistence-M| Bus-Id        Disp.A | Volatile Uncorr. ECC |\n",
            "| Fan  Temp  Perf  Pwr:Usage/Cap|         Memory-Usage | GPU-Util  Compute M. |\n",
            "|                               |                      |               MIG M. |\n",
            "|===============================+======================+======================|\n",
            "|   0  Tesla T4            Off  | 00000000:00:04.0 Off |                    0 |\n",
            "| N/A   43C    P8     9W /  70W |      0MiB / 15360MiB |      0%      Default |\n",
            "|                               |                      |                  N/A |\n",
            "+-------------------------------+----------------------+----------------------+\n",
            "                                                                               \n",
            "+-----------------------------------------------------------------------------+\n",
            "| Processes:                                                                  |\n",
            "|  GPU   GI   CI        PID   Type   Process name                  GPU Memory |\n",
            "|        ID   ID                                                   Usage      |\n",
            "|=============================================================================|\n",
            "|  No running processes found                                                 |\n",
            "+-----------------------------------------------------------------------------+\n"
          ]
        }
      ]
    },
    {
      "cell_type": "markdown",
      "source": [
        "# Check for GPU access with PyTorch"
      ],
      "metadata": {
        "id": "2ISCNwclvjtt"
      }
    },
    {
      "cell_type": "code",
      "source": [
        "torch.cuda.is_available()"
      ],
      "metadata": {
        "id": "kRu7-qYivh6P",
        "outputId": "f01382a6-cc1e-4817-f381-64e8b445516d",
        "colab": {
          "base_uri": "https://localhost:8080/"
        }
      },
      "execution_count": 70,
      "outputs": [
        {
          "output_type": "execute_result",
          "data": {
            "text/plain": [
              "True"
            ]
          },
          "metadata": {},
          "execution_count": 70
        }
      ]
    },
    {
      "cell_type": "code",
      "source": [
        "# Setup device agnostic code\n",
        "\n",
        "device = \"cuda\" if torch.cuda.is_available() else \"cpu\"\n",
        "device"
      ],
      "metadata": {
        "id": "NyJdYQ9vv7ll",
        "outputId": "e4ccf313-2123-4590-9dd1-9419f575aaf7",
        "colab": {
          "base_uri": "https://localhost:8080/",
          "height": 35
        }
      },
      "execution_count": 71,
      "outputs": [
        {
          "output_type": "execute_result",
          "data": {
            "text/plain": [
              "'cuda'"
            ],
            "application/vnd.google.colaboratory.intrinsic+json": {
              "type": "string"
            }
          },
          "metadata": {},
          "execution_count": 71
        }
      ]
    },
    {
      "cell_type": "code",
      "source": [
        "# count no of device\n",
        "torch.cuda.device_count()"
      ],
      "metadata": {
        "id": "tJ35TasMwUMW",
        "outputId": "81121276-8eb2-4d3f-8c71-224e5a2ed2db",
        "colab": {
          "base_uri": "https://localhost:8080/"
        }
      },
      "execution_count": 72,
      "outputs": [
        {
          "output_type": "execute_result",
          "data": {
            "text/plain": [
              "1"
            ]
          },
          "metadata": {},
          "execution_count": 72
        }
      ]
    },
    {
      "cell_type": "markdown",
      "source": [
        "## Putting tensors(and models ) on the GPU"
      ],
      "metadata": {
        "id": "i5kgx8eOxZZc"
      }
    },
    {
      "cell_type": "code",
      "source": [
        "# create a tensor ( default on the GPU)\n",
        "tensor = torch.tensor([1,2,3])\n",
        "\n",
        "print(tensor, tensor.device)"
      ],
      "metadata": {
        "id": "ane31OtExfMQ",
        "outputId": "bf31a002-008f-4528-fc63-df2d5bf10a75",
        "colab": {
          "base_uri": "https://localhost:8080/"
        }
      },
      "execution_count": 73,
      "outputs": [
        {
          "output_type": "stream",
          "name": "stdout",
          "text": [
            "tensor([1, 2, 3]) cpu\n"
          ]
        }
      ]
    },
    {
      "cell_type": "code",
      "source": [
        "# Move tensor to GPU ( if available)\n",
        "tensor_gpu = tensor.to(device)\n",
        "print(tensor_gpu)"
      ],
      "metadata": {
        "id": "6tQmD-jLxsjT",
        "outputId": "3add5d1d-411b-4503-c92e-7e55f8cecf94",
        "colab": {
          "base_uri": "https://localhost:8080/"
        }
      },
      "execution_count": 74,
      "outputs": [
        {
          "output_type": "stream",
          "name": "stdout",
          "text": [
            "tensor([1, 2, 3], device='cuda:0')\n"
          ]
        }
      ]
    },
    {
      "cell_type": "code",
      "source": [
        "# Moving tensor back to GPU\n",
        "\n",
        "tensor = tensor_gpu.cpu()\n",
        "tensor.numpy()"
      ],
      "metadata": {
        "id": "StfaoEi5x_mJ",
        "outputId": "18441534-a502-4b74-ecc8-4f86953ea823",
        "colab": {
          "base_uri": "https://localhost:8080/"
        }
      },
      "execution_count": 75,
      "outputs": [
        {
          "output_type": "execute_result",
          "data": {
            "text/plain": [
              "array([1, 2, 3])"
            ]
          },
          "metadata": {},
          "execution_count": 75
        }
      ]
    },
    {
      "cell_type": "markdown",
      "source": [
        "# Excercise and Extra Curriculm"
      ],
      "metadata": {
        "id": "A0XZodXI22rc"
      }
    },
    {
      "cell_type": "markdown",
      "source": [
        "**1. Documentation reading**\n",
        "\n",
        "> A big part of deep learning (and learning to code in general) is getting familiar with the documentation of a certain framework you're using. We'll be using the PyTorch documentation a lot throughout the rest of this course. So I'd recommend spending 10-minutes reading the following (it's okay if you don't get some things for now, the focus is not yet full understanding, it's awareness):\n",
        "\n",
        "\n",
        "\n",
        "\n",
        "*   The documentation on [torch.Tensor](https://pytorch.org/docs/stable/tensors.html#torch-tensor).\n",
        "*  The documentation on [torch.cuda](https://pytorch.org/docs/master/notes/cuda.html#cuda-semantics)."
      ],
      "metadata": {
        "id": "v1RynNax4DL-"
      }
    },
    {
      "cell_type": "code",
      "source": [],
      "metadata": {
        "id": "irM-I4Nh4FLu"
      },
      "execution_count": null,
      "outputs": []
    }
  ]
}