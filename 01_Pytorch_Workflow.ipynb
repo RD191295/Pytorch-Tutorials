{
  "nbformat": 4,
  "nbformat_minor": 0,
  "metadata": {
    "colab": {
      "provenance": [],
      "authorship_tag": "ABX9TyPqZFOq6IH1J3Km1YF+5tkR",
      "include_colab_link": true
    },
    "kernelspec": {
      "name": "python3",
      "display_name": "Python 3"
    },
    "language_info": {
      "name": "python"
    }
  },
  "cells": [
    {
      "cell_type": "markdown",
      "metadata": {
        "id": "view-in-github",
        "colab_type": "text"
      },
      "source": [
        "<a href=\"https://colab.research.google.com/github/RD191295/Pytorch-Tutorials/blob/main/01_Pytorch_Workflow.ipynb\" target=\"_parent\"><img src=\"https://colab.research.google.com/assets/colab-badge.svg\" alt=\"Open In Colab\"/></a>"
      ]
    },
    {
      "cell_type": "markdown",
      "source": [
        "## Pytorch WorkFlow\n",
        "\n",
        "Let's explore a an example Pytorch end-to-end workflow.\n",
        "\n",
        "1. Data Prepare and Load\n",
        "2. Build Model\n",
        "3. Fitting the model to data (training)\n",
        "4. Making predictions and evaluting a model (inference)\n",
        "5. Saving and loading a model\n",
        "6. Putting at all together"
      ],
      "metadata": {
        "id": "2c_9BYjpHFXe"
      }
    },
    {
      "cell_type": "code",
      "source": [
        "import torch\n",
        "from torch import nn # nn contains all of pytorch's all building block of nerual network\n",
        "import matplotlib.pyplot as plt\n",
        "\n",
        "\n",
        "# check Pytorch version\n",
        "torch.__version__"
      ],
      "metadata": {
        "colab": {
          "base_uri": "https://localhost:8080/",
          "height": 36
        },
        "id": "dHay3hJlMN0I",
        "outputId": "97f324d0-9dad-4b0f-9a77-4db99bd1f076"
      },
      "execution_count": 1,
      "outputs": [
        {
          "output_type": "execute_result",
          "data": {
            "text/plain": [
              "'2.0.0+cu118'"
            ],
            "application/vnd.google.colaboratory.intrinsic+json": {
              "type": "string"
            }
          },
          "metadata": {},
          "execution_count": 1
        }
      ]
    },
    {
      "cell_type": "markdown",
      "source": [
        "## 1. Data(Preparing and Loading)\n",
        "\n",
        "<li>Data Can be almost anything Like:</li>\n",
        "\n",
        "* Excel Speadsheet,csv\n",
        "* Images of any kind\n",
        "* Videos\n",
        "* Audio like songs or podcasts\n",
        "* DNA\n",
        "* Text\n",
        "\n",
        "Machine Learning is a game of two parts:\n",
        "1. Get Data  into a numerical representation.\n",
        "2. Build Model to learn patterns in that numerical representation."
      ],
      "metadata": {
        "id": "z-cnnYmONHus"
      }
    },
    {
      "cell_type": "code",
      "source": [
        "# CREATE *Known* parameters\n",
        "weight = 0.7\n",
        "bias = 0.3\n",
        "\n",
        "# Create Data\n",
        "start = 0\n",
        "end = 1\n",
        "step = 0.02\n",
        "\n",
        "# define X and Y\n",
        "X = torch.arange(start, end, step).unsqueeze(dim = 1)\n",
        "Y = weight * X + bias\n",
        "\n",
        "X[:10],Y[:10]"
      ],
      "metadata": {
        "colab": {
          "base_uri": "https://localhost:8080/"
        },
        "id": "0IIKuOQ8NK5l",
        "outputId": "c5ae3fbc-59bd-4cff-c5e1-c47e7040e387"
      },
      "execution_count": 2,
      "outputs": [
        {
          "output_type": "execute_result",
          "data": {
            "text/plain": [
              "(tensor([[0.0000],\n",
              "         [0.0200],\n",
              "         [0.0400],\n",
              "         [0.0600],\n",
              "         [0.0800],\n",
              "         [0.1000],\n",
              "         [0.1200],\n",
              "         [0.1400],\n",
              "         [0.1600],\n",
              "         [0.1800]]),\n",
              " tensor([[0.3000],\n",
              "         [0.3140],\n",
              "         [0.3280],\n",
              "         [0.3420],\n",
              "         [0.3560],\n",
              "         [0.3700],\n",
              "         [0.3840],\n",
              "         [0.3980],\n",
              "         [0.4120],\n",
              "         [0.4260]]))"
            ]
          },
          "metadata": {},
          "execution_count": 2
        }
      ]
    },
    {
      "cell_type": "markdown",
      "source": [
        "### Spliting the data into training and test sets"
      ],
      "metadata": {
        "id": "XmZX_SdhPpoW"
      }
    },
    {
      "cell_type": "code",
      "source": [
        "# create a train/test split\n",
        "\n",
        "train_split = int(0.8 * len(X))\n",
        "X_train, y_train = X[:train_split], Y[:train_split]\n",
        "X_test, y_test = X[train_split:],Y[train_split:]"
      ],
      "metadata": {
        "id": "Qxsy7PCYPZ4S"
      },
      "execution_count": 4,
      "outputs": []
    },
    {
      "cell_type": "markdown",
      "source": [
        "## Visualizing Data !!!"
      ],
      "metadata": {
        "id": "8klCf_9nRnQT"
      }
    },
    {
      "cell_type": "code",
      "source": [
        "def plot_predictions(train_data = X_train,\n",
        "                      train_labels = y_train,\n",
        "                      test_data = X_test,\n",
        "                      test_labels = y_test,\n",
        "                      predictions = None):\n",
        "  \n",
        "  plt.figure(figsize = (10,7))\n",
        "\n",
        "  #plot training data in blue\n",
        "  plt.scatter(train_data, train_labels, c=\"b\", label = \"Training Data\")\n",
        "  \n",
        "  #plot testing data in green\n",
        "  plt.scatter(test_data, test_labels, c=\"g\", label = \"Testing Data\")\n",
        "\n",
        "  # Are there predictions\n",
        "  if predictions is not None:\n",
        "    # plot predictions if they exist\n",
        "    plt.scatter(test_data, predictions, c=\"r\", label = \"Predictions\")\n",
        "\n",
        "  \n",
        "  plt.legend(prop = {\"size\":14})\n"
      ],
      "metadata": {
        "id": "tCKZuHXWQ-Dh"
      },
      "execution_count": 7,
      "outputs": []
    },
    {
      "cell_type": "code",
      "source": [
        "plot_predictions()"
      ],
      "metadata": {
        "colab": {
          "base_uri": "https://localhost:8080/",
          "height": 599
        },
        "id": "3YoS12vxS1im",
        "outputId": "38a2a3e2-338c-4cc8-9636-39e06586f2ae"
      },
      "execution_count": 8,
      "outputs": [
        {
          "output_type": "display_data",
          "data": {
            "text/plain": [
              "<Figure size 1000x700 with 1 Axes>"
            ],
            "image/png": "[encoded data removed]"
          },
          "metadata": {}
        }
      ]
    },
    {
      "cell_type": "markdown",
      "source": [
        "## 2. Buid Model\n",
        "\n"
      ],
      "metadata": {
        "id": "IRsJAoM0ip6T"
      }
    },
    {
      "cell_type": "code",
      "source": [
        "class LinearRegression(nn.Module):\n",
        "  def __init__(self):\n",
        "    super.__init__()\n",
        "    self.weight = nn.Parameter(torch.randn(1,\n",
        "                                           require_grad = True,\n",
        "                                           dtype = torch.float))\n",
        "    self.bias = nn.Parameter(torch.randn(1,\n",
        "                                         require_grad = True,\n",
        "                                         dtype = torch.float))\n",
        "    \n",
        "  # forward method to define compution in the model\n",
        "  def forward(self, x: torch.Tensor):\n",
        "    return self.weights*x + self.bias # this is linear regression formula\n",
        "\n",
        "\n",
        "  #\n",
        "  d"
      ],
      "metadata": {
        "id": "t3-NZcnci-l7"
      },
      "execution_count": null,
      "outputs": []
    }
  ]
}