{
  "nbformat": 4,
  "nbformat_minor": 0,
  "metadata": {
    "colab": {
      "provenance": [],
      "authorship_tag": "ABX9TyMGa2l/IA0w4WkXXm0aGLVL",
      "include_colab_link": true
    },
    "kernelspec": {
      "name": "python3",
      "display_name": "Python 3"
    },
    "language_info": {
      "name": "python"
    }
  },
  "cells": [
    {
      "cell_type": "markdown",
      "metadata": {
        "id": "view-in-github",
        "colab_type": "text"
      },
      "source": [
        "<a href=\"https://colab.research.google.com/github/RD191295/Pytorch-Tutorials/blob/main/01_Pytorch_Workflow.ipynb\" target=\"_parent\"><img src=\"https://colab.research.google.com/assets/colab-badge.svg\" alt=\"Open In Colab\"/></a>"
      ]
    },
    {
      "cell_type": "markdown",
      "source": [
        "## Pytorch WorkFlow\n",
        "\n",
        "Let's explore a an example Pytorch end-to-end workflow.\n",
        "\n",
        "1. Data Prepare and Load\n",
        "2. Build Model\n",
        "3. Fitting the model to data (training)\n",
        "4. Making predictions and evaluting a model (inference)\n",
        "5. Saving and loading a model\n",
        "6. Putting at all together"
      ],
      "metadata": {
        "id": "2c_9BYjpHFXe"
      }
    },
    {
      "cell_type": "code",
      "source": [
        "import torch\n",
        "from torch import nn # nn contains all of pytorch's all building block of nerual network\n",
        "import matplotlib.pyplot as plt\n",
        "\n",
        "\n",
        "# check Pytorch version\n",
        "torch.__version__"
      ],
      "metadata": {
        "colab": {
          "base_uri": "https://localhost:8080/",
          "height": 36
        },
        "id": "dHay3hJlMN0I",
        "outputId": "af4c575b-cbe0-4772-9738-2611e8cfd216"
      },
      "execution_count": 1,
      "outputs": [
        {
          "output_type": "execute_result",
          "data": {
            "text/plain": [
              "'2.0.0+cu118'"
            ],
            "application/vnd.google.colaboratory.intrinsic+json": {
              "type": "string"
            }
          },
          "metadata": {},
          "execution_count": 1
        }
      ]
    },
    {
      "cell_type": "markdown",
      "source": [
        "## 1. Data(Preparing and Loading)\n",
        "\n",
        "<li>Data Can be almost anything Like:</li>\n",
        "\n",
        "* Excel Speadsheet,csv\n",
        "* Images of any kind\n",
        "* Videos\n",
        "* Audio like songs or podcasts\n",
        "* DNA\n",
        "* Text\n",
        "\n",
        "Machine Learning is a game of two parts:\n",
        "1. Get Data  into a numerical representation.\n",
        "2. Build Model to learn patterns in that numerical representation."
      ],
      "metadata": {
        "id": "z-cnnYmONHus"
      }
    },
    {
      "cell_type": "code",
      "source": [
        "# CREATE *Known* parameters\n",
        "weight = 0.7\n",
        "bias = 0.3\n",
        "\n",
        "# Create Data\n",
        "start = 0\n",
        "end = 1\n",
        "step = 0.02\n",
        "\n",
        "# define X and Y\n",
        "X = torch.arange(start, end, step).unsqueeze(dim = 1)\n",
        "Y = weight * X + bias\n",
        "\n",
        "X[:10],Y[:10]"
      ],
      "metadata": {
        "colab": {
          "base_uri": "https://localhost:8080/"
        },
        "id": "0IIKuOQ8NK5l",
        "outputId": "55d97f40-efd0-4071-c220-7ce2f2314b11"
      },
      "execution_count": 2,
      "outputs": [
        {
          "output_type": "execute_result",
          "data": {
            "text/plain": [
              "(tensor([[0.0000],\n",
              "         [0.0200],\n",
              "         [0.0400],\n",
              "         [0.0600],\n",
              "         [0.0800],\n",
              "         [0.1000],\n",
              "         [0.1200],\n",
              "         [0.1400],\n",
              "         [0.1600],\n",
              "         [0.1800]]),\n",
              " tensor([[0.3000],\n",
              "         [0.3140],\n",
              "         [0.3280],\n",
              "         [0.3420],\n",
              "         [0.3560],\n",
              "         [0.3700],\n",
              "         [0.3840],\n",
              "         [0.3980],\n",
              "         [0.4120],\n",
              "         [0.4260]]))"
            ]
          },
          "metadata": {},
          "execution_count": 2
        }
      ]
    },
    {
      "cell_type": "markdown",
      "source": [
        "### Spliting the data into training and test sets"
      ],
      "metadata": {
        "id": "XmZX_SdhPpoW"
      }
    },
    {
      "cell_type": "code",
      "source": [
        "# create a train/test split\n",
        "\n",
        "train_split = int(0.8 * len(X))\n",
        "X_train, y_train = X[:train_split], Y[:train_split]\n",
        "X_test, y_test = X[train_split:],Y[train_split:]"
      ],
      "metadata": {
        "id": "Qxsy7PCYPZ4S"
      },
      "execution_count": 3,
      "outputs": []
    },
    {
      "cell_type": "markdown",
      "source": [
        "## Visualizing Data !!!"
      ],
      "metadata": {
        "id": "8klCf_9nRnQT"
      }
    },
    {
      "cell_type": "code",
      "source": [
        "def plot_predictions(train_data = X_train,\n",
        "                      train_labels = y_train,\n",
        "                      test_data = X_test,\n",
        "                      test_labels = y_test,\n",
        "                      predictions = None):\n",
        "  \n",
        "  plt.figure(figsize = (10,7))\n",
        "\n",
        "  #plot training data in blue\n",
        "  plt.scatter(train_data, train_labels, c=\"b\", label = \"Training Data\")\n",
        "  \n",
        "  #plot testing data in green\n",
        "  plt.scatter(test_data, test_labels, c=\"g\", label = \"Testing Data\")\n",
        "\n",
        "  # Are there predictions\n",
        "  if predictions is not None:\n",
        "    # plot predictions if they exist\n",
        "    plt.scatter(test_data, predictions, c=\"r\", label = \"Predictions\")\n",
        "\n",
        "  \n",
        "  plt.legend(prop = {\"size\":14})\n"
      ],
      "metadata": {
        "id": "tCKZuHXWQ-Dh"
      },
      "execution_count": 4,
      "outputs": []
    },
    {
      "cell_type": "code",
      "source": [
        "plot_predictions()"
      ],
      "metadata": {
        "colab": {
          "base_uri": "https://localhost:8080/",
          "height": 461
        },
        "id": "3YoS12vxS1im",
        "outputId": "6de554a2-451f-40aa-e8e3-b87bcc6cc925"
      },
      "execution_count": 5,
      "outputs": [
        {
          "output_type": "display_data",
          "data": {
            "text/plain": [
              "<Figure size 1000x700 with 1 Axes>"
            ],
            "image/png": "[encoded data removed]"
          },
          "metadata": {}
        }
      ]
    },
    {
      "cell_type": "markdown",
      "source": [
        "## 2. Buid Model\n",
        "\n"
      ],
      "metadata": {
        "id": "IRsJAoM0ip6T"
      }
    },
    {
      "cell_type": "code",
      "source": [
        "class LinearRegressionModel(nn.Module):\n",
        "  def __init__(self):\n",
        "    super().__init__()\n",
        "    self.weights = nn.Parameter(torch.randn(1, # <- start with random weights (this will get adjusted as the model learns)\n",
        "                                                dtype=torch.float), # <- PyTorch loves float32 by default\n",
        "                                   requires_grad=True) # <- can we update this value with gradient descent?)\n",
        "\n",
        "    self.bias = nn.Parameter(torch.randn(1, # <- start with random bias (this will get adjusted as the model learns)\n",
        "                                            dtype=torch.float), # <- PyTorch loves float32 by default\n",
        "                                requires_grad=True) # <- can we update this value with gradient descent?))\n",
        "\n",
        "    \n",
        "  # forward method to define compution in the model\n",
        "  def forward(self, x: torch.Tensor):\n",
        "    return self.weights*x + self.bias # this is linear regression formula"
      ],
      "metadata": {
        "id": "t3-NZcnci-l7"
      },
      "execution_count": 6,
      "outputs": []
    },
    {
      "cell_type": "markdown",
      "source": [
        "### Pytorch Model Building essentials\n",
        "\n",
        "PyTorch module\tWhat does it do?\n",
        "* torch.nn\tContains all of the building blocks for computational graphs (essentially a series of computations executed in a particular way).\n",
        "* torch.nn.Parameter\tStores tensors that can be used with nn.Module. If requires_grad=True gradients (used for updating model parameters via gradient descent) are calculated automatically, this is often referred to as \"autograd\".\n",
        "* torch.nn.Module\tThe base class for all neural network modules, all the building blocks for neural networks are subclasses. If you're building a neural network in PyTorch, your models should subclass nn.Module. Requires a forward() method be implemented.\n",
        "* torch.optim\tContains various optimization algorithms (these tell the model parameters stored in nn.Parameter how to best change to improve gradient descent and in turn reduce the loss).\n",
        "* def forward()\tAll nn.Module subclasses require a forward() method, this defines the computation that will take place on the data passed to the particular nn.Module (e.g. the linear regression formula above)."
      ],
      "metadata": {
        "id": "jmXgV4sxmy19"
      }
    },
    {
      "cell_type": "markdown",
      "source": [
        "### Checking the contents of our Pytorch Model\n",
        "\n",
        "Now we have created model , let see what inside the model !!\n",
        "\n",
        "So we can check our model parameters :"
      ],
      "metadata": {
        "id": "vo0S1WeCsmj_"
      }
    },
    {
      "cell_type": "code",
      "source": [
        "# create a random seed\n",
        "torch.manual_seed(42)\n",
        "\n",
        "# create an instance of the model ( this is a subclass of nn.Module)\n",
        "model_0 = LinearRegressionModel()\n",
        "\n",
        "# check out the parameters.\n",
        "list(model_0.parameters())"
      ],
      "metadata": {
        "colab": {
          "base_uri": "https://localhost:8080/"
        },
        "id": "KFeC5kTgmyav",
        "outputId": "c4c8d5dd-78ce-4952-95cb-59da6a972852"
      },
      "execution_count": 7,
      "outputs": [
        {
          "output_type": "execute_result",
          "data": {
            "text/plain": [
              "[Parameter containing:\n",
              " tensor([0.3367], requires_grad=True),\n",
              " Parameter containing:\n",
              " tensor([0.1288], requires_grad=True)]"
            ]
          },
          "metadata": {},
          "execution_count": 7
        }
      ]
    },
    {
      "cell_type": "code",
      "source": [
        "# List named parameters \n",
        "model_0.state_dict()"
      ],
      "metadata": {
        "colab": {
          "base_uri": "https://localhost:8080/"
        },
        "id": "-1bW3HT1vYof",
        "outputId": "8eb56463-32bd-41eb-c7bd-29593943f810"
      },
      "execution_count": 8,
      "outputs": [
        {
          "output_type": "execute_result",
          "data": {
            "text/plain": [
              "OrderedDict([('weights', tensor([0.3367])), ('bias', tensor([0.1288]))])"
            ]
          },
          "metadata": {},
          "execution_count": 8
        }
      ]
    },
    {
      "cell_type": "markdown",
      "source": [
        "### Making Prediction using 'torch.inference_mode()\n",
        "\n",
        "To check our model's predictive power, let's see how well it predicts y_test based on X_test\n",
        "\n",
        "when we pass data through our model,it's going to run it through the forward() method"
      ],
      "metadata": {
        "id": "duxSk4Z10Fk9"
      }
    },
    {
      "cell_type": "code",
      "source": [
        "with torch.inference_mode():\n",
        "  y_preds = model_0(X_test)\n",
        "\n",
        "y_preds"
      ],
      "metadata": {
        "colab": {
          "base_uri": "https://localhost:8080/"
        },
        "id": "4ywMbTNN0G53",
        "outputId": "03ee4c0d-825d-41cf-ba6e-29a2e36a8a68"
      },
      "execution_count": 9,
      "outputs": [
        {
          "output_type": "execute_result",
          "data": {
            "text/plain": [
              "tensor([[0.3982],\n",
              "        [0.4049],\n",
              "        [0.4116],\n",
              "        [0.4184],\n",
              "        [0.4251],\n",
              "        [0.4318],\n",
              "        [0.4386],\n",
              "        [0.4453],\n",
              "        [0.4520],\n",
              "        [0.4588]])"
            ]
          },
          "metadata": {},
          "execution_count": 9
        }
      ]
    },
    {
      "cell_type": "code",
      "source": [
        "#ploting graph with predictions\n",
        "plot_predictions(predictions = y_preds)"
      ],
      "metadata": {
        "colab": {
          "base_uri": "https://localhost:8080/",
          "height": 461
        },
        "id": "_4xuw7gOvh1M",
        "outputId": "7bed2bab-316c-4c22-b50a-2a16580db56d"
      },
      "execution_count": 10,
      "outputs": [
        {
          "output_type": "display_data",
          "data": {
            "text/plain": [
              "<Figure size 1000x700 with 1 Axes>"
            ],
            "image/png": "[encoded data removed]"
          },
          "metadata": {}
        }
      ]
    },
    {
      "cell_type": "markdown",
      "source": [
        "## 3. Train Model\n",
        "\n",
        "The whole idea of training is for a model to move from some **unknown** parameters.\n",
        "\n",
        "\n",
        "or in other words from a poor representation of the data to a better representation of the data.\n",
        "\n",
        "one way to measure how poor or how wrong your models predictions are to use a loss function.\n",
        "\n",
        "* Note: Loss function may also be called a cost function or criterion in different areas, for our case we are going to refer to it as a loss funvtion\n",
        "\n",
        "Things we need to train:\n",
        "* **Loss Function** : A function to measure how wrong your models' predictions are to the ideal outputs, lower is better.\n",
        "* **Optimizer** : Takes into account the loss of a model and adjusts the model's parameter( e.g. weight & bias)"
      ],
      "metadata": {
        "id": "ChQ7FVoNppHJ"
      }
    },
    {
      "cell_type": "code",
      "source": [
        "list(model_0.parameters())"
      ],
      "metadata": {
        "colab": {
          "base_uri": "https://localhost:8080/"
        },
        "id": "SIjFIOjPpN4h",
        "outputId": "792c7f8c-fd0c-412d-ee1e-1044a83bf508"
      },
      "execution_count": 11,
      "outputs": [
        {
          "output_type": "execute_result",
          "data": {
            "text/plain": [
              "[Parameter containing:\n",
              " tensor([0.3367], requires_grad=True),\n",
              " Parameter containing:\n",
              " tensor([0.1288], requires_grad=True)]"
            ]
          },
          "metadata": {},
          "execution_count": 11
        }
      ]
    },
    {
      "cell_type": "code",
      "source": [
        "# Setup a loss function\n",
        "loss_fn = nn.L1Loss()\n",
        "\n",
        "# setup an Optimizer\n",
        "Optimizer = torch.optim.SGD(params = model_0.parameters(), \n",
        "                            lr = 0.01)# lr ---> learning rate"
      ],
      "metadata": {
        "id": "JRjva3CdrgcO"
      },
      "execution_count": 41,
      "outputs": []
    },
    {
      "cell_type": "markdown",
      "source": [
        "### Building a training loop (and a testing loop) in PyTorch\n",
        "\n",
        "A Couple of things we need in a training loop:\n",
        "* Loop through the data\n",
        "* Forward Pass ( thisa involves data moving through our model's `forward()` functions) to make prediction on data - also called forward propogation\n",
        "* Calculate the loss(compare forward pass predictions to ground truth labels)\n",
        "* Optimizer zero grad\n",
        "* Loss Backward - move backwards through the netwrok to calculate the gradients of each of the parameters of our model with respect to the loss (**backpropogation**)\n",
        "* Optimizer step - use the optimizer to adjust our model's parameters to try and improve the loss.(**Gradient descent**)"
      ],
      "metadata": {
        "id": "-OjR4Pp95UtZ"
      }
    },
    {
      "cell_type": "code",
      "source": [
        "# An epoch is one loop through the data\n",
        "epochs = 200\n",
        "\n",
        "# Loop through the data\n",
        "for epochs in range(epochs):\n",
        "  # set the model to training mode\n",
        "  model_0.train() # train mode in PyTorch Sets all parameters that requires gradients\n",
        "  \n",
        "  # Forward Pass\n",
        "  y_pred = model_0.forward(X_train)\n",
        "\n",
        "  # calculate loss\n",
        "  loss = loss_fn(y_train, y_pred)\n",
        "\n",
        "  #Optimizer zero grad\n",
        "  Optimizer.zero_grad()\n",
        "\n",
        "  # backward prapogation\n",
        "  loss.backward()\n",
        "\n",
        "  # step the optimizer\n",
        "  Optimizer.step()"
      ],
      "metadata": {
        "id": "1OWXTUOc7RrJ"
      },
      "execution_count": 42,
      "outputs": []
    },
    {
      "cell_type": "code",
      "source": [
        "list(model_0.parameters())"
      ],
      "metadata": {
        "colab": {
          "base_uri": "https://localhost:8080/"
        },
        "id": "ud51GqN5-lbB",
        "outputId": "72c21ed5-ad22-4ff1-b178-9687012cbbaf"
      },
      "execution_count": 43,
      "outputs": [
        {
          "output_type": "execute_result",
          "data": {
            "text/plain": [
              "[Parameter containing:\n",
              " tensor([0.6951], requires_grad=True),\n",
              " Parameter containing:\n",
              " tensor([0.2993], requires_grad=True)]"
            ]
          },
          "metadata": {},
          "execution_count": 43
        }
      ]
    },
    {
      "cell_type": "code",
      "source": [
        "with torch.inference_mode():\n",
        "  y_preds = model_0(X_test)\n",
        "\n",
        "y_preds"
      ],
      "metadata": {
        "colab": {
          "base_uri": "https://localhost:8080/"
        },
        "id": "aRGyZnyo_G2O",
        "outputId": "3f24300b-ded2-4d06-ce13-44c7ed2f66a8"
      },
      "execution_count": 44,
      "outputs": [
        {
          "output_type": "execute_result",
          "data": {
            "text/plain": [
              "tensor([[0.8554],\n",
              "        [0.8693],\n",
              "        [0.8832],\n",
              "        [0.8971],\n",
              "        [0.9110],\n",
              "        [0.9249],\n",
              "        [0.9388],\n",
              "        [0.9527],\n",
              "        [0.9666],\n",
              "        [0.9805]])"
            ]
          },
          "metadata": {},
          "execution_count": 44
        }
      ]
    },
    {
      "cell_type": "code",
      "source": [
        "#ploting graph with predictions\n",
        "plot_predictions(predictions = y_preds)"
      ],
      "metadata": {
        "colab": {
          "base_uri": "https://localhost:8080/",
          "height": 461
        },
        "id": "q9GTYRu3_LyQ",
        "outputId": "b5043762-7808-4ab5-d3ac-aa49273845be"
      },
      "execution_count": 45,
      "outputs": [
        {
          "output_type": "display_data",
          "data": {
            "text/plain": [
              "<Figure size 1000x700 with 1 Axes>"
            ],
            "image/png": "[encoded data removed]"
          },
          "metadata": {}
        }
      ]
    }
  ]
}