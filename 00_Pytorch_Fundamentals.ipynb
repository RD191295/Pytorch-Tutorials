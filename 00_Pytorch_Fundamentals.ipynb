{
  "nbformat": 4,
  "nbformat_minor": 0,
  "metadata": {
    "colab": {
      "provenance": [],
      "authorship_tag": "ABX9TyNeNSamzAFVbcscP47AdB07",
      "include_colab_link": true
    },
    "kernelspec": {
      "name": "python3",
      "display_name": "Python 3"
    },
    "language_info": {
      "name": "python"
    }
  },
  "cells": [
    {
      "cell_type": "markdown",
      "metadata": {
        "id": "view-in-github",
        "colab_type": "text"
      },
      "source": [
        "<a href=\"https://colab.research.google.com/github/RD191295/Pytorch-Tutorials/blob/main/00_Pytorch_Fundamentals.ipynb\" target=\"_parent\"><img src=\"https://colab.research.google.com/assets/colab-badge.svg\" alt=\"Open In Colab\"/></a>"
      ]
    },
    {
      "cell_type": "markdown",
      "source": [
        "##📗 Pytorch Fundamentals"
      ],
      "metadata": {
        "id": "yignxvRnBucO"
      }
    },
    {
      "cell_type": "markdown",
      "source": [
        "### 📕***Introduction to Pytorch***\n",
        "<p align=\"justify\"> PyTorch is an open-source library used in machine learning library developed using Torch library for *python* program. It is developed by Facebook’s AI Research lab and released in January 2016 as a free and open-source library mainly used in computer vision, deep learning, and natural language processing applications. Programmer can build a complex neural network with ease using PyTorch as it has a core data structure, Tensor, multi-dimensional array like Numpy arrays. PyTorch use is increasing in current industries and in the research community as it is flexible, faster, easy to get the project up and running, due to which PyTorch is one of the top deep learning tools.<p>\n",
        "\n",
        "\n",
        "\n",
        "🔖**Source Link:** https://pytorch.org/"
      ],
      "metadata": {
        "id": "4q1LZeY3jWrP"
      }
    },
    {
      "cell_type": "code",
      "execution_count": 45,
      "metadata": {
        "colab": {
          "base_uri": "https://localhost:8080/"
        },
        "id": "vsJNVlkq-sCc",
        "outputId": "33aa3546-5168-472b-b76f-3fb976c22e0f"
      },
      "outputs": [
        {
          "output_type": "stream",
          "name": "stdout",
          "text": [
            "1.12.1+cu113\n"
          ]
        }
      ],
      "source": [
        "import torch\n",
        "print(torch.__version__)"
      ]
    },
    {
      "cell_type": "code",
      "source": [
        "!nvidia-smi"
      ],
      "metadata": {
        "colab": {
          "base_uri": "https://localhost:8080/"
        },
        "id": "1Zg0WqlbC7Ue",
        "outputId": "38d64107-e15f-41b9-f124-623214a8ac83"
      },
      "execution_count": 46,
      "outputs": [
        {
          "output_type": "stream",
          "name": "stdout",
          "text": [
            "NVIDIA-SMI has failed because it couldn't communicate with the NVIDIA driver. Make sure that the latest NVIDIA driver is installed and running.\n",
            "\n"
          ]
        }
      ]
    },
    {
      "cell_type": "markdown",
      "source": [
        "## 📗Introduction to Tensors"
      ],
      "metadata": {
        "id": "pbtGmDE1ZBe9"
      }
    },
    {
      "cell_type": "markdown",
      "source": [
        "###📕Creating Tensors\n",
        "\n",
        "🔖**Source Link**: https://pytorch.org/docs/stable/tensors.html"
      ],
      "metadata": {
        "id": "S9P76822dxy6"
      }
    },
    {
      "cell_type": "code",
      "source": [
        "# Scalar \n",
        "scalar  = torch.tensor(7)\n",
        "scalar"
      ],
      "metadata": {
        "colab": {
          "base_uri": "https://localhost:8080/"
        },
        "id": "93MuGV4VFMq7",
        "outputId": "53db6d0d-c0a7-45d8-a21a-206082218b19"
      },
      "execution_count": 47,
      "outputs": [
        {
          "output_type": "execute_result",
          "data": {
            "text/plain": [
              "tensor(7)"
            ]
          },
          "metadata": {},
          "execution_count": 47
        }
      ]
    },
    {
      "cell_type": "code",
      "source": [
        "# Scalar has no dimension !!\n",
        "scalar.ndim"
      ],
      "metadata": {
        "colab": {
          "base_uri": "https://localhost:8080/"
        },
        "id": "tzlFBo4UZgZw",
        "outputId": "4c10b3ae-4734-4422-c3e1-c07a57cc7bbd"
      },
      "execution_count": 48,
      "outputs": [
        {
          "output_type": "execute_result",
          "data": {
            "text/plain": [
              "0"
            ]
          },
          "metadata": {},
          "execution_count": 48
        }
      ]
    },
    {
      "cell_type": "code",
      "source": [
        "# Vectors\n",
        "Vector = torch.tensor([7,1])\n",
        "Vector"
      ],
      "metadata": {
        "colab": {
          "base_uri": "https://localhost:8080/"
        },
        "id": "7E69Tq2FZjFl",
        "outputId": "38f94c25-1e78-4770-a53b-838c46ce9088"
      },
      "execution_count": 49,
      "outputs": [
        {
          "output_type": "execute_result",
          "data": {
            "text/plain": [
              "tensor([7, 1])"
            ]
          },
          "metadata": {},
          "execution_count": 49
        }
      ]
    },
    {
      "cell_type": "code",
      "source": [
        "# Vector has 1 dimension!!\n",
        "Vector.ndim"
      ],
      "metadata": {
        "colab": {
          "base_uri": "https://localhost:8080/"
        },
        "id": "laMbf9V-Z03X",
        "outputId": "d762f34f-449a-4472-e9b4-f2116a34368a"
      },
      "execution_count": 50,
      "outputs": [
        {
          "output_type": "execute_result",
          "data": {
            "text/plain": [
              "1"
            ]
          },
          "metadata": {},
          "execution_count": 50
        }
      ]
    },
    {
      "cell_type": "code",
      "source": [
        "# Vector shape\n",
        "Vector.shape"
      ],
      "metadata": {
        "colab": {
          "base_uri": "https://localhost:8080/"
        },
        "id": "mnD--xqKZ7S1",
        "outputId": "893b9d2e-bf21-42cf-80c9-bedd19b91d48"
      },
      "execution_count": 51,
      "outputs": [
        {
          "output_type": "execute_result",
          "data": {
            "text/plain": [
              "torch.Size([2])"
            ]
          },
          "metadata": {},
          "execution_count": 51
        }
      ]
    },
    {
      "cell_type": "code",
      "source": [
        "# Matric\n",
        "Matrix = torch.tensor([[7, 8],\n",
        "                       [9, 10]])\n",
        "\n",
        "Matrix"
      ],
      "metadata": {
        "colab": {
          "base_uri": "https://localhost:8080/"
        },
        "id": "S3pLEumWaARB",
        "outputId": "4d5e3ae4-7878-4d05-8bee-eccfb46946a0"
      },
      "execution_count": 52,
      "outputs": [
        {
          "output_type": "execute_result",
          "data": {
            "text/plain": [
              "tensor([[ 7,  8],\n",
              "        [ 9, 10]])"
            ]
          },
          "metadata": {},
          "execution_count": 52
        }
      ]
    },
    {
      "cell_type": "code",
      "source": [
        "# Matric has 2 dim\n",
        "Matrix.ndim"
      ],
      "metadata": {
        "colab": {
          "base_uri": "https://localhost:8080/"
        },
        "id": "ZmDPQ9pSaPs5",
        "outputId": "ef9480a0-79a0-4790-d37a-22538847083c"
      },
      "execution_count": 53,
      "outputs": [
        {
          "output_type": "execute_result",
          "data": {
            "text/plain": [
              "2"
            ]
          },
          "metadata": {},
          "execution_count": 53
        }
      ]
    },
    {
      "cell_type": "code",
      "source": [
        "# Matrix shape\n",
        "Matrix.shape"
      ],
      "metadata": {
        "colab": {
          "base_uri": "https://localhost:8080/"
        },
        "id": "Ov0UuWalaXff",
        "outputId": "116b6ddd-76ef-4bb1-bf42-db358d0b4a9e"
      },
      "execution_count": 54,
      "outputs": [
        {
          "output_type": "execute_result",
          "data": {
            "text/plain": [
              "torch.Size([2, 2])"
            ]
          },
          "metadata": {},
          "execution_count": 54
        }
      ]
    },
    {
      "cell_type": "code",
      "source": [
        "# Tensor\n",
        "TENSOR = torch.tensor([[[1, 2, 3],\n",
        "                        [3, 6, 9],\n",
        "                        [2, 4, 5]]])\n",
        "TENSOR"
      ],
      "metadata": {
        "colab": {
          "base_uri": "https://localhost:8080/"
        },
        "id": "juuYyrh1acsl",
        "outputId": "0fd77277-b81e-4db5-869d-fa5a80dfa711"
      },
      "execution_count": 55,
      "outputs": [
        {
          "output_type": "execute_result",
          "data": {
            "text/plain": [
              "tensor([[[1, 2, 3],\n",
              "         [3, 6, 9],\n",
              "         [2, 4, 5]]])"
            ]
          },
          "metadata": {},
          "execution_count": 55
        }
      ]
    },
    {
      "cell_type": "code",
      "source": [
        "# Tensor dimension --- it has N dimension\n",
        "TENSOR.ndim"
      ],
      "metadata": {
        "colab": {
          "base_uri": "https://localhost:8080/"
        },
        "id": "kv7gOb0NatTi",
        "outputId": "c4f6f53f-e72e-4d06-83b9-02d852a63923"
      },
      "execution_count": 56,
      "outputs": [
        {
          "output_type": "execute_result",
          "data": {
            "text/plain": [
              "3"
            ]
          },
          "metadata": {},
          "execution_count": 56
        }
      ]
    },
    {
      "cell_type": "code",
      "source": [
        "# Tensor shape\n",
        "TENSOR.shape"
      ],
      "metadata": {
        "colab": {
          "base_uri": "https://localhost:8080/"
        },
        "id": "36eDqFViaz_H",
        "outputId": "76628db2-84d4-43e9-f7a1-79f9ea2fcd3f"
      },
      "execution_count": 57,
      "outputs": [
        {
          "output_type": "execute_result",
          "data": {
            "text/plain": [
              "torch.Size([1, 3, 3])"
            ]
          },
          "metadata": {},
          "execution_count": 57
        }
      ]
    },
    {
      "cell_type": "code",
      "source": [
        "# Tensor Example 2\n",
        "Tensor_2 = torch.tensor([[[1,2,3],\n",
        "                          [3,2,5]],\n",
        "                         [[4,3,5],\n",
        "                          [5,6,7]]])\n",
        "Tensor_2"
      ],
      "metadata": {
        "colab": {
          "base_uri": "https://localhost:8080/"
        },
        "id": "NwSTWNwEbPns",
        "outputId": "61708c3c-f7b1-4a43-dbdd-7c919ace0197"
      },
      "execution_count": 58,
      "outputs": [
        {
          "output_type": "execute_result",
          "data": {
            "text/plain": [
              "tensor([[[1, 2, 3],\n",
              "         [3, 2, 5]],\n",
              "\n",
              "        [[4, 3, 5],\n",
              "         [5, 6, 7]]])"
            ]
          },
          "metadata": {},
          "execution_count": 58
        }
      ]
    },
    {
      "cell_type": "code",
      "source": [
        "# Tensor_2 Shape\n",
        "Tensor_2.shape"
      ],
      "metadata": {
        "colab": {
          "base_uri": "https://localhost:8080/"
        },
        "id": "FALBUbBRbfTb",
        "outputId": "3101e81d-8406-45cc-c86a-86108c5f8c94"
      },
      "execution_count": 59,
      "outputs": [
        {
          "output_type": "execute_result",
          "data": {
            "text/plain": [
              "torch.Size([2, 2, 3])"
            ]
          },
          "metadata": {},
          "execution_count": 59
        }
      ]
    },
    {
      "cell_type": "markdown",
      "source": [
        "### 📕 Random Tensors\n",
        "\n",
        "Why Random Tensors❓\n",
        "\n",
        "Random tensors are important because the way many nerual networks learn is that they start with tensors full of random numbers and then adjust those random numbers to better represent the data.\n",
        "\n",
        "``` \n",
        "Start with random numbers --> look at the data --> Update random numbers --> look at the data --> Update ranodm numbers\n",
        "```\n",
        "\n",
        "🔖**Source Link:** https://pytorch.org/docs/stable/generated/torch.rand.html\n"
      ],
      "metadata": {
        "id": "jGIT-ZhCeAPK"
      }
    },
    {
      "cell_type": "code",
      "source": [
        "# Create a random tensor of size (3, 4)\n",
        "random_tensor = torch.rand(3, 4)\n",
        "random_tensor"
      ],
      "metadata": {
        "colab": {
          "base_uri": "https://localhost:8080/"
        },
        "id": "cKcvP3FZeC-v",
        "outputId": "5677695a-bde4-437e-aaac-9c5a04b6f318"
      },
      "execution_count": 60,
      "outputs": [
        {
          "output_type": "execute_result",
          "data": {
            "text/plain": [
              "tensor([[0.6944, 0.8021, 0.7488, 0.5755],\n",
              "        [0.5218, 0.7988, 0.5007, 0.8390],\n",
              "        [0.0252, 0.8823, 0.4083, 0.1070]])"
            ]
          },
          "metadata": {},
          "execution_count": 60
        }
      ]
    },
    {
      "cell_type": "code",
      "source": [
        "# Create a random tensor with similar shape to an image tensor\n",
        "random_image_size_tensor = torch.rand(size = (224, 224, 3))\n",
        "random_image_size_tensor.shape, random_image_size_tensor.ndim"
      ],
      "metadata": {
        "colab": {
          "base_uri": "https://localhost:8080/"
        },
        "id": "s_NQ78adgRQg",
        "outputId": "cbe8163f-4550-4d29-b889-eb4dce573ed3"
      },
      "execution_count": 61,
      "outputs": [
        {
          "output_type": "execute_result",
          "data": {
            "text/plain": [
              "(torch.Size([224, 224, 3]), 3)"
            ]
          },
          "metadata": {},
          "execution_count": 61
        }
      ]
    },
    {
      "cell_type": "code",
      "source": [
        "# Create New Random Tensor\n",
        "Random_1 = torch.rand(size = (5,4,3))\n",
        "Random_1 , Random_1.ndim, Random_1.shape"
      ],
      "metadata": {
        "colab": {
          "base_uri": "https://localhost:8080/"
        },
        "id": "kcapYiewhGcT",
        "outputId": "f440c9fa-7997-4237-a14e-a1f7e517b1f5"
      },
      "execution_count": 62,
      "outputs": [
        {
          "output_type": "execute_result",
          "data": {
            "text/plain": [
              "(tensor([[[0.9319, 0.6750, 0.2557],\n",
              "          [0.9386, 0.4273, 0.2903],\n",
              "          [0.1687, 0.9873, 0.1509],\n",
              "          [0.4033, 0.5205, 0.1269]],\n",
              " \n",
              "         [[0.1978, 0.2829, 0.1690],\n",
              "          [0.1282, 0.0049, 0.2204],\n",
              "          [0.9577, 0.1989, 0.8935],\n",
              "          [0.9295, 0.1803, 0.0354]],\n",
              " \n",
              "         [[0.5416, 0.9350, 0.3268],\n",
              "          [0.4599, 0.9703, 0.1552],\n",
              "          [0.2003, 0.0861, 0.9640],\n",
              "          [0.0153, 0.2752, 0.4741]],\n",
              " \n",
              "         [[0.9778, 0.7421, 0.6788],\n",
              "          [0.7834, 0.6633, 0.9936],\n",
              "          [0.4636, 0.0630, 0.5290],\n",
              "          [0.2374, 0.4496, 0.3083]],\n",
              " \n",
              "         [[0.8929, 0.8455, 0.2789],\n",
              "          [0.2426, 0.3764, 0.2232],\n",
              "          [0.7251, 0.7569, 0.1351],\n",
              "          [0.5630, 0.9244, 0.3359]]]), 3, torch.Size([5, 4, 3]))"
            ]
          },
          "metadata": {},
          "execution_count": 62
        }
      ]
    },
    {
      "cell_type": "markdown",
      "source": [
        "### 📕 Zeros and Ones\n",
        "\n",
        "\n",
        "🔖**Source Link:** https://pytorch.org/docs/stable/generated/torch.zeros.html\n",
        "\n",
        "🔖**Source Link:** https://pytorch.org/docs/stable/generated/torch.ones.html"
      ],
      "metadata": {
        "id": "WBSeuW-ohEDk"
      }
    },
    {
      "cell_type": "code",
      "source": [
        "# Create a tensor of all zeros\n",
        "Zeros = torch.zeros(size = (3,4))\n",
        "Zeros"
      ],
      "metadata": {
        "colab": {
          "base_uri": "https://localhost:8080/"
        },
        "id": "cbROK9zyhDBY",
        "outputId": "fc7e17dd-674f-4cb1-b62a-92cc3451125d"
      },
      "execution_count": 63,
      "outputs": [
        {
          "output_type": "execute_result",
          "data": {
            "text/plain": [
              "tensor([[0., 0., 0., 0.],\n",
              "        [0., 0., 0., 0.],\n",
              "        [0., 0., 0., 0.]])"
            ]
          },
          "metadata": {},
          "execution_count": 63
        }
      ]
    },
    {
      "cell_type": "code",
      "source": [
        "# Create a tensors of all ones\n",
        "ones = torch.ones(size = (4,5))\n",
        "ones"
      ],
      "metadata": {
        "colab": {
          "base_uri": "https://localhost:8080/"
        },
        "id": "w4NXQuCkiHTK",
        "outputId": "e08a658d-0158-4b27-cb28-a56bc8ed0728"
      },
      "execution_count": 64,
      "outputs": [
        {
          "output_type": "execute_result",
          "data": {
            "text/plain": [
              "tensor([[1., 1., 1., 1., 1.],\n",
              "        [1., 1., 1., 1., 1.],\n",
              "        [1., 1., 1., 1., 1.],\n",
              "        [1., 1., 1., 1., 1.]])"
            ]
          },
          "metadata": {},
          "execution_count": 64
        }
      ]
    },
    {
      "cell_type": "markdown",
      "source": [
        "### 📕Creating range of tensors and tenosr-like\n",
        "\n",
        "\n",
        "🔖**Source Link:** https://pytorch.org/docs/stable/generated/torch.arange.html\n",
        "\n",
        "\n",
        "🔖**Source Link:** https://pytorch.org/docs/stable/generated/torch.zeros_like.html"
      ],
      "metadata": {
        "id": "On-EwFQakWCi"
      }
    },
    {
      "cell_type": "code",
      "source": [
        "# Use torch.arange()\n",
        "one_to_ten = torch.arange(start = 1, end = 211, step = 2)\n",
        "one_to_ten"
      ],
      "metadata": {
        "colab": {
          "base_uri": "https://localhost:8080/"
        },
        "id": "LUHds0b8oo5K",
        "outputId": "beac6a1c-31c8-4124-f2c7-8ba63b02c916"
      },
      "execution_count": 65,
      "outputs": [
        {
          "output_type": "execute_result",
          "data": {
            "text/plain": [
              "tensor([  1,   3,   5,   7,   9,  11,  13,  15,  17,  19,  21,  23,  25,  27,\n",
              "         29,  31,  33,  35,  37,  39,  41,  43,  45,  47,  49,  51,  53,  55,\n",
              "         57,  59,  61,  63,  65,  67,  69,  71,  73,  75,  77,  79,  81,  83,\n",
              "         85,  87,  89,  91,  93,  95,  97,  99, 101, 103, 105, 107, 109, 111,\n",
              "        113, 115, 117, 119, 121, 123, 125, 127, 129, 131, 133, 135, 137, 139,\n",
              "        141, 143, 145, 147, 149, 151, 153, 155, 157, 159, 161, 163, 165, 167,\n",
              "        169, 171, 173, 175, 177, 179, 181, 183, 185, 187, 189, 191, 193, 195,\n",
              "        197, 199, 201, 203, 205, 207, 209])"
            ]
          },
          "metadata": {},
          "execution_count": 65
        }
      ]
    },
    {
      "cell_type": "code",
      "source": [
        "# Creating tensors like\n",
        "ten_zeros = torch.zeros_like(input = one_to_ten)\n",
        "ten_zeros"
      ],
      "metadata": {
        "colab": {
          "base_uri": "https://localhost:8080/"
        },
        "id": "vWfFLdKDpN1W",
        "outputId": "c297e4c5-2ffc-4f35-cb30-ac5d704d61b1"
      },
      "execution_count": 66,
      "outputs": [
        {
          "output_type": "execute_result",
          "data": {
            "text/plain": [
              "tensor([0, 0, 0, 0, 0, 0, 0, 0, 0, 0, 0, 0, 0, 0, 0, 0, 0, 0, 0, 0, 0, 0, 0, 0,\n",
              "        0, 0, 0, 0, 0, 0, 0, 0, 0, 0, 0, 0, 0, 0, 0, 0, 0, 0, 0, 0, 0, 0, 0, 0,\n",
              "        0, 0, 0, 0, 0, 0, 0, 0, 0, 0, 0, 0, 0, 0, 0, 0, 0, 0, 0, 0, 0, 0, 0, 0,\n",
              "        0, 0, 0, 0, 0, 0, 0, 0, 0, 0, 0, 0, 0, 0, 0, 0, 0, 0, 0, 0, 0, 0, 0, 0,\n",
              "        0, 0, 0, 0, 0, 0, 0, 0, 0])"
            ]
          },
          "metadata": {},
          "execution_count": 66
        }
      ]
    },
    {
      "cell_type": "markdown",
      "source": [
        "### 📕Tensor Datatypes\n",
        "\n",
        "**🔑Note:** Tensor datatypes is one of the 3 big errors you will run into with Pytorch:\n",
        "1. Tensors not right datatype\n",
        "2. Tensors not right shape\n",
        "3. Tensors not on the right device"
      ],
      "metadata": {
        "id": "OlS4SBI7pqF8"
      }
    },
    {
      "cell_type": "code",
      "source": [
        "# Float 32 tensors\n",
        "float_32_tensor = torch.tensor([3.0, 6.0, 9.0],\n",
        "                               dtype = None,  # what datatype is the tensor\n",
        "                               device = None, # The device of the constructed tensor. If None and data is a tensor then the device of data is used. If None and data is not a tensor then the result tensor is constructed on the CPU.\n",
        "                               requires_grad = False # if need to fine gradient\n",
        "                               )\n",
        "float_32_tensor"
      ],
      "metadata": {
        "colab": {
          "base_uri": "https://localhost:8080/"
        },
        "id": "C2KLx5zUpjyC",
        "outputId": "7e539b00-cff8-4518-98a0-20093d912d03"
      },
      "execution_count": 67,
      "outputs": [
        {
          "output_type": "execute_result",
          "data": {
            "text/plain": [
              "tensor([3., 6., 9.])"
            ]
          },
          "metadata": {},
          "execution_count": 67
        }
      ]
    },
    {
      "cell_type": "code",
      "source": [
        "float_32_tensor.dtype"
      ],
      "metadata": {
        "colab": {
          "base_uri": "https://localhost:8080/"
        },
        "id": "hBpB-e6Lq8Ts",
        "outputId": "0184b8e2-f286-4824-9fab-97450e446623"
      },
      "execution_count": 68,
      "outputs": [
        {
          "output_type": "execute_result",
          "data": {
            "text/plain": [
              "torch.float32"
            ]
          },
          "metadata": {},
          "execution_count": 68
        }
      ]
    },
    {
      "cell_type": "code",
      "source": [
        "float_16_tensor = float_32_tensor.type(torch.float16)"
      ],
      "metadata": {
        "id": "yHJzWX2CrTHb"
      },
      "execution_count": 69,
      "outputs": []
    },
    {
      "cell_type": "code",
      "source": [
        "int_32_tensors = torch.tensor([3, 6, 9 ],\n",
        "                              dtype = torch.int32)\n",
        "int_32_tensors"
      ],
      "metadata": {
        "colab": {
          "base_uri": "https://localhost:8080/"
        },
        "id": "l39ZAUJwzENh",
        "outputId": "74a5cbcf-d89a-40b4-bcf4-0e8b4e3fe8b7"
      },
      "execution_count": 70,
      "outputs": [
        {
          "output_type": "execute_result",
          "data": {
            "text/plain": [
              "tensor([3, 6, 9], dtype=torch.int32)"
            ]
          },
          "metadata": {},
          "execution_count": 70
        }
      ]
    },
    {
      "cell_type": "code",
      "source": [
        "float_32_tensor * int_32_tensors"
      ],
      "metadata": {
        "colab": {
          "base_uri": "https://localhost:8080/"
        },
        "id": "P9_XNUEM0BCz",
        "outputId": "c650c632-5563-4bb0-97e2-e7c67eedc75d"
      },
      "execution_count": 71,
      "outputs": [
        {
          "output_type": "execute_result",
          "data": {
            "text/plain": [
              "tensor([ 9., 36., 81.])"
            ]
          },
          "metadata": {},
          "execution_count": 71
        }
      ]
    },
    {
      "cell_type": "markdown",
      "source": [
        "### 📕 Tensor Attributes\n",
        "\n",
        "Getting Information from tensor\n",
        "\n",
        "1. Get datatype from a tensor can use`tensor.dtype`\n",
        "2. to get shape from a tensor can use `tensor.shape`\n",
        "3. to get device from a tensor, can use `tensor.device`"
      ],
      "metadata": {
        "id": "rsEp6Yfezn5A"
      }
    },
    {
      "cell_type": "code",
      "source": [
        "# create tensor\n",
        "some_tensor = torch.rand(size = (3, 4))\n",
        "some_tensor"
      ],
      "metadata": {
        "colab": {
          "base_uri": "https://localhost:8080/"
        },
        "id": "bb2TgDN60Xra",
        "outputId": "0e7beb43-11df-4ef9-d37e-3ff37d41bd74"
      },
      "execution_count": 72,
      "outputs": [
        {
          "output_type": "execute_result",
          "data": {
            "text/plain": [
              "tensor([[0.4101, 0.1220, 0.8469, 0.7597],\n",
              "        [0.9935, 0.1581, 0.4004, 0.2599],\n",
              "        [0.5950, 0.2841, 0.2674, 0.5219]])"
            ]
          },
          "metadata": {},
          "execution_count": 72
        }
      ]
    },
    {
      "cell_type": "code",
      "source": [
        "# Print out details about some_tensor\n",
        "print(some_tensor)\n",
        "print(f\"Datatype of some_tensor is:{some_tensor.dtype}\")\n",
        "print(f\"Shape of some_tensor is:{some_tensor.shape}\")\n",
        "print(f\"device of some_tensor is:{some_tensor.device}\")"
      ],
      "metadata": {
        "colab": {
          "base_uri": "https://localhost:8080/"
        },
        "id": "6PFKCBt50_aZ",
        "outputId": "c1f4afc8-c90e-405e-8e4d-fd14e842a876"
      },
      "execution_count": 73,
      "outputs": [
        {
          "output_type": "stream",
          "name": "stdout",
          "text": [
            "tensor([[0.4101, 0.1220, 0.8469, 0.7597],\n",
            "        [0.9935, 0.1581, 0.4004, 0.2599],\n",
            "        [0.5950, 0.2841, 0.2674, 0.5219]])\n",
            "Datatype of some_tensor is:torch.float32\n",
            "Shape of some_tensor is:torch.Size([3, 4])\n",
            "device of some_tensor is:cpu\n"
          ]
        }
      ]
    },
    {
      "cell_type": "markdown",
      "source": [
        "### 📕 Manipulating Tensor\n",
        "\n",
        "Tensor Operations include:\n",
        "1. Addition\n",
        "2. subtraction\n",
        "3. Multiplication ( element-wise)\n",
        "4. Division \n",
        "5. Matrix multiplication\n",
        "\n",
        "\n",
        "There are two main rules that performing matrix multiplication needs to satisfy:\n",
        "1. The **inner dimensions** must match:\n",
        " * ` (3, 2) @ (3, 2) ` won't work\n",
        " *  `(2, 3) @ (3, 2) ` will work\n",
        " *  `(3, 2) @ (2, 3)` will work\n",
        "\n",
        "2. Resulting matrix has the shape of the **outer dimension**\n",
        " *  `(2, 3) @ (3, 2) ` -> `(2, 2)`\n",
        " *  `(3, 2) @ (2, 3)` -> `(3, 3)`"
      ],
      "metadata": {
        "id": "GOsmYY9D18BD"
      }
    },
    {
      "cell_type": "code",
      "source": [
        "# Create tensor\n",
        "tensor_A = torch.tensor([1, 2, 45])\n",
        "tensor_A + 12"
      ],
      "metadata": {
        "colab": {
          "base_uri": "https://localhost:8080/"
        },
        "id": "tsk8jNBt1s4R",
        "outputId": "34b500e0-72b9-4215-ab3d-872db074ed9d"
      },
      "execution_count": 74,
      "outputs": [
        {
          "output_type": "execute_result",
          "data": {
            "text/plain": [
              "tensor([13, 14, 57])"
            ]
          },
          "metadata": {},
          "execution_count": 74
        }
      ]
    },
    {
      "cell_type": "code",
      "source": [
        "# Multiply tensor by 10\n",
        "tensor_A * 10"
      ],
      "metadata": {
        "colab": {
          "base_uri": "https://localhost:8080/"
        },
        "id": "xFksfMWm2mNj",
        "outputId": "3fa0d6fe-3c75-4205-c3d0-7f57d726848c"
      },
      "execution_count": 75,
      "outputs": [
        {
          "output_type": "execute_result",
          "data": {
            "text/plain": [
              "tensor([ 10,  20, 450])"
            ]
          },
          "metadata": {},
          "execution_count": 75
        }
      ]
    },
    {
      "cell_type": "code",
      "source": [
        "# Devision tensor by 10\n",
        "tensor_A / 10"
      ],
      "metadata": {
        "colab": {
          "base_uri": "https://localhost:8080/"
        },
        "id": "SxZmhaC92t81",
        "outputId": "c5269c14-a7e0-4df3-92e8-c0b8a5a3faee"
      },
      "execution_count": 76,
      "outputs": [
        {
          "output_type": "execute_result",
          "data": {
            "text/plain": [
              "tensor([0.1000, 0.2000, 4.5000])"
            ]
          },
          "metadata": {},
          "execution_count": 76
        }
      ]
    },
    {
      "cell_type": "code",
      "source": [
        "# Subtraction tensor by 10\n",
        "tensor_A - 10"
      ],
      "metadata": {
        "colab": {
          "base_uri": "https://localhost:8080/"
        },
        "id": "vMuh_GMM22dj",
        "outputId": "6d9224ef-f2e4-40ac-e102-6a6492d079d8"
      },
      "execution_count": 77,
      "outputs": [
        {
          "output_type": "execute_result",
          "data": {
            "text/plain": [
              "tensor([-9, -8, 35])"
            ]
          },
          "metadata": {},
          "execution_count": 77
        }
      ]
    },
    {
      "cell_type": "code",
      "source": [
        "# Try out Pytorch in-built function\n",
        "torch.mul(tensor_A, 10)"
      ],
      "metadata": {
        "colab": {
          "base_uri": "https://localhost:8080/"
        },
        "id": "eOQVwKhf278J",
        "outputId": "94132eb6-74c9-4072-e81f-7961214a9a35"
      },
      "execution_count": 78,
      "outputs": [
        {
          "output_type": "execute_result",
          "data": {
            "text/plain": [
              "tensor([ 10,  20, 450])"
            ]
          },
          "metadata": {},
          "execution_count": 78
        }
      ]
    },
    {
      "cell_type": "code",
      "source": [
        "torch.add(tensor_A , tensor_A)"
      ],
      "metadata": {
        "colab": {
          "base_uri": "https://localhost:8080/"
        },
        "id": "DDHMHGIT3GaC",
        "outputId": "04959294-be82-407d-8df4-47a985e55736"
      },
      "execution_count": 79,
      "outputs": [
        {
          "output_type": "execute_result",
          "data": {
            "text/plain": [
              "tensor([ 2,  4, 90])"
            ]
          },
          "metadata": {},
          "execution_count": 79
        }
      ]
    },
    {
      "cell_type": "code",
      "source": [
        "# Create tensor_B\n",
        "tensor_B = torch.tensor([[3, 2, 45],\n",
        "                         [4, 5, 6],\n",
        "                         [5, 6, 10]])\n",
        "\n",
        "# Matirx Mutliplication\n",
        "torch.matmul(tensor_A, tensor_B)"
      ],
      "metadata": {
        "colab": {
          "base_uri": "https://localhost:8080/"
        },
        "id": "kvFjJPOS3MBH",
        "outputId": "651f82f8-dfaa-44b0-ac52-f400689f6746"
      },
      "execution_count": 80,
      "outputs": [
        {
          "output_type": "execute_result",
          "data": {
            "text/plain": [
              "tensor([236, 282, 507])"
            ]
          },
          "metadata": {},
          "execution_count": 80
        }
      ]
    },
    {
      "cell_type": "code",
      "source": [
        "# Shape Errors : when both has same dimension and try to do matrix multipication\n",
        "tensor_C = torch.tensor([[1,2],\n",
        "                         [3,4],\n",
        "                         [5,7]])\n",
        "\n",
        "tensor_D = torch.tensor([[3,5],\n",
        "                         [10,3],\n",
        "                         [5,6]])\n",
        "\n",
        "torch.mm(tensor_C, tensor_D.T) # did transpose of tensor_D"
      ],
      "metadata": {
        "colab": {
          "base_uri": "https://localhost:8080/"
        },
        "id": "tM4w2qwYAKG-",
        "outputId": "ff8abf09-de97-4caf-c2dd-653182a40646"
      },
      "execution_count": 85,
      "outputs": [
        {
          "output_type": "execute_result",
          "data": {
            "text/plain": [
              "tensor([[13, 16, 17],\n",
              "        [29, 42, 39],\n",
              "        [50, 71, 67]])"
            ]
          },
          "metadata": {},
          "execution_count": 85
        }
      ]
    },
    {
      "cell_type": "markdown",
      "source": [
        "### 📕 Tensor Aggregation\n",
        "1. Min\n",
        "2. Max\n",
        "3. Mean\n",
        "4. Sum\n"
      ],
      "metadata": {
        "id": "5urPWIrnNubg"
      }
    },
    {
      "cell_type": "code",
      "source": [
        "# Create a tensor\n",
        "X = torch.arange(0, 10, 3)\n",
        "X "
      ],
      "metadata": {
        "colab": {
          "base_uri": "https://localhost:8080/"
        },
        "id": "eruVgtrXLrSE",
        "outputId": "97801a9c-b2ac-4596-c80e-9a5856624209"
      },
      "execution_count": 88,
      "outputs": [
        {
          "output_type": "execute_result",
          "data": {
            "text/plain": [
              "tensor([0, 3, 6, 9])"
            ]
          },
          "metadata": {},
          "execution_count": 88
        }
      ]
    },
    {
      "cell_type": "code",
      "source": [
        "# Find the Min\n",
        "torch.min(X)"
      ],
      "metadata": {
        "colab": {
          "base_uri": "https://localhost:8080/"
        },
        "id": "_uFwjeEpOPcd",
        "outputId": "1861d5fb-2e33-4242-c3e1-d4a7542c99e9"
      },
      "execution_count": 89,
      "outputs": [
        {
          "output_type": "execute_result",
          "data": {
            "text/plain": [
              "tensor(0)"
            ]
          },
          "metadata": {},
          "execution_count": 89
        }
      ]
    },
    {
      "cell_type": "code",
      "source": [
        "# Find the max\n",
        "torch.max(X)"
      ],
      "metadata": {
        "colab": {
          "base_uri": "https://localhost:8080/"
        },
        "id": "MqIZZsbzOVbz",
        "outputId": "ace93308-f786-496f-a796-e8932f8e58fb"
      },
      "execution_count": 90,
      "outputs": [
        {
          "output_type": "execute_result",
          "data": {
            "text/plain": [
              "tensor(9)"
            ]
          },
          "metadata": {},
          "execution_count": 90
        }
      ]
    },
    {
      "cell_type": "code",
      "source": [
        "#Find the mean\n",
        "torch.mean(X.type(dtype = torch.float32))"
      ],
      "metadata": {
        "colab": {
          "base_uri": "https://localhost:8080/"
        },
        "id": "EpNO2HqhOZRe",
        "outputId": "6b0cb414-f156-4a6a-ed4a-1863dd078eca"
      },
      "execution_count": 93,
      "outputs": [
        {
          "output_type": "execute_result",
          "data": {
            "text/plain": [
              "tensor(4.5000)"
            ]
          },
          "metadata": {},
          "execution_count": 93
        }
      ]
    },
    {
      "cell_type": "code",
      "source": [
        "# Find the summ\n",
        "torch.sum(X)"
      ],
      "metadata": {
        "colab": {
          "base_uri": "https://localhost:8080/"
        },
        "id": "YY1oXqvdOvcA",
        "outputId": "ef3c6387-bdd1-4260-f0da-2a3b7adc2884"
      },
      "execution_count": 97,
      "outputs": [
        {
          "output_type": "execute_result",
          "data": {
            "text/plain": [
              "tensor(18)"
            ]
          },
          "metadata": {},
          "execution_count": 97
        }
      ]
    },
    {
      "cell_type": "code",
      "source": [],
      "metadata": {
        "id": "kGDN2YyxOz4O"
      },
      "execution_count": null,
      "outputs": []
    }
  ]
}