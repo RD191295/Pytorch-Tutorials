{
  "nbformat": 4,
  "nbformat_minor": 0,
  "metadata": {
    "colab": {
      "provenance": [],
      "authorship_tag": "ABX9TyMcL7R/b25JI3uX/rxA43Vt",
      "include_colab_link": true
    },
    "kernelspec": {
      "name": "python3",
      "display_name": "Python 3"
    },
    "language_info": {
      "name": "python"
    }
  },
  "cells": [
    {
      "cell_type": "markdown",
      "metadata": {
        "id": "view-in-github",
        "colab_type": "text"
      },
      "source": [
        "<a href=\"https://colab.research.google.com/github/RD191295/Pytorch-Tutorials/blob/main/01_Pytorch_Workflow.ipynb\" target=\"_parent\"><img src=\"https://colab.research.google.com/assets/colab-badge.svg\" alt=\"Open In Colab\"/></a>"
      ]
    },
    {
      "cell_type": "markdown",
      "source": [
        "## Pytorch WorkFlow\n",
        "\n",
        "Let's explore a an example Pytorch end-to-end workflow.\n",
        "\n",
        "1. Data Prepare and Load\n",
        "2. Build Model\n",
        "3. Fitting the model to data (training)\n",
        "4. Making predictions and evaluting a model (inference)\n",
        "5. Saving and loading a model\n",
        "6. Putting at all together"
      ],
      "metadata": {
        "id": "2c_9BYjpHFXe"
      }
    },
    {
      "cell_type": "code",
      "source": [
        "import torch\n",
        "from torch import nn # nn contains all of pytorch's all building block of nerual network\n",
        "import matplotlib.pyplot as plt\n",
        "\n",
        "\n",
        "# check Pytorch version\n",
        "torch.__version__"
      ],
      "metadata": {
        "colab": {
          "base_uri": "https://localhost:8080/",
          "height": 36
        },
        "id": "dHay3hJlMN0I",
        "outputId": "5b955a2b-84f8-4641-e7bd-4dd2eded672e"
      },
      "execution_count": 1,
      "outputs": [
        {
          "output_type": "execute_result",
          "data": {
            "text/plain": [
              "'2.0.0+cu118'"
            ],
            "application/vnd.google.colaboratory.intrinsic+json": {
              "type": "string"
            }
          },
          "metadata": {},
          "execution_count": 1
        }
      ]
    },
    {
      "cell_type": "markdown",
      "source": [
        "## 1. Data(Preparing and Loading)\n",
        "\n",
        "<li>Data Can be almost anything Like:</li>\n",
        "\n",
        "* Excel Speadsheet,csv\n",
        "* Images of any kind\n",
        "* Videos\n",
        "* Audio like songs or podcasts\n",
        "* DNA\n",
        "* Text\n",
        "\n",
        "Machine Learning is a game of two parts:\n",
        "1. Get Data  into a numerical representation.\n",
        "2. Build Model to learn patterns in that numerical representation."
      ],
      "metadata": {
        "id": "z-cnnYmONHus"
      }
    },
    {
      "cell_type": "code",
      "source": [
        "# CREATE *Known* parameters\n",
        "weight = 0.7\n",
        "bias = 0.3\n",
        "\n",
        "# Create Data\n",
        "start = 0\n",
        "end = 1\n",
        "step = 0.02\n",
        "\n",
        "# define X and Y\n",
        "X = torch.arange(start, end, step).unsqueeze(dim = 1)\n",
        "Y = weight * X + bias\n",
        "\n",
        "X[:10],Y[:10]"
      ],
      "metadata": {
        "colab": {
          "base_uri": "https://localhost:8080/"
        },
        "id": "0IIKuOQ8NK5l",
        "outputId": "75ba4ed8-42c8-4f51-ca77-a08c0aeb8c29"
      },
      "execution_count": 2,
      "outputs": [
        {
          "output_type": "execute_result",
          "data": {
            "text/plain": [
              "(tensor([[0.0000],\n",
              "         [0.0200],\n",
              "         [0.0400],\n",
              "         [0.0600],\n",
              "         [0.0800],\n",
              "         [0.1000],\n",
              "         [0.1200],\n",
              "         [0.1400],\n",
              "         [0.1600],\n",
              "         [0.1800]]),\n",
              " tensor([[0.3000],\n",
              "         [0.3140],\n",
              "         [0.3280],\n",
              "         [0.3420],\n",
              "         [0.3560],\n",
              "         [0.3700],\n",
              "         [0.3840],\n",
              "         [0.3980],\n",
              "         [0.4120],\n",
              "         [0.4260]]))"
            ]
          },
          "metadata": {},
          "execution_count": 2
        }
      ]
    },
    {
      "cell_type": "markdown",
      "source": [
        "### Spliting the data into training and test sets"
      ],
      "metadata": {
        "id": "XmZX_SdhPpoW"
      }
    },
    {
      "cell_type": "code",
      "source": [
        "# create a train/test split\n",
        "\n",
        "train_split = int(0.8 * len(X))\n",
        "X_train, y_train = X[:train_split], Y[:train_split]\n",
        "X_test, y_test = X[train_split:],Y[train_split:]"
      ],
      "metadata": {
        "id": "Qxsy7PCYPZ4S"
      },
      "execution_count": 3,
      "outputs": []
    },
    {
      "cell_type": "markdown",
      "source": [
        "## Visualizing Data !!!"
      ],
      "metadata": {
        "id": "8klCf_9nRnQT"
      }
    },
    {
      "cell_type": "code",
      "source": [
        "def plot_predictions(train_data = X_train,\n",
        "                      train_labels = y_train,\n",
        "                      test_data = X_test,\n",
        "                      test_labels = y_test,\n",
        "                      predictions = None):\n",
        "  \n",
        "  plt.figure(figsize = (16,14))\n",
        "\n",
        "  #plot training data in blue\n",
        "  plt.scatter(train_data, train_labels, c=\"b\", label = \"Training Data\")\n",
        "  \n",
        "  #plot testing data in green\n",
        "  plt.scatter(test_data, test_labels, c=\"g\", label = \"Testing Data\")\n",
        "\n",
        "  # Are there predictions\n",
        "  if predictions is not None:\n",
        "    # plot predictions if they exist\n",
        "    plt.scatter(test_data, predictions, c=\"r\", label = \"Predictions\")\n",
        "\n",
        "  \n",
        "  plt.legend(prop = {\"size\":14})\n"
      ],
      "metadata": {
        "id": "tCKZuHXWQ-Dh"
      },
      "execution_count": 28,
      "outputs": []
    },
    {
      "cell_type": "code",
      "source": [
        "plot_predictions()"
      ],
      "metadata": {
        "colab": {
          "base_uri": "https://localhost:8080/",
          "height": 599
        },
        "id": "3YoS12vxS1im",
        "outputId": "0a7ef360-3932-4b41-e7aa-045dd5f78bdd"
      },
      "execution_count": 5,
      "outputs": [
        {
          "output_type": "display_data",
          "data": {
            "text/plain": [
              "<Figure size 1000x700 with 1 Axes>"
            ],
            "image/png": "[encoded data removed]"
          },
          "metadata": {}
        }
      ]
    },
    {
      "cell_type": "markdown",
      "source": [
        "## 2. Buid Model\n",
        "\n"
      ],
      "metadata": {
        "id": "IRsJAoM0ip6T"
      }
    },
    {
      "cell_type": "code",
      "source": [
        "class LinearRegressionModel(nn.Module):\n",
        "  def __init__(self):\n",
        "    super().__init__()\n",
        "    self.weights = nn.Parameter(torch.randn(1, # <- start with random weights (this will get adjusted as the model learns)\n",
        "                                                dtype=torch.float), # <- PyTorch loves float32 by default\n",
        "                                   requires_grad=True) # <- can we update this value with gradient descent?)\n",
        "\n",
        "    self.bias = nn.Parameter(torch.randn(1, # <- start with random bias (this will get adjusted as the model learns)\n",
        "                                            dtype=torch.float), # <- PyTorch loves float32 by default\n",
        "                                requires_grad=True) # <- can we update this value with gradient descent?))\n",
        "\n",
        "    \n",
        "  # forward method to define compution in the model\n",
        "  def forward(self, x: torch.Tensor):\n",
        "    return self.weights*x + self.bias # this is linear regression formula"
      ],
      "metadata": {
        "id": "t3-NZcnci-l7"
      },
      "execution_count": 6,
      "outputs": []
    },
    {
      "cell_type": "markdown",
      "source": [
        "### Pytorch Model Building essentials\n",
        "\n",
        "PyTorch module\tWhat does it do?\n",
        "* torch.nn\tContains all of the building blocks for computational graphs (essentially a series of computations executed in a particular way).\n",
        "* torch.nn.Parameter\tStores tensors that can be used with nn.Module. If requires_grad=True gradients (used for updating model parameters via gradient descent) are calculated automatically, this is often referred to as \"autograd\".\n",
        "* torch.nn.Module\tThe base class for all neural network modules, all the building blocks for neural networks are subclasses. If you're building a neural network in PyTorch, your models should subclass nn.Module. Requires a forward() method be implemented.\n",
        "* torch.optim\tContains various optimization algorithms (these tell the model parameters stored in nn.Parameter how to best change to improve gradient descent and in turn reduce the loss).\n",
        "* def forward()\tAll nn.Module subclasses require a forward() method, this defines the computation that will take place on the data passed to the particular nn.Module (e.g. the linear regression formula above)."
      ],
      "metadata": {
        "id": "jmXgV4sxmy19"
      }
    },
    {
      "cell_type": "markdown",
      "source": [
        "### Checking the contents of our Pytorch Model\n",
        "\n",
        "Now we have created model , let see what inside the model !!\n",
        "\n",
        "So we can check our model parameters :"
      ],
      "metadata": {
        "id": "vo0S1WeCsmj_"
      }
    },
    {
      "cell_type": "code",
      "source": [
        "# create a random seed\n",
        "torch.manual_seed(42)\n",
        "\n",
        "# create an instance of the model ( this is a subclass of nn.Module)\n",
        "model_0 = LinearRegressionModel()\n",
        "\n",
        "# check out the parameters.\n",
        "list(model_0.parameters())"
      ],
      "metadata": {
        "colab": {
          "base_uri": "https://localhost:8080/"
        },
        "id": "KFeC5kTgmyav",
        "outputId": "d21a1d7a-12fd-4049-a24f-554c02e22ebc"
      },
      "execution_count": 7,
      "outputs": [
        {
          "output_type": "execute_result",
          "data": {
            "text/plain": [
              "[Parameter containing:\n",
              " tensor([0.3367], requires_grad=True),\n",
              " Parameter containing:\n",
              " tensor([0.1288], requires_grad=True)]"
            ]
          },
          "metadata": {},
          "execution_count": 7
        }
      ]
    },
    {
      "cell_type": "code",
      "source": [
        "# List named parameters \n",
        "model_0.state_dict()"
      ],
      "metadata": {
        "colab": {
          "base_uri": "https://localhost:8080/"
        },
        "id": "-1bW3HT1vYof",
        "outputId": "b19f8dc7-cd79-4f88-8681-27ca8edb05c3"
      },
      "execution_count": 8,
      "outputs": [
        {
          "output_type": "execute_result",
          "data": {
            "text/plain": [
              "OrderedDict([('weights', tensor([0.3367])), ('bias', tensor([0.1288]))])"
            ]
          },
          "metadata": {},
          "execution_count": 8
        }
      ]
    },
    {
      "cell_type": "markdown",
      "source": [
        "### Making Prediction using 'torch.inference_mode()\n",
        "\n",
        "To check our model's predictive power, let's see how well it predicts y_test based on X_test\n",
        "\n",
        "when we pass data through our model,it's going to run it through the forward() method"
      ],
      "metadata": {
        "id": "duxSk4Z10Fk9"
      }
    },
    {
      "cell_type": "code",
      "source": [
        "with torch.inference_mode():\n",
        "  y_preds = model_0(X_test)\n",
        "\n",
        "y_preds"
      ],
      "metadata": {
        "colab": {
          "base_uri": "https://localhost:8080/"
        },
        "id": "4ywMbTNN0G53",
        "outputId": "77afa7a0-88d1-4449-e31d-8f3834e587dc"
      },
      "execution_count": 9,
      "outputs": [
        {
          "output_type": "execute_result",
          "data": {
            "text/plain": [
              "tensor([[0.3982],\n",
              "        [0.4049],\n",
              "        [0.4116],\n",
              "        [0.4184],\n",
              "        [0.4251],\n",
              "        [0.4318],\n",
              "        [0.4386],\n",
              "        [0.4453],\n",
              "        [0.4520],\n",
              "        [0.4588]])"
            ]
          },
          "metadata": {},
          "execution_count": 9
        }
      ]
    },
    {
      "cell_type": "code",
      "source": [
        "#ploting graph with predictions\n",
        "plot_predictions(predictions = y_preds)"
      ],
      "metadata": {
        "colab": {
          "base_uri": "https://localhost:8080/",
          "height": 599
        },
        "id": "_4xuw7gOvh1M",
        "outputId": "d61ab165-db7d-4bb0-ae38-94410206ca2d"
      },
      "execution_count": 10,
      "outputs": [
        {
          "output_type": "display_data",
          "data": {
            "text/plain": [
              "<Figure size 1000x700 with 1 Axes>"
            ],
            "image/png": "[encoded data removed]"
          },
          "metadata": {}
        }
      ]
    },
    {
      "cell_type": "markdown",
      "source": [
        "## 3. Train Model\n",
        "\n",
        "The whole idea of training is for a model to move from some **unknown** parameters.\n",
        "\n",
        "\n",
        "or in other words from a poor representation of the data to a better representation of the data.\n",
        "\n",
        "one way to measure how poor or how wrong your models predictions are to use a loss function.\n",
        "\n",
        "* Note: Loss function may also be called a cost function or criterion in different areas, for our case we are going to refer to it as a loss funvtion\n",
        "\n",
        "Things we need to train:\n",
        "* **Loss Function** : A function to measure how wrong your models' predictions are to the ideal outputs, lower is better.\n",
        "* **Optimizer** : Takes into account the loss of a model and adjusts the model's parameter( e.g. weight & bias)"
      ],
      "metadata": {
        "id": "ChQ7FVoNppHJ"
      }
    },
    {
      "cell_type": "code",
      "source": [
        "list(model_0.parameters())"
      ],
      "metadata": {
        "colab": {
          "base_uri": "https://localhost:8080/"
        },
        "id": "SIjFIOjPpN4h",
        "outputId": "1ac5100c-af47-4df0-f030-f08d332cd67b"
      },
      "execution_count": 11,
      "outputs": [
        {
          "output_type": "execute_result",
          "data": {
            "text/plain": [
              "[Parameter containing:\n",
              " tensor([0.3367], requires_grad=True),\n",
              " Parameter containing:\n",
              " tensor([0.1288], requires_grad=True)]"
            ]
          },
          "metadata": {},
          "execution_count": 11
        }
      ]
    },
    {
      "cell_type": "code",
      "source": [
        "# Setup a loss function\n",
        "loss_fn = nn.L1Loss()\n",
        "\n",
        "# setup an Optimizer\n",
        "Optimizer = torch.optim.SGD(params = model_0.parameters(), \n",
        "                            lr = 0.01)# lr ---> learning rate"
      ],
      "metadata": {
        "id": "JRjva3CdrgcO"
      },
      "execution_count": 12,
      "outputs": []
    },
    {
      "cell_type": "markdown",
      "source": [
        "### Building a training loop (and a testing loop) in PyTorch\n",
        "\n",
        "A Couple of things we need in a training loop:\n",
        "* Loop through the data\n",
        "* Forward Pass ( thisa involves data moving through our model's `forward()` functions) to make prediction on data - also called forward propogation\n",
        "* Calculate the loss(compare forward pass predictions to ground truth labels)\n",
        "* Optimizer zero grad\n",
        "* Loss Backward - move backwards through the netwrok to calculate the gradients of each of the parameters of our model with respect to the loss (**backpropogation**)\n",
        "* Optimizer step - use the optimizer to adjust our model's parameters to try and improve the loss.(**Gradient descent**)"
      ],
      "metadata": {
        "id": "-OjR4Pp95UtZ"
      }
    },
    {
      "cell_type": "code",
      "source": [
        "# An epoch is one loop through the data\n",
        "epochs = 200\n",
        "\n",
        "# Loop through the data\n",
        "for epoch in range(epochs):\n",
        "  # set the model to training mode\n",
        "  model_0.train() # train mode in PyTorch Sets all parameters that requires gradients\n",
        "  \n",
        "  # Forward Pass\n",
        "  y_pred = model_0.forward(X_train)\n",
        "\n",
        "  # calculate loss\n",
        "  loss = loss_fn(y_pred,y_train)\n",
        "  \n",
        "  #Optimizer zero grad\n",
        "  Optimizer.zero_grad()\n",
        "\n",
        "  # backward prapogation\n",
        "  loss.backward()\n",
        "  \n",
        "   # step the optimizer\n",
        "  Optimizer.step()\n",
        "  ### Testing\n",
        "  model_0.eval()\n",
        "  with torch.inference_mode(): # turns off gradient tracking & a couple more things behind the scenes\n",
        "    #1. Do the forward pass\n",
        "    test_pred = model_0(X_test)\n",
        "\n",
        "    # 2. calculate loss\n",
        "    test_loss = loss_fn(test_pred,y_test)\n",
        "  \n",
        "  #print Loss \n",
        "  if epoch % 10 == 0:\n",
        "    print(f\"Epoch : {epoch} | Loss : {loss} | Test Loss : {test_loss}\")"
      ],
      "metadata": {
        "colab": {
          "base_uri": "https://localhost:8080/"
        },
        "id": "1OWXTUOc7RrJ",
        "outputId": "8b897921-b937-4d80-9365-033dcdef3b09"
      },
      "execution_count": 13,
      "outputs": [
        {
          "output_type": "stream",
          "name": "stdout",
          "text": [
            "Epoch : 0 | Loss : 0.31288138031959534 | Test Loss : 0.48106518387794495\n",
            "Epoch : 10 | Loss : 0.1976713240146637 | Test Loss : 0.3463551998138428\n",
            "Epoch : 20 | Loss : 0.08908725529909134 | Test Loss : 0.21729660034179688\n",
            "Epoch : 30 | Loss : 0.053148526698350906 | Test Loss : 0.14464017748832703\n",
            "Epoch : 40 | Loss : 0.04543796554207802 | Test Loss : 0.11360953003168106\n",
            "Epoch : 50 | Loss : 0.04167863354086876 | Test Loss : 0.09919948130846024\n",
            "Epoch : 60 | Loss : 0.03818932920694351 | Test Loss : 0.08886633068323135\n",
            "Epoch : 70 | Loss : 0.03476089984178543 | Test Loss : 0.0805937647819519\n",
            "Epoch : 80 | Loss : 0.03132382780313492 | Test Loss : 0.07232122868299484\n",
            "Epoch : 90 | Loss : 0.02788739837706089 | Test Loss : 0.06473556160926819\n",
            "Epoch : 100 | Loss : 0.024458957836031914 | Test Loss : 0.05646304413676262\n",
            "Epoch : 110 | Loss : 0.021020207554101944 | Test Loss : 0.04819049686193466\n",
            "Epoch : 120 | Loss : 0.01758546568453312 | Test Loss : 0.04060482233762741\n",
            "Epoch : 130 | Loss : 0.014155393466353416 | Test Loss : 0.03233227878808975\n",
            "Epoch : 140 | Loss : 0.010716589167714119 | Test Loss : 0.024059748277068138\n",
            "Epoch : 150 | Loss : 0.0072835334576666355 | Test Loss : 0.016474086791276932\n",
            "Epoch : 160 | Loss : 0.0038517764769494534 | Test Loss : 0.008201557211577892\n",
            "Epoch : 170 | Loss : 0.008932482451200485 | Test Loss : 0.005023092031478882\n",
            "Epoch : 180 | Loss : 0.008932482451200485 | Test Loss : 0.005023092031478882\n",
            "Epoch : 190 | Loss : 0.008932482451200485 | Test Loss : 0.005023092031478882\n"
          ]
        }
      ]
    },
    {
      "cell_type": "code",
      "source": [
        "list(model_0.parameters())"
      ],
      "metadata": {
        "colab": {
          "base_uri": "https://localhost:8080/"
        },
        "id": "ud51GqN5-lbB",
        "outputId": "2983b92b-c3f2-40b5-dd19-9d7408906a90"
      },
      "execution_count": 14,
      "outputs": [
        {
          "output_type": "execute_result",
          "data": {
            "text/plain": [
              "[Parameter containing:\n",
              " tensor([0.6990], requires_grad=True),\n",
              " Parameter containing:\n",
              " tensor([0.3093], requires_grad=True)]"
            ]
          },
          "metadata": {},
          "execution_count": 14
        }
      ]
    },
    {
      "cell_type": "code",
      "source": [
        "with torch.inference_mode():\n",
        "  y_preds = model_0(X_test)\n",
        "\n",
        "y_preds"
      ],
      "metadata": {
        "colab": {
          "base_uri": "https://localhost:8080/"
        },
        "id": "aRGyZnyo_G2O",
        "outputId": "6732f0b9-7bb9-418b-e34a-e77174167fe4"
      },
      "execution_count": 15,
      "outputs": [
        {
          "output_type": "execute_result",
          "data": {
            "text/plain": [
              "tensor([[0.8685],\n",
              "        [0.8825],\n",
              "        [0.8965],\n",
              "        [0.9105],\n",
              "        [0.9245],\n",
              "        [0.9384],\n",
              "        [0.9524],\n",
              "        [0.9664],\n",
              "        [0.9804],\n",
              "        [0.9944]])"
            ]
          },
          "metadata": {},
          "execution_count": 15
        }
      ]
    },
    {
      "cell_type": "code",
      "source": [
        "#ploting graph with predictions\n",
        "plot_predictions(predictions = y_preds)"
      ],
      "metadata": {
        "colab": {
          "base_uri": "https://localhost:8080/",
          "height": 599
        },
        "id": "q9GTYRu3_LyQ",
        "outputId": "8943586e-0237-483f-f22c-f6ee971f081a"
      },
      "execution_count": 16,
      "outputs": [
        {
          "output_type": "display_data",
          "data": {
            "text/plain": [
              "<Figure size 1000x700 with 1 Axes>"
            ],
            "image/png": "[encoded data removed]"
          },
          "metadata": {}
        }
      ]
    },
    {
      "cell_type": "markdown",
      "source": [
        "### Saving a Model in Pytorch"
      ],
      "metadata": {
        "id": "XxHWxS69A6l0"
      }
    },
    {
      "cell_type": "code",
      "source": [
        "# saving our Pytorch model\n",
        "from pathlib import Path\n",
        "\n",
        "# Create models Directory\n",
        "MODEL_PATH = Path(\"models\")\n",
        "MODEL_PATH.mkdir(parents = True, exist_ok = True)\n",
        "\n",
        "# Model Save Path\n",
        "MODEL_NAME = \"01_pytorch_workflow_model_0.pth\"\n",
        "MODEL_SAVE_PATH = MODEL_PATH / MODEL_NAME\n",
        "\n",
        "#Save Model(Stat_dict)\n",
        "torch.save(model_0.state_dict(),\n",
        "           f = MODEL_SAVE_PATH)"
      ],
      "metadata": {
        "id": "gqF8a7xQJaFP"
      },
      "execution_count": 17,
      "outputs": []
    },
    {
      "cell_type": "markdown",
      "source": [
        "## Loading Pytorch Model\n",
        "\n",
        "* Since we saved our model's `state_dict`() rather than entire model, we will create new instance of our model class and state_dict() into that"
      ],
      "metadata": {
        "id": "RrFM43tqBgVR"
      }
    },
    {
      "cell_type": "code",
      "source": [
        "# create new instance of model\n",
        "loaded_model_0 = LinearRegressionModel()\n",
        "\n",
        "# load the saved state dict of model_0\n",
        "loaded_model_0.load_state_dict(torch.load(f = MODEL_SAVE_PATH))"
      ],
      "metadata": {
        "colab": {
          "base_uri": "https://localhost:8080/"
        },
        "id": "PL6UnKVRB6Le",
        "outputId": "441d9e17-0903-47c8-faff-46e89d7fd316"
      },
      "execution_count": 18,
      "outputs": [
        {
          "output_type": "execute_result",
          "data": {
            "text/plain": [
              "<All keys matched successfully>"
            ]
          },
          "metadata": {},
          "execution_count": 18
        }
      ]
    },
    {
      "cell_type": "code",
      "source": [
        "loaded_model_0.state_dict()"
      ],
      "metadata": {
        "colab": {
          "base_uri": "https://localhost:8080/"
        },
        "id": "F2Dqv2DlCcOc",
        "outputId": "70585ed9-514c-4d29-88fd-4692042eaa87"
      },
      "execution_count": 19,
      "outputs": [
        {
          "output_type": "execute_result",
          "data": {
            "text/plain": [
              "OrderedDict([('weights', tensor([0.6990])), ('bias', tensor([0.3093]))])"
            ]
          },
          "metadata": {},
          "execution_count": 19
        }
      ]
    },
    {
      "cell_type": "code",
      "source": [
        "# Make some predictions with our loaded model\n",
        "loaded_model_0.eval()\n",
        "with torch.inference_mode():\n",
        "  loaded_model_preds = loaded_model_0(X_test)\n",
        "loaded_model_preds"
      ],
      "metadata": {
        "id": "rkLnfr4sCfjZ",
        "colab": {
          "base_uri": "https://localhost:8080/"
        },
        "outputId": "8a772f69-e1ff-422e-e263-de1406867827"
      },
      "execution_count": 20,
      "outputs": [
        {
          "output_type": "execute_result",
          "data": {
            "text/plain": [
              "tensor([[0.8685],\n",
              "        [0.8825],\n",
              "        [0.8965],\n",
              "        [0.9105],\n",
              "        [0.9245],\n",
              "        [0.9384],\n",
              "        [0.9524],\n",
              "        [0.9664],\n",
              "        [0.9804],\n",
              "        [0.9944]])"
            ]
          },
          "metadata": {},
          "execution_count": 20
        }
      ]
    },
    {
      "cell_type": "markdown",
      "source": [
        "## 6. Puting it all together"
      ],
      "metadata": {
        "id": "x31QTjkyIf8V"
      }
    },
    {
      "cell_type": "code",
      "source": [
        "# Import Pytorch and matplotlib\n",
        "import torch\n",
        "from torch import nn\n",
        "import matplotlib.pyplot as plt"
      ],
      "metadata": {
        "id": "htS_VqCTIjgW"
      },
      "execution_count": 21,
      "outputs": []
    },
    {
      "cell_type": "code",
      "source": [
        "# setup devie agnostic code\n",
        "device = \"cuda\" if torch.cuda.is_available() else \"cpu\"\n",
        "print(f\"Using device : {device}\")"
      ],
      "metadata": {
        "colab": {
          "base_uri": "https://localhost:8080/"
        },
        "id": "cuMe8kuhI4bF",
        "outputId": "a67bb002-5a7b-4e50-bf01-0ad1c115e7c0"
      },
      "execution_count": 22,
      "outputs": [
        {
          "output_type": "stream",
          "name": "stdout",
          "text": [
            "Using device : cpu\n"
          ]
        }
      ]
    },
    {
      "cell_type": "markdown",
      "source": [
        "## 6.1 Data"
      ],
      "metadata": {
        "id": "q8kYorTqJkFG"
      }
    },
    {
      "cell_type": "code",
      "source": [
        "# create some data using the linear regression formula of y= weight * x + bias\n",
        "weight  = 0.3\n",
        "bias = 0.7\n",
        "\n",
        "# create range values\n",
        "start = 0\n",
        "end = 5\n",
        "step = 0.02\n",
        "\n",
        "# create X and y (feature and labels)\n",
        "\n",
        "X = torch.arange(start, end, step).unsqueeze(dim = 1)\n",
        "y = weight * X  + bias"
      ],
      "metadata": {
        "id": "RPMDLK-HJjv6"
      },
      "execution_count": 38,
      "outputs": []
    },
    {
      "cell_type": "code",
      "source": [
        "# split data\n",
        "train_split = int(0.8 * len(X))\n",
        "\n",
        "X_train,y_train = X[:train_split], y[:train_split]\n",
        "X_test,y_test = X[train_split:], y[train_split:]"
      ],
      "metadata": {
        "id": "d3159tqtLKoN"
      },
      "execution_count": 39,
      "outputs": []
    },
    {
      "cell_type": "code",
      "source": [
        "plot_predictions(X_train,y_train,X_test,y_test)"
      ],
      "metadata": {
        "colab": {
          "base_uri": "https://localhost:8080/",
          "height": 1000
        },
        "id": "1QvhmW7PLfWr",
        "outputId": "96f66440-4f53-44a3-ed16-b7732a496cab"
      },
      "execution_count": 40,
      "outputs": [
        {
          "output_type": "display_data",
          "data": {
            "text/plain": [
              "<Figure size 1600x1400 with 1 Axes>"
            ],
            "image/png": "[encoded data removed]"
          },
          "metadata": {}
        }
      ]
    },
    {
      "cell_type": "markdown",
      "source": [
        "##6.2 Building a Pytorch Linear regression model"
      ],
      "metadata": {
        "id": "d_7InP-YLv5j"
      }
    },
    {
      "cell_type": "code",
      "source": [
        "class LinearRegressionModelV2(nn.Module):\n",
        "  def __init__(self):\n",
        "    super().__init__()\n",
        "    # Use nn.Linear() for creating the model parameters\n",
        "    self.linear_layer = nn.Linear(in_features  = 1,\n",
        "                                  out_features = 1)\n",
        "  \n",
        "  def forward(self, x):\n",
        "    return self.linear_layer(x)"
      ],
      "metadata": {
        "id": "Bk1jnLFYLucZ"
      },
      "execution_count": 41,
      "outputs": []
    },
    {
      "cell_type": "code",
      "source": [
        "# set manual seed\n",
        "torch.manual_seed(42)\n",
        "model_1 = LinearRegressionModelV2()\n",
        "model_1, model_1.state_dict()"
      ],
      "metadata": {
        "colab": {
          "base_uri": "https://localhost:8080/"
        },
        "id": "0UDsih76iD-f",
        "outputId": "73dd52d2-327f-41e4-ec62-6b142463842a"
      },
      "execution_count": 42,
      "outputs": [
        {
          "output_type": "execute_result",
          "data": {
            "text/plain": [
              "(LinearRegressionModelV2(\n",
              "   (linear_layer): Linear(in_features=1, out_features=1, bias=True)\n",
              " ),\n",
              " OrderedDict([('linear_layer.weight', tensor([[0.7645]])),\n",
              "              ('linear_layer.bias', tensor([0.8300]))]))"
            ]
          },
          "metadata": {},
          "execution_count": 42
        }
      ]
    },
    {
      "cell_type": "code",
      "source": [
        "# set model to use the target device\n",
        "model_1.to(device)"
      ],
      "metadata": {
        "colab": {
          "base_uri": "https://localhost:8080/"
        },
        "id": "7Wi3fXFIkE2i",
        "outputId": "f8a54cdd-329d-42eb-f5ac-9b98d2519b15"
      },
      "execution_count": 43,
      "outputs": [
        {
          "output_type": "execute_result",
          "data": {
            "text/plain": [
              "LinearRegressionModelV2(\n",
              "  (linear_layer): Linear(in_features=1, out_features=1, bias=True)\n",
              ")"
            ]
          },
          "metadata": {},
          "execution_count": 43
        }
      ]
    },
    {
      "cell_type": "markdown",
      "source": [
        "### 6.3 Training"
      ],
      "metadata": {
        "id": "2alp4TjbksFw"
      }
    },
    {
      "cell_type": "code",
      "source": [
        "# Setup a loss function\n",
        "loss_fn = nn.L1Loss()\n",
        "\n",
        "# setup an Optimizer\n",
        "Optimizer = torch.optim.SGD(params = model_1.parameters(), \n",
        "                            lr = 0.01)# lr ---> learning rate"
      ],
      "metadata": {
        "id": "XCJTs5j0lKiq"
      },
      "execution_count": 44,
      "outputs": []
    },
    {
      "cell_type": "code",
      "source": [
        "# An epoch is one loop through the data\n",
        "epochs = 200\n",
        "\n",
        "# Loop through the data\n",
        "for epoch in range(epochs):\n",
        "  # set the model to training mode\n",
        "  model_1.train() # train mode in PyTorch Sets all parameters that requires gradients\n",
        "  \n",
        "  # Forward Pass\n",
        "  y_pred = model_1.forward(X_train)\n",
        "\n",
        "  # calculate loss\n",
        "  loss = loss_fn(y_pred,y_train)\n",
        "  \n",
        "  #Optimizer zero grad\n",
        "  Optimizer.zero_grad()\n",
        "\n",
        "  # backward prapogation\n",
        "  loss.backward()\n",
        "  \n",
        "   # step the optimizer\n",
        "  Optimizer.step()\n",
        "  ### Testing\n",
        "  model_0.eval()\n",
        "  with torch.inference_mode(): # turns off gradient tracking & a couple more things behind the scenes\n",
        "    #1. Do the forward pass\n",
        "    test_pred = model_1(X_test)\n",
        "\n",
        "    # 2. calculate loss\n",
        "    test_loss = loss_fn(test_pred,y_test)\n",
        "  \n",
        "  #print Loss \n",
        "  if epoch % 10 == 0:\n",
        "    print(f\"Epoch : {epoch} | Loss : {loss} | Test Loss : {test_loss}\")"
      ],
      "metadata": {
        "colab": {
          "base_uri": "https://localhost:8080/"
        },
        "id": "ePV38tTqkkjW",
        "outputId": "fa857b27-5553-4afa-f7cb-3525d90e3c7b"
      },
      "execution_count": 49,
      "outputs": [
        {
          "output_type": "stream",
          "name": "stdout",
          "text": [
            "Epoch : 0 | Loss : 0.04118931666016579 | Test Loss : 0.006426310632377863\n",
            "Epoch : 10 | Loss : 0.04118931666016579 | Test Loss : 0.006426310632377863\n",
            "Epoch : 20 | Loss : 0.04118931666016579 | Test Loss : 0.006426310632377863\n",
            "Epoch : 30 | Loss : 0.04118931666016579 | Test Loss : 0.006426310632377863\n",
            "Epoch : 40 | Loss : 0.04118931666016579 | Test Loss : 0.006426310632377863\n",
            "Epoch : 50 | Loss : 0.04118931666016579 | Test Loss : 0.006426310632377863\n",
            "Epoch : 60 | Loss : 0.04118931666016579 | Test Loss : 0.006426310632377863\n",
            "Epoch : 70 | Loss : 0.04118931666016579 | Test Loss : 0.006426310632377863\n",
            "Epoch : 80 | Loss : 0.04118931666016579 | Test Loss : 0.006426310632377863\n",
            "Epoch : 90 | Loss : 0.04118931666016579 | Test Loss : 0.006426310632377863\n",
            "Epoch : 100 | Loss : 0.04118931666016579 | Test Loss : 0.006426310632377863\n",
            "Epoch : 110 | Loss : 0.04118931666016579 | Test Loss : 0.006426310632377863\n",
            "Epoch : 120 | Loss : 0.04118931666016579 | Test Loss : 0.006426310632377863\n",
            "Epoch : 130 | Loss : 0.04118931666016579 | Test Loss : 0.006426310632377863\n",
            "Epoch : 140 | Loss : 0.04118931666016579 | Test Loss : 0.006426310632377863\n",
            "Epoch : 150 | Loss : 0.04118931666016579 | Test Loss : 0.006426310632377863\n",
            "Epoch : 160 | Loss : 0.04118931666016579 | Test Loss : 0.006426310632377863\n",
            "Epoch : 170 | Loss : 0.04118931666016579 | Test Loss : 0.006426310632377863\n",
            "Epoch : 180 | Loss : 0.04118931666016579 | Test Loss : 0.006426310632377863\n",
            "Epoch : 190 | Loss : 0.04118931666016579 | Test Loss : 0.006426310632377863\n"
          ]
        }
      ]
    },
    {
      "cell_type": "code",
      "source": [
        "model_1.state_dict()"
      ],
      "metadata": {
        "colab": {
          "base_uri": "https://localhost:8080/"
        },
        "id": "qFx7hhgDlW9H",
        "outputId": "38af0363-10dc-43f6-9f82-3ff91d835f55"
      },
      "execution_count": 50,
      "outputs": [
        {
          "output_type": "execute_result",
          "data": {
            "text/plain": [
              "OrderedDict([('linear_layer.weight', tensor([[0.3207]])),\n",
              "             ('linear_layer.bias', tensor([0.7000]))])"
            ]
          },
          "metadata": {},
          "execution_count": 50
        }
      ]
    },
    {
      "cell_type": "markdown",
      "source": [
        "### 6.4 Making and evaluating predictions"
      ],
      "metadata": {
        "id": "at4--vy5jGOk"
      }
    },
    {
      "cell_type": "code",
      "source": [
        "# Turn Model into evalution mode\n",
        "model_1.eval()\n",
        "\n",
        "# make predictions on the test data\n",
        "with torch.inference_mode():\n",
        "  y_pred = model_1(X_test)"
      ],
      "metadata": {
        "id": "afy_d3MZjFdY"
      },
      "execution_count": 51,
      "outputs": []
    },
    {
      "cell_type": "code",
      "source": [
        "plot_predictions(X_train,y_train,X_test,y_test,y_pred)"
      ],
      "metadata": {
        "colab": {
          "base_uri": "https://localhost:8080/",
          "height": 1000
        },
        "id": "YOporiL4ir_G",
        "outputId": "d2694b51-6f90-44da-c1b7-46aa85cd15f0"
      },
      "execution_count": 52,
      "outputs": [
        {
          "output_type": "display_data",
          "data": {
            "text/plain": [
              "<Figure size 1600x1400 with 1 Axes>"
            ],
            "image/png": "[encoded data removed]"
          },
          "metadata": {}
        }
      ]
    }
  ]
}