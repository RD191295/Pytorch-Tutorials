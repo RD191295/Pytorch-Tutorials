{
  "nbformat": 4,
  "nbformat_minor": 0,
  "metadata": {
    "colab": {
      "provenance": [],
      "include_colab_link": true
    },
    "kernelspec": {
      "name": "python3",
      "display_name": "Python 3"
    },
    "language_info": {
      "name": "python"
    },
    "accelerator": "GPU",
    "gpuClass": "standard"
  },
  "cells": [
    {
      "cell_type": "markdown",
      "metadata": {
        "id": "view-in-github",
        "colab_type": "text"
      },
      "source": [
        "<a href=\"https://colab.research.google.com/github/RD191295/Pytorch-Tutorials/blob/main/00_Pytorch_Fundamentals.ipynb\" target=\"_parent\"><img src=\"https://colab.research.google.com/assets/colab-badge.svg\" alt=\"Open In Colab\"/></a>"
      ]
    },
    {
      "cell_type": "markdown",
      "source": [
        "##📗 Pytorch Fundamentals"
      ],
      "metadata": {
        "id": "yignxvRnBucO"
      }
    },
    {
      "cell_type": "markdown",
      "source": [
        "### 📕***Introduction to Pytorch***\n",
        "<p align=\"justify\"> PyTorch is an open-source library used in machine learning library developed using Torch library for python program. It is developed by Facebook’s AI Research lab and released in January 2016 as a free and open-source library mainly used in computer vision, deep learning, and natural language processing applications. Programmer can build a complex neural network with ease using PyTorch as it has a core data structure, Tensor, multi-dimensional array like Numpy arrays. PyTorch use is increasing in current industries and in the research community as it is flexible, faster, easy to get the project up and running, due to which PyTorch is one of the top deep learning tools.<p>\n",
        "\n",
        "\n",
        "\n",
        "🔖**Source Link:** https://pytorch.org/"
      ],
      "metadata": {
        "id": "4q1LZeY3jWrP"
      }
    },
    {
      "cell_type": "code",
      "execution_count": 88,
      "metadata": {
        "colab": {
          "base_uri": "https://localhost:8080/"
        },
        "id": "vsJNVlkq-sCc",
        "outputId": "7e52871a-0222-4f63-8f2c-5ebd1ee2a44a"
      },
      "outputs": [
        {
          "output_type": "stream",
          "name": "stdout",
          "text": [
            "1.13.1+cu116\n"
          ]
        }
      ],
      "source": [
        "import torch\n",
        "print(torch.__version__)"
      ]
    },
    {
      "cell_type": "code",
      "source": [
        "!nvidia-smi"
      ],
      "metadata": {
        "colab": {
          "base_uri": "https://localhost:8080/"
        },
        "id": "1Zg0WqlbC7Ue",
        "outputId": "c1731a11-be78-47c5-9e2b-b602ae603b26"
      },
      "execution_count": 89,
      "outputs": [
        {
          "output_type": "stream",
          "name": "stdout",
          "text": [
            "Mon Apr  3 16:29:33 2023       \n",
            "+-----------------------------------------------------------------------------+\n",
            "| NVIDIA-SMI 525.85.12    Driver Version: 525.85.12    CUDA Version: 12.0     |\n",
            "|-------------------------------+----------------------+----------------------+\n",
            "| GPU  Name        Persistence-M| Bus-Id        Disp.A | Volatile Uncorr. ECC |\n",
            "| Fan  Temp  Perf  Pwr:Usage/Cap|         Memory-Usage | GPU-Util  Compute M. |\n",
            "|                               |                      |               MIG M. |\n",
            "|===============================+======================+======================|\n",
            "|   0  Tesla T4            Off  | 00000000:00:04.0 Off |                    0 |\n",
            "| N/A   50C    P0    26W /  70W |    573MiB / 15360MiB |      0%      Default |\n",
            "|                               |                      |                  N/A |\n",
            "+-------------------------------+----------------------+----------------------+\n",
            "                                                                               \n",
            "+-----------------------------------------------------------------------------+\n",
            "| Processes:                                                                  |\n",
            "|  GPU   GI   CI        PID   Type   Process name                  GPU Memory |\n",
            "|        ID   ID                                                   Usage      |\n",
            "|=============================================================================|\n",
            "+-----------------------------------------------------------------------------+\n"
          ]
        }
      ]
    },
    {
      "cell_type": "markdown",
      "source": [
        "## 📗Introduction to Tensors"
      ],
      "metadata": {
        "id": "pbtGmDE1ZBe9"
      }
    },
    {
      "cell_type": "markdown",
      "source": [
        "###📕Creating Tensors\n",
        "\n",
        "🔖**Source Link**: https://pytorch.org/docs/stable/tensors.html"
      ],
      "metadata": {
        "id": "S9P76822dxy6"
      }
    },
    {
      "cell_type": "code",
      "source": [
        "# Scalar \n",
        "scalar  = torch.tensor(7)\n",
        "scalar"
      ],
      "metadata": {
        "colab": {
          "base_uri": "https://localhost:8080/"
        },
        "id": "93MuGV4VFMq7",
        "outputId": "15bb077e-f748-42e0-8721-e2cd74237cc4"
      },
      "execution_count": 90,
      "outputs": [
        {
          "output_type": "execute_result",
          "data": {
            "text/plain": [
              "tensor(7)"
            ]
          },
          "metadata": {},
          "execution_count": 90
        }
      ]
    },
    {
      "cell_type": "code",
      "source": [
        "# Scalar has no dimension !!\n",
        "scalar.ndim"
      ],
      "metadata": {
        "colab": {
          "base_uri": "https://localhost:8080/"
        },
        "id": "tzlFBo4UZgZw",
        "outputId": "745081da-fbad-41ea-99e8-6dc7ed57c458"
      },
      "execution_count": 91,
      "outputs": [
        {
          "output_type": "execute_result",
          "data": {
            "text/plain": [
              "0"
            ]
          },
          "metadata": {},
          "execution_count": 91
        }
      ]
    },
    {
      "cell_type": "code",
      "source": [
        "# Vectors\n",
        "Vector = torch.tensor([7,1])\n",
        "Vector"
      ],
      "metadata": {
        "colab": {
          "base_uri": "https://localhost:8080/"
        },
        "id": "7E69Tq2FZjFl",
        "outputId": "43d6b02e-514b-46ca-8d59-aded398e5e1f"
      },
      "execution_count": 92,
      "outputs": [
        {
          "output_type": "execute_result",
          "data": {
            "text/plain": [
              "tensor([7, 1])"
            ]
          },
          "metadata": {},
          "execution_count": 92
        }
      ]
    },
    {
      "cell_type": "code",
      "source": [
        "# Vector has 1 dimension!!\n",
        "Vector.ndim"
      ],
      "metadata": {
        "colab": {
          "base_uri": "https://localhost:8080/"
        },
        "id": "laMbf9V-Z03X",
        "outputId": "f0dd8212-756c-464b-a041-ee2dbe54bf08"
      },
      "execution_count": 93,
      "outputs": [
        {
          "output_type": "execute_result",
          "data": {
            "text/plain": [
              "1"
            ]
          },
          "metadata": {},
          "execution_count": 93
        }
      ]
    },
    {
      "cell_type": "code",
      "source": [
        "# Vector shape\n",
        "Vector.shape"
      ],
      "metadata": {
        "colab": {
          "base_uri": "https://localhost:8080/"
        },
        "id": "mnD--xqKZ7S1",
        "outputId": "5bfba762-70a1-4088-e1dd-eeb4fc6ab928"
      },
      "execution_count": 94,
      "outputs": [
        {
          "output_type": "execute_result",
          "data": {
            "text/plain": [
              "torch.Size([2])"
            ]
          },
          "metadata": {},
          "execution_count": 94
        }
      ]
    },
    {
      "cell_type": "code",
      "source": [
        "# Matric\n",
        "Matrix = torch.tensor([[7, 8],\n",
        "                       [9, 10]])\n",
        "\n",
        "Matrix"
      ],
      "metadata": {
        "colab": {
          "base_uri": "https://localhost:8080/"
        },
        "id": "S3pLEumWaARB",
        "outputId": "9b371a66-59d3-4205-a5c7-fad32da4f3a3"
      },
      "execution_count": 95,
      "outputs": [
        {
          "output_type": "execute_result",
          "data": {
            "text/plain": [
              "tensor([[ 7,  8],\n",
              "        [ 9, 10]])"
            ]
          },
          "metadata": {},
          "execution_count": 95
        }
      ]
    },
    {
      "cell_type": "code",
      "source": [
        "# Matric has 2 dim\n",
        "Matrix.ndim"
      ],
      "metadata": {
        "colab": {
          "base_uri": "https://localhost:8080/"
        },
        "id": "ZmDPQ9pSaPs5",
        "outputId": "3dccd966-a449-4b3e-f05b-e9066f52f63f"
      },
      "execution_count": 96,
      "outputs": [
        {
          "output_type": "execute_result",
          "data": {
            "text/plain": [
              "2"
            ]
          },
          "metadata": {},
          "execution_count": 96
        }
      ]
    },
    {
      "cell_type": "code",
      "source": [
        "# Matrix shape\n",
        "Matrix.shape"
      ],
      "metadata": {
        "colab": {
          "base_uri": "https://localhost:8080/"
        },
        "id": "Ov0UuWalaXff",
        "outputId": "0ba285d2-61ef-4c15-a64f-2b5d7765363b"
      },
      "execution_count": 97,
      "outputs": [
        {
          "output_type": "execute_result",
          "data": {
            "text/plain": [
              "torch.Size([2, 2])"
            ]
          },
          "metadata": {},
          "execution_count": 97
        }
      ]
    },
    {
      "cell_type": "code",
      "source": [
        "# Tensor\n",
        "TENSOR = torch.tensor([[[1, 2, 3],\n",
        "                        [3, 6, 9],\n",
        "                        [2, 4, 5]]])\n",
        "TENSOR"
      ],
      "metadata": {
        "colab": {
          "base_uri": "https://localhost:8080/"
        },
        "id": "juuYyrh1acsl",
        "outputId": "42c94cf3-b257-4e77-afc2-7c65e9b31fb2"
      },
      "execution_count": 98,
      "outputs": [
        {
          "output_type": "execute_result",
          "data": {
            "text/plain": [
              "tensor([[[1, 2, 3],\n",
              "         [3, 6, 9],\n",
              "         [2, 4, 5]]])"
            ]
          },
          "metadata": {},
          "execution_count": 98
        }
      ]
    },
    {
      "cell_type": "code",
      "source": [
        "# Tensor dimension --- it has N dimension\n",
        "TENSOR.ndim"
      ],
      "metadata": {
        "colab": {
          "base_uri": "https://localhost:8080/"
        },
        "id": "kv7gOb0NatTi",
        "outputId": "82f922be-f768-41f9-e188-d2aac88e404e"
      },
      "execution_count": 99,
      "outputs": [
        {
          "output_type": "execute_result",
          "data": {
            "text/plain": [
              "3"
            ]
          },
          "metadata": {},
          "execution_count": 99
        }
      ]
    },
    {
      "cell_type": "code",
      "source": [
        "# Tensor shape\n",
        "TENSOR.shape"
      ],
      "metadata": {
        "colab": {
          "base_uri": "https://localhost:8080/"
        },
        "id": "36eDqFViaz_H",
        "outputId": "c04ffa0d-481c-4583-d886-272f773d2bea"
      },
      "execution_count": 100,
      "outputs": [
        {
          "output_type": "execute_result",
          "data": {
            "text/plain": [
              "torch.Size([1, 3, 3])"
            ]
          },
          "metadata": {},
          "execution_count": 100
        }
      ]
    },
    {
      "cell_type": "code",
      "source": [
        "# Tensor Example 2\n",
        "Tensor_2 = torch.tensor([[[1,2,3],\n",
        "                          [3,2,5]],\n",
        "                         [[4,3,5],\n",
        "                          [5,6,7]]])\n",
        "Tensor_2"
      ],
      "metadata": {
        "colab": {
          "base_uri": "https://localhost:8080/"
        },
        "id": "NwSTWNwEbPns",
        "outputId": "0f141227-10e0-4468-c888-414aa9c114dc"
      },
      "execution_count": 101,
      "outputs": [
        {
          "output_type": "execute_result",
          "data": {
            "text/plain": [
              "tensor([[[1, 2, 3],\n",
              "         [3, 2, 5]],\n",
              "\n",
              "        [[4, 3, 5],\n",
              "         [5, 6, 7]]])"
            ]
          },
          "metadata": {},
          "execution_count": 101
        }
      ]
    },
    {
      "cell_type": "code",
      "source": [
        "# Tensor_2 Shape\n",
        "Tensor_2.shape"
      ],
      "metadata": {
        "colab": {
          "base_uri": "https://localhost:8080/"
        },
        "id": "FALBUbBRbfTb",
        "outputId": "1bf082d0-1431-4d78-bdd0-2c42a45ae2b3"
      },
      "execution_count": 102,
      "outputs": [
        {
          "output_type": "execute_result",
          "data": {
            "text/plain": [
              "torch.Size([2, 2, 3])"
            ]
          },
          "metadata": {},
          "execution_count": 102
        }
      ]
    },
    {
      "cell_type": "markdown",
      "source": [
        "### 📕 Random Tensors\n",
        "\n",
        "Why Random Tensors❓\n",
        "\n",
        "Random tensors are important because the way many nerual networks learn is that they start with tensors full of random numbers and then adjust those random numbers to better represent the data.\n",
        "\n",
        "``` \n",
        "Start with random numbers --> look at the data --> Update random numbers --> look at the data --> Update ranodm numbers\n",
        "```\n",
        "\n",
        "🔖**Source Link:** https://pytorch.org/docs/stable/generated/torch.rand.html\n"
      ],
      "metadata": {
        "id": "jGIT-ZhCeAPK"
      }
    },
    {
      "cell_type": "code",
      "source": [
        "# Create a random tensor of size (3, 4)\n",
        "random_tensor = torch.rand(3, 4)\n",
        "random_tensor"
      ],
      "metadata": {
        "colab": {
          "base_uri": "https://localhost:8080/"
        },
        "id": "cKcvP3FZeC-v",
        "outputId": "f6629059-4f69-4cb1-f2d7-5197ec2e17ef"
      },
      "execution_count": 103,
      "outputs": [
        {
          "output_type": "execute_result",
          "data": {
            "text/plain": [
              "tensor([[0.7749, 0.8208, 0.2793, 0.6817],\n",
              "        [0.2837, 0.6567, 0.2388, 0.7313],\n",
              "        [0.6012, 0.3043, 0.2548, 0.6294]])"
            ]
          },
          "metadata": {},
          "execution_count": 103
        }
      ]
    },
    {
      "cell_type": "code",
      "source": [
        "# Create a random tensor with similar shape to an image tensor\n",
        "random_image_size_tensor = torch.rand(size = (224, 224, 3))\n",
        "random_image_size_tensor.shape, random_image_size_tensor.ndim"
      ],
      "metadata": {
        "colab": {
          "base_uri": "https://localhost:8080/"
        },
        "id": "s_NQ78adgRQg",
        "outputId": "492c17fc-256d-4edb-8dc8-2460ea67fa57"
      },
      "execution_count": 104,
      "outputs": [
        {
          "output_type": "execute_result",
          "data": {
            "text/plain": [
              "(torch.Size([224, 224, 3]), 3)"
            ]
          },
          "metadata": {},
          "execution_count": 104
        }
      ]
    },
    {
      "cell_type": "code",
      "source": [
        "# Create New Random Tensor\n",
        "Random_1 = torch.rand(size = (5,4,3))\n",
        "Random_1 , Random_1.ndim, Random_1.shape"
      ],
      "metadata": {
        "colab": {
          "base_uri": "https://localhost:8080/"
        },
        "id": "kcapYiewhGcT",
        "outputId": "53719446-00a9-4bd4-fd19-b4e648be2a9d"
      },
      "execution_count": 105,
      "outputs": [
        {
          "output_type": "execute_result",
          "data": {
            "text/plain": [
              "(tensor([[[0.3940, 0.3469, 0.1459],\n",
              "          [0.0454, 0.8159, 0.5036],\n",
              "          [0.6007, 0.6584, 0.4109],\n",
              "          [0.2333, 0.8381, 0.1091]],\n",
              " \n",
              "         [[0.9584, 0.0128, 0.4813],\n",
              "          [0.5963, 0.3217, 0.3314],\n",
              "          [0.2028, 0.1269, 0.0742],\n",
              "          [0.1051, 0.9332, 0.9103]],\n",
              " \n",
              "         [[0.0926, 0.9609, 0.7868],\n",
              "          [0.6911, 0.5609, 0.7034],\n",
              "          [0.4121, 0.0550, 0.2476],\n",
              "          [0.1249, 0.6033, 0.8041]],\n",
              " \n",
              "         [[0.8806, 0.0570, 0.5975],\n",
              "          [0.4692, 0.9430, 0.0755],\n",
              "          [0.9589, 0.8139, 0.2305],\n",
              "          [0.5514, 0.2681, 0.8950]],\n",
              " \n",
              "         [[0.0874, 0.1130, 0.0637],\n",
              "          [0.8740, 0.4538, 0.7753],\n",
              "          [0.2465, 0.6181, 0.0559],\n",
              "          [0.9661, 0.3524, 0.1406]]]),\n",
              " 3,\n",
              " torch.Size([5, 4, 3]))"
            ]
          },
          "metadata": {},
          "execution_count": 105
        }
      ]
    },
    {
      "cell_type": "markdown",
      "source": [
        "### 📕 Zeros and Ones\n",
        "\n",
        "\n",
        "🔖**Source Link:** https://pytorch.org/docs/stable/generated/torch.zeros.html\n",
        "\n",
        "🔖**Source Link:** https://pytorch.org/docs/stable/generated/torch.ones.html"
      ],
      "metadata": {
        "id": "WBSeuW-ohEDk"
      }
    },
    {
      "cell_type": "code",
      "source": [
        "# Create a tensor of all zeros\n",
        "Zeros = torch.zeros(size = (3,4))\n",
        "Zeros"
      ],
      "metadata": {
        "colab": {
          "base_uri": "https://localhost:8080/"
        },
        "id": "cbROK9zyhDBY",
        "outputId": "b5c8fdf4-e87a-46e3-c273-60a79f72a863"
      },
      "execution_count": 106,
      "outputs": [
        {
          "output_type": "execute_result",
          "data": {
            "text/plain": [
              "tensor([[0., 0., 0., 0.],\n",
              "        [0., 0., 0., 0.],\n",
              "        [0., 0., 0., 0.]])"
            ]
          },
          "metadata": {},
          "execution_count": 106
        }
      ]
    },
    {
      "cell_type": "code",
      "source": [
        "# Create a tensors of all ones\n",
        "ones = torch.ones(size = (4,5))\n",
        "ones"
      ],
      "metadata": {
        "colab": {
          "base_uri": "https://localhost:8080/"
        },
        "id": "w4NXQuCkiHTK",
        "outputId": "b84120e5-fb29-4953-e5b3-841f0329db73"
      },
      "execution_count": 107,
      "outputs": [
        {
          "output_type": "execute_result",
          "data": {
            "text/plain": [
              "tensor([[1., 1., 1., 1., 1.],\n",
              "        [1., 1., 1., 1., 1.],\n",
              "        [1., 1., 1., 1., 1.],\n",
              "        [1., 1., 1., 1., 1.]])"
            ]
          },
          "metadata": {},
          "execution_count": 107
        }
      ]
    },
    {
      "cell_type": "markdown",
      "source": [
        "### 📕Creating range of tensors and tenosr-like\n",
        "\n",
        "\n",
        "🔖**Source Link:** https://pytorch.org/docs/stable/generated/torch.arange.html\n",
        "\n",
        "\n",
        "🔖**Source Link:** https://pytorch.org/docs/stable/generated/torch.zeros_like.html"
      ],
      "metadata": {
        "id": "On-EwFQakWCi"
      }
    },
    {
      "cell_type": "code",
      "source": [
        "# Use torch.arange()\n",
        "one_to_ten = torch.arange(start = 1, end = 211, step = 2)\n",
        "one_to_ten"
      ],
      "metadata": {
        "colab": {
          "base_uri": "https://localhost:8080/"
        },
        "id": "LUHds0b8oo5K",
        "outputId": "74685d14-6455-487a-cfb1-515e662695f5"
      },
      "execution_count": 108,
      "outputs": [
        {
          "output_type": "execute_result",
          "data": {
            "text/plain": [
              "tensor([  1,   3,   5,   7,   9,  11,  13,  15,  17,  19,  21,  23,  25,  27,\n",
              "         29,  31,  33,  35,  37,  39,  41,  43,  45,  47,  49,  51,  53,  55,\n",
              "         57,  59,  61,  63,  65,  67,  69,  71,  73,  75,  77,  79,  81,  83,\n",
              "         85,  87,  89,  91,  93,  95,  97,  99, 101, 103, 105, 107, 109, 111,\n",
              "        113, 115, 117, 119, 121, 123, 125, 127, 129, 131, 133, 135, 137, 139,\n",
              "        141, 143, 145, 147, 149, 151, 153, 155, 157, 159, 161, 163, 165, 167,\n",
              "        169, 171, 173, 175, 177, 179, 181, 183, 185, 187, 189, 191, 193, 195,\n",
              "        197, 199, 201, 203, 205, 207, 209])"
            ]
          },
          "metadata": {},
          "execution_count": 108
        }
      ]
    },
    {
      "cell_type": "code",
      "source": [
        "# Creating tensors like\n",
        "ten_zeros = torch.zeros_like(input = one_to_ten)\n",
        "ten_zeros"
      ],
      "metadata": {
        "colab": {
          "base_uri": "https://localhost:8080/"
        },
        "id": "vWfFLdKDpN1W",
        "outputId": "6b849d79-880e-4f48-bff2-c7334091d580"
      },
      "execution_count": 109,
      "outputs": [
        {
          "output_type": "execute_result",
          "data": {
            "text/plain": [
              "tensor([0, 0, 0, 0, 0, 0, 0, 0, 0, 0, 0, 0, 0, 0, 0, 0, 0, 0, 0, 0, 0, 0, 0, 0,\n",
              "        0, 0, 0, 0, 0, 0, 0, 0, 0, 0, 0, 0, 0, 0, 0, 0, 0, 0, 0, 0, 0, 0, 0, 0,\n",
              "        0, 0, 0, 0, 0, 0, 0, 0, 0, 0, 0, 0, 0, 0, 0, 0, 0, 0, 0, 0, 0, 0, 0, 0,\n",
              "        0, 0, 0, 0, 0, 0, 0, 0, 0, 0, 0, 0, 0, 0, 0, 0, 0, 0, 0, 0, 0, 0, 0, 0,\n",
              "        0, 0, 0, 0, 0, 0, 0, 0, 0])"
            ]
          },
          "metadata": {},
          "execution_count": 109
        }
      ]
    },
    {
      "cell_type": "markdown",
      "source": [
        "### 📕Tensor Datatypes\n",
        "\n",
        "**🔑Note:** Tensor datatypes is one of the 3 big errors you will run into with Pytorch:\n",
        "1. Tensors not right datatype\n",
        "2. Tensors not right shape\n",
        "3. Tensors not on the right device"
      ],
      "metadata": {
        "id": "OlS4SBI7pqF8"
      }
    },
    {
      "cell_type": "code",
      "source": [
        "# Float 32 tensors\n",
        "float_32_tensor = torch.tensor([3.0, 6.0, 9.0],\n",
        "                               dtype = None,  # what datatype is the tensor\n",
        "                               device = None, # The device of the constructed tensor. If None and data is a tensor then the device of data is used. If None and data is not a tensor then the result tensor is constructed on the CPU.\n",
        "                               requires_grad = False # if need to fine gradient\n",
        "                               )\n",
        "float_32_tensor"
      ],
      "metadata": {
        "colab": {
          "base_uri": "https://localhost:8080/"
        },
        "id": "C2KLx5zUpjyC",
        "outputId": "f888375a-6ae6-465d-bd14-890a4699b4ca"
      },
      "execution_count": 110,
      "outputs": [
        {
          "output_type": "execute_result",
          "data": {
            "text/plain": [
              "tensor([3., 6., 9.])"
            ]
          },
          "metadata": {},
          "execution_count": 110
        }
      ]
    },
    {
      "cell_type": "code",
      "source": [
        "float_32_tensor.dtype"
      ],
      "metadata": {
        "colab": {
          "base_uri": "https://localhost:8080/"
        },
        "id": "hBpB-e6Lq8Ts",
        "outputId": "5562cf40-0f32-472e-9cd1-237a15cfbc4b"
      },
      "execution_count": 111,
      "outputs": [
        {
          "output_type": "execute_result",
          "data": {
            "text/plain": [
              "torch.float32"
            ]
          },
          "metadata": {},
          "execution_count": 111
        }
      ]
    },
    {
      "cell_type": "code",
      "source": [
        "float_16_tensor = float_32_tensor.type(torch.float16)"
      ],
      "metadata": {
        "id": "yHJzWX2CrTHb"
      },
      "execution_count": 112,
      "outputs": []
    },
    {
      "cell_type": "code",
      "source": [
        "int_32_tensors = torch.tensor([3, 6, 9 ],\n",
        "                              dtype = torch.int32)\n",
        "int_32_tensors"
      ],
      "metadata": {
        "colab": {
          "base_uri": "https://localhost:8080/"
        },
        "id": "l39ZAUJwzENh",
        "outputId": "33b40187-dd47-4f07-cc48-e1b4a1cf15b6"
      },
      "execution_count": 113,
      "outputs": [
        {
          "output_type": "execute_result",
          "data": {
            "text/plain": [
              "tensor([3, 6, 9], dtype=torch.int32)"
            ]
          },
          "metadata": {},
          "execution_count": 113
        }
      ]
    },
    {
      "cell_type": "code",
      "source": [
        "float_32_tensor * int_32_tensors"
      ],
      "metadata": {
        "colab": {
          "base_uri": "https://localhost:8080/"
        },
        "id": "P9_XNUEM0BCz",
        "outputId": "0587d3f7-4332-4e0b-dd6a-c2c92b26eac5"
      },
      "execution_count": 114,
      "outputs": [
        {
          "output_type": "execute_result",
          "data": {
            "text/plain": [
              "tensor([ 9., 36., 81.])"
            ]
          },
          "metadata": {},
          "execution_count": 114
        }
      ]
    },
    {
      "cell_type": "markdown",
      "source": [
        "### 📕 Tensor Attributes\n",
        "\n",
        "Getting Information from tensor\n",
        "\n",
        "1. Get datatype from a tensor can use`tensor.dtype`\n",
        "2. to get shape from a tensor can use `tensor.shape`\n",
        "3. to get device from a tensor, can use `tensor.device`"
      ],
      "metadata": {
        "id": "rsEp6Yfezn5A"
      }
    },
    {
      "cell_type": "code",
      "source": [
        "# create tensor\n",
        "some_tensor = torch.rand(size = (3, 4))\n",
        "some_tensor"
      ],
      "metadata": {
        "colab": {
          "base_uri": "https://localhost:8080/"
        },
        "id": "bb2TgDN60Xra",
        "outputId": "0dca86e1-041d-474e-cd15-b7fa3b26bd04"
      },
      "execution_count": 115,
      "outputs": [
        {
          "output_type": "execute_result",
          "data": {
            "text/plain": [
              "tensor([[0.9390, 0.8314, 0.2307, 0.1861],\n",
              "        [0.2356, 0.7590, 0.6418, 0.5569],\n",
              "        [0.3205, 0.7441, 0.1187, 0.0123]])"
            ]
          },
          "metadata": {},
          "execution_count": 115
        }
      ]
    },
    {
      "cell_type": "code",
      "source": [
        "# Print out details about some_tensor\n",
        "print(some_tensor)\n",
        "print(f\"Datatype of some_tensor is:{some_tensor.dtype}\")\n",
        "print(f\"Shape of some_tensor is:{some_tensor.shape}\")\n",
        "print(f\"device of some_tensor is:{some_tensor.device}\")"
      ],
      "metadata": {
        "colab": {
          "base_uri": "https://localhost:8080/"
        },
        "id": "6PFKCBt50_aZ",
        "outputId": "b0aa2b4e-b8ee-4024-d258-be93bd20f1b2"
      },
      "execution_count": 116,
      "outputs": [
        {
          "output_type": "stream",
          "name": "stdout",
          "text": [
            "tensor([[0.9390, 0.8314, 0.2307, 0.1861],\n",
            "        [0.2356, 0.7590, 0.6418, 0.5569],\n",
            "        [0.3205, 0.7441, 0.1187, 0.0123]])\n",
            "Datatype of some_tensor is:torch.float32\n",
            "Shape of some_tensor is:torch.Size([3, 4])\n",
            "device of some_tensor is:cpu\n"
          ]
        }
      ]
    },
    {
      "cell_type": "markdown",
      "source": [
        "### 📕 Manipulating Tensor\n",
        "\n",
        "Tensor Operations include:\n",
        "1. Addition\n",
        "2. subtraction\n",
        "3. Multiplication ( element-wise)\n",
        "4. Division \n",
        "5. Matrix multiplication\n",
        "\n",
        "\n",
        "There are two main rules that performing matrix multiplication needs to satisfy:\n",
        "1. The **inner dimensions** must match:\n",
        " * ` (3, 2) @ (3, 2) ` won't work\n",
        " *  `(2, 3) @ (3, 2) ` will work\n",
        " *  `(3, 2) @ (2, 3)` will work\n",
        "\n",
        "2. Resulting matrix has the shape of the **outer dimension**\n",
        " *  `(2, 3) @ (3, 2) ` -> `(2, 2)`\n",
        " *  `(3, 2) @ (2, 3)` -> `(3, 3)`"
      ],
      "metadata": {
        "id": "GOsmYY9D18BD"
      }
    },
    {
      "cell_type": "code",
      "source": [
        "# Create tensor\n",
        "tensor_A = torch.tensor([1, 2, 45])\n",
        "tensor_A + 12"
      ],
      "metadata": {
        "colab": {
          "base_uri": "https://localhost:8080/"
        },
        "id": "tsk8jNBt1s4R",
        "outputId": "7ab444f4-fa32-4d4e-afb1-979ee6fd88ff"
      },
      "execution_count": 117,
      "outputs": [
        {
          "output_type": "execute_result",
          "data": {
            "text/plain": [
              "tensor([13, 14, 57])"
            ]
          },
          "metadata": {},
          "execution_count": 117
        }
      ]
    },
    {
      "cell_type": "code",
      "source": [
        "# Multiply tensor by 10\n",
        "tensor_A * 10"
      ],
      "metadata": {
        "colab": {
          "base_uri": "https://localhost:8080/"
        },
        "id": "xFksfMWm2mNj",
        "outputId": "438b7417-0ee8-4c76-a810-8bd27670e427"
      },
      "execution_count": 118,
      "outputs": [
        {
          "output_type": "execute_result",
          "data": {
            "text/plain": [
              "tensor([ 10,  20, 450])"
            ]
          },
          "metadata": {},
          "execution_count": 118
        }
      ]
    },
    {
      "cell_type": "code",
      "source": [
        "# Devision tensor by 10\n",
        "tensor_A / 10"
      ],
      "metadata": {
        "colab": {
          "base_uri": "https://localhost:8080/"
        },
        "id": "SxZmhaC92t81",
        "outputId": "3842feb7-bfd0-4a3c-df99-0a4160a78d97"
      },
      "execution_count": 119,
      "outputs": [
        {
          "output_type": "execute_result",
          "data": {
            "text/plain": [
              "tensor([0.1000, 0.2000, 4.5000])"
            ]
          },
          "metadata": {},
          "execution_count": 119
        }
      ]
    },
    {
      "cell_type": "code",
      "source": [
        "# Subtraction tensor by 10\n",
        "tensor_A - 10"
      ],
      "metadata": {
        "colab": {
          "base_uri": "https://localhost:8080/"
        },
        "id": "vMuh_GMM22dj",
        "outputId": "828bd10e-9e03-485e-b4be-fbc8a8a64176"
      },
      "execution_count": 120,
      "outputs": [
        {
          "output_type": "execute_result",
          "data": {
            "text/plain": [
              "tensor([-9, -8, 35])"
            ]
          },
          "metadata": {},
          "execution_count": 120
        }
      ]
    },
    {
      "cell_type": "code",
      "source": [
        "# Try out Pytorch in-built function\n",
        "torch.mul(tensor_A, 10)"
      ],
      "metadata": {
        "colab": {
          "base_uri": "https://localhost:8080/"
        },
        "id": "eOQVwKhf278J",
        "outputId": "3c158a40-278f-42e0-d94c-f13f547e56c2"
      },
      "execution_count": 121,
      "outputs": [
        {
          "output_type": "execute_result",
          "data": {
            "text/plain": [
              "tensor([ 10,  20, 450])"
            ]
          },
          "metadata": {},
          "execution_count": 121
        }
      ]
    },
    {
      "cell_type": "code",
      "source": [
        "torch.add(tensor_A , tensor_A)"
      ],
      "metadata": {
        "colab": {
          "base_uri": "https://localhost:8080/"
        },
        "id": "DDHMHGIT3GaC",
        "outputId": "fb16260f-6d58-476c-cc51-fb9449bc453f"
      },
      "execution_count": 122,
      "outputs": [
        {
          "output_type": "execute_result",
          "data": {
            "text/plain": [
              "tensor([ 2,  4, 90])"
            ]
          },
          "metadata": {},
          "execution_count": 122
        }
      ]
    },
    {
      "cell_type": "code",
      "source": [
        "# Create tensor_B\n",
        "tensor_B = torch.tensor([[3, 2, 45],\n",
        "                         [4, 5, 6],\n",
        "                         [5, 6, 10]])\n",
        "\n",
        "# Matirx Mutliplication\n",
        "torch.matmul(tensor_A, tensor_B)"
      ],
      "metadata": {
        "colab": {
          "base_uri": "https://localhost:8080/"
        },
        "id": "kvFjJPOS3MBH",
        "outputId": "ce0645e8-215b-4888-9e7e-4ee9a8222d6e"
      },
      "execution_count": 123,
      "outputs": [
        {
          "output_type": "execute_result",
          "data": {
            "text/plain": [
              "tensor([236, 282, 507])"
            ]
          },
          "metadata": {},
          "execution_count": 123
        }
      ]
    },
    {
      "cell_type": "code",
      "source": [
        "# Shape Errors : when both has same dimension and try to do matrix multipication\n",
        "tensor_C = torch.tensor([[1,2],\n",
        "                         [3,4],\n",
        "                         [5,7]])\n",
        "\n",
        "tensor_D = torch.tensor([[3,5],\n",
        "                         [10,3],\n",
        "                         [5,6]])\n",
        "\n",
        "torch.mm(tensor_C, tensor_D.T) # did transpose of tensor_D"
      ],
      "metadata": {
        "colab": {
          "base_uri": "https://localhost:8080/"
        },
        "id": "tM4w2qwYAKG-",
        "outputId": "41344221-5c98-4d31-9cd1-797d39ab38c8"
      },
      "execution_count": 124,
      "outputs": [
        {
          "output_type": "execute_result",
          "data": {
            "text/plain": [
              "tensor([[13, 16, 17],\n",
              "        [29, 42, 39],\n",
              "        [50, 71, 67]])"
            ]
          },
          "metadata": {},
          "execution_count": 124
        }
      ]
    },
    {
      "cell_type": "markdown",
      "source": [
        "### 📕 Tensor Aggregation\n",
        "1. Min\n",
        "2. Max\n",
        "3. Mean\n",
        "4. Sum\n"
      ],
      "metadata": {
        "id": "5urPWIrnNubg"
      }
    },
    {
      "cell_type": "code",
      "source": [
        "# Create a tensor\n",
        "X = torch.arange(0, 10, 3)\n",
        "X "
      ],
      "metadata": {
        "colab": {
          "base_uri": "https://localhost:8080/"
        },
        "id": "eruVgtrXLrSE",
        "outputId": "e3d06220-b5c0-4c89-9adf-f80bdde185c1"
      },
      "execution_count": 125,
      "outputs": [
        {
          "output_type": "execute_result",
          "data": {
            "text/plain": [
              "tensor([0, 3, 6, 9])"
            ]
          },
          "metadata": {},
          "execution_count": 125
        }
      ]
    },
    {
      "cell_type": "code",
      "source": [
        "# Find the Min\n",
        "torch.min(X)"
      ],
      "metadata": {
        "colab": {
          "base_uri": "https://localhost:8080/"
        },
        "id": "_uFwjeEpOPcd",
        "outputId": "b4cebfa6-9089-4655-ca3a-4c04eea58b12"
      },
      "execution_count": 126,
      "outputs": [
        {
          "output_type": "execute_result",
          "data": {
            "text/plain": [
              "tensor(0)"
            ]
          },
          "metadata": {},
          "execution_count": 126
        }
      ]
    },
    {
      "cell_type": "code",
      "source": [
        "# Find the max\n",
        "torch.max(X)"
      ],
      "metadata": {
        "colab": {
          "base_uri": "https://localhost:8080/"
        },
        "id": "MqIZZsbzOVbz",
        "outputId": "1b0442c5-8318-4ee4-8aea-16c10baba391"
      },
      "execution_count": 127,
      "outputs": [
        {
          "output_type": "execute_result",
          "data": {
            "text/plain": [
              "tensor(9)"
            ]
          },
          "metadata": {},
          "execution_count": 127
        }
      ]
    },
    {
      "cell_type": "code",
      "source": [
        "#Find the mean\n",
        "torch.mean(X.type(dtype = torch.float32))"
      ],
      "metadata": {
        "colab": {
          "base_uri": "https://localhost:8080/"
        },
        "id": "EpNO2HqhOZRe",
        "outputId": "a488a2fc-e1af-42cb-c2bd-8e30eb6a9b10"
      },
      "execution_count": 128,
      "outputs": [
        {
          "output_type": "execute_result",
          "data": {
            "text/plain": [
              "tensor(4.5000)"
            ]
          },
          "metadata": {},
          "execution_count": 128
        }
      ]
    },
    {
      "cell_type": "code",
      "source": [
        "# Find the summ\n",
        "torch.sum(X)"
      ],
      "metadata": {
        "colab": {
          "base_uri": "https://localhost:8080/"
        },
        "id": "YY1oXqvdOvcA",
        "outputId": "0015c75c-752b-44f3-930e-1e7aefc2838a"
      },
      "execution_count": 129,
      "outputs": [
        {
          "output_type": "execute_result",
          "data": {
            "text/plain": [
              "tensor(18)"
            ]
          },
          "metadata": {},
          "execution_count": 129
        }
      ]
    },
    {
      "cell_type": "markdown",
      "source": [
        "### 📕 Positional min/max\n",
        "You can also find the index of a tensor where the max or minimum occurs with torch.argmax() and torch.argmin() respectively.\n",
        "\n",
        "This is helpful incase you just want the position where the highest (or lowest) value is and not the actual value itself (we'll see this in a later section when using the softmax activation function).\n"
      ],
      "metadata": {
        "id": "fSvXfoE-JV0e"
      }
    },
    {
      "cell_type": "code",
      "source": [
        "# Create a tensor\n",
        "tensor = torch.arange(10, 100, 10)\n",
        "print(f\"Tensor: {tensor}\")\n",
        "\n",
        "# Returns index of max and min values\n",
        "print(f\"Index where max value occurs: {tensor.argmax()}\")\n",
        "print(f\"Index where min value occurs: {tensor.argmin()}\")"
      ],
      "metadata": {
        "id": "OUK-WIDKJhol",
        "outputId": "9023553c-e3ed-4e0b-ab2d-b08ebafefccd",
        "colab": {
          "base_uri": "https://localhost:8080/"
        }
      },
      "execution_count": 130,
      "outputs": [
        {
          "output_type": "stream",
          "name": "stdout",
          "text": [
            "Tensor: tensor([10, 20, 30, 40, 50, 60, 70, 80, 90])\n",
            "Index where max value occurs: 8\n",
            "Index where min value occurs: 0\n"
          ]
        }
      ]
    },
    {
      "cell_type": "markdown",
      "source": [
        "### 📕 change tensor datatype\n",
        "As mentioned, a common issue with deep learning operations is having your tensors in different datatypes.\n",
        "\n",
        "If one tensor is in torch.float64 and another is in torch.float32, you might run into some errors.\n",
        "\n",
        "But there's a fix.\n",
        "\n",
        "You can change the datatypes of tensors using torch.Tensor.type(dtype=None) where the dtype parameter is the datatype you'd like to use.\n",
        "\n",
        "First we'll create a tensor and check it's datatype (the default is torch.float32)."
      ],
      "metadata": {
        "id": "yda5FjFbJw2m"
      }
    },
    {
      "cell_type": "code",
      "source": [
        "# Create a tensor and check its datatype\n",
        "tensor = torch.arange(10., 100., 10.)\n",
        "tensor.dtype"
      ],
      "metadata": {
        "id": "7_pKG1TUKtX0",
        "outputId": "cad6c300-1107-4469-cb97-d05161e0257b",
        "colab": {
          "base_uri": "https://localhost:8080/"
        }
      },
      "execution_count": 131,
      "outputs": [
        {
          "output_type": "execute_result",
          "data": {
            "text/plain": [
              "torch.float32"
            ]
          },
          "metadata": {},
          "execution_count": 131
        }
      ]
    },
    {
      "cell_type": "code",
      "source": [
        "# Create a float16 tensor\n",
        "tensor_float16 = tensor.type(torch.float16)\n",
        "tensor_float16"
      ],
      "metadata": {
        "id": "7WgoZRHZKxjW",
        "outputId": "dbd5d863-5403-47af-db2d-ded46c3114b0",
        "colab": {
          "base_uri": "https://localhost:8080/"
        }
      },
      "execution_count": 132,
      "outputs": [
        {
          "output_type": "execute_result",
          "data": {
            "text/plain": [
              "tensor([10., 20., 30., 40., 50., 60., 70., 80., 90.], dtype=torch.float16)"
            ]
          },
          "metadata": {},
          "execution_count": 132
        }
      ]
    },
    {
      "cell_type": "code",
      "source": [
        "# Create a int8 tensor\n",
        "tensor_int8 = tensor.type(torch.int8)\n",
        "tensor_int8"
      ],
      "metadata": {
        "id": "mA9On7IRK6uY",
        "outputId": "901a7ba5-a3bf-466d-eea8-e4ec96fe9e7d",
        "colab": {
          "base_uri": "https://localhost:8080/"
        }
      },
      "execution_count": 133,
      "outputs": [
        {
          "output_type": "execute_result",
          "data": {
            "text/plain": [
              "tensor([10, 20, 30, 40, 50, 60, 70, 80, 90], dtype=torch.int8)"
            ]
          },
          "metadata": {},
          "execution_count": 133
        }
      ]
    },
    {
      "cell_type": "markdown",
      "source": [
        "\n",
        "\n",
        "> **Note:** Different datatypes can be confusing to begin with. But think of it like this, the lower the number (e.g. 32, 16, 8), the less precise a computer stores the value. And with a lower amount of storage, this generally results in faster computation and a smaller overall model. Mobile-based neural networks often operate with 8-bit integers, smaller and faster to run but less accurate than their float32 counterparts. For more on this, I'd read up about precision in computing).\n",
        "\n",
        "\n",
        "\n",
        ">**Exercise:** So far we've covered a fair few tensor methods but there's a bunch more in the torch.Tensor documentation, I'd recommend spending 10-minutes scrolling through and looking into any that catch your eye. Click on them and then write them out in code yourself to see what happens.\n"
      ],
      "metadata": {
        "id": "xU1Ut7fBLaYp"
      }
    },
    {
      "cell_type": "markdown",
      "source": [
        "### 📕Reshaping, stacking, squeezing and unsqueezing\n",
        "\n",
        "Often times you'll want to reshape or change the dimensions of your tensors without actually changing the values inside them.\n",
        "\n",
        "To do so, some popular methods are:\n",
        "\n",
        "| Method | One-line description |\n",
        "| ----- | ----- |\n",
        "| [`torch.reshape(input, shape)`](https://pytorch.org/docs/stable/generated/torch.reshape.html#torch.reshape) | Reshapes `input` to `shape` (if compatible), can also use `torch.Tensor.reshape()`. |\n",
        "| [`torch.Tensor.view(shape)`](https://pytorch.org/docs/stable/generated/torch.Tensor.view.html) | Returns a view of the original tensor in a different `shape` but shares the same data as the original tensor. |\n",
        "| [`torch.stack(tensors, dim=0)`](https://pytorch.org/docs/1.9.1/generated/torch.stack.html) | Concatenates a sequence of `tensors` along a new dimension (`dim`), all `tensors` must be same size. |\n",
        "| [`torch.squeeze(input)`](https://pytorch.org/docs/stable/generated/torch.squeeze.html) | Squeezes `input` to remove all the dimenions with value `1`. |\n",
        "| [`torch.unsqueeze(input, dim)`](https://pytorch.org/docs/1.9.1/generated/torch.unsqueeze.html) | Returns `input` with a dimension value of `1` added at `dim`. | \n",
        "| [`torch.permute(input, dims)`](https://pytorch.org/docs/stable/generated/torch.permute.html) | Returns a *view* of the original `input` with its dimensions permuted (rearranged) to `dims`. | \n",
        "\n",
        "Why do any of these?\n",
        "\n",
        "Because deep learning models (neural networks) are all about manipulating tensors in some way. And because of the rules of matrix multiplication, if you've got shape mismatches, you'll run into errors. These methods help you make the right elements of your tensors are mixing with the right elements of other tensors. \n",
        "\n",
        "Let's try them out.\n",
        "\n",
        "First, we'll create a tensor."
      ],
      "metadata": {
        "id": "WkwCYD-wLrsT"
      }
    },
    {
      "cell_type": "code",
      "source": [
        "# Create a tensor\n",
        "import torch\n",
        "x = torch.arange(1., 8.)\n",
        "x, x.shape"
      ],
      "metadata": {
        "id": "hhmcS58AMQoE",
        "outputId": "4de058e2-d89d-47fd-db70-992e6648bcf3",
        "colab": {
          "base_uri": "https://localhost:8080/"
        }
      },
      "execution_count": 134,
      "outputs": [
        {
          "output_type": "execute_result",
          "data": {
            "text/plain": [
              "(tensor([1., 2., 3., 4., 5., 6., 7.]), torch.Size([7]))"
            ]
          },
          "metadata": {},
          "execution_count": 134
        }
      ]
    },
    {
      "cell_type": "code",
      "source": [
        "# Add an extra dimension\n",
        "x_reshaped = x.reshape(1, 7)\n",
        "x_reshaped, x_reshaped.shape"
      ],
      "metadata": {
        "id": "6WWBI_VYMURF",
        "outputId": "e9cc152a-1ad0-4cad-e549-31ca6b13162d",
        "colab": {
          "base_uri": "https://localhost:8080/"
        }
      },
      "execution_count": 135,
      "outputs": [
        {
          "output_type": "execute_result",
          "data": {
            "text/plain": [
              "(tensor([[1., 2., 3., 4., 5., 6., 7.]]), torch.Size([1, 7]))"
            ]
          },
          "metadata": {},
          "execution_count": 135
        }
      ]
    },
    {
      "cell_type": "code",
      "source": [
        "# Change view (keeps same data as original but changes view)\n",
        "# See more: https://stackoverflow.com/a/54507446/7900723\n",
        "z = x.view(1, 7)\n",
        "z, z.shape"
      ],
      "metadata": {
        "id": "KJA1zlzjMcUo",
        "outputId": "8cd00c94-01a2-40ec-89a2-cc81d2629300",
        "colab": {
          "base_uri": "https://localhost:8080/"
        }
      },
      "execution_count": 136,
      "outputs": [
        {
          "output_type": "execute_result",
          "data": {
            "text/plain": [
              "(tensor([[1., 2., 3., 4., 5., 6., 7.]]), torch.Size([1, 7]))"
            ]
          },
          "metadata": {},
          "execution_count": 136
        }
      ]
    },
    {
      "cell_type": "code",
      "source": [
        "# Changing z changes x\n",
        "z[:, 0] = 5\n",
        "z, x"
      ],
      "metadata": {
        "id": "VockWtTxMf44",
        "outputId": "f30775b0-1d03-425e-e401-47087a123254",
        "colab": {
          "base_uri": "https://localhost:8080/"
        }
      },
      "execution_count": 137,
      "outputs": [
        {
          "output_type": "execute_result",
          "data": {
            "text/plain": [
              "(tensor([[5., 2., 3., 4., 5., 6., 7.]]), tensor([5., 2., 3., 4., 5., 6., 7.]))"
            ]
          },
          "metadata": {},
          "execution_count": 137
        }
      ]
    },
    {
      "cell_type": "code",
      "source": [
        "# Stack tensors on top of each other\n",
        "x_stacked = torch.stack([x, x, x, x], dim=0) # try changing dim to dim=1 and see what happens\n",
        "x_stacked"
      ],
      "metadata": {
        "id": "WfaYP1luMjbI",
        "outputId": "b0560efc-a7e1-4f44-b2cc-a948572a1bc2",
        "colab": {
          "base_uri": "https://localhost:8080/"
        }
      },
      "execution_count": 138,
      "outputs": [
        {
          "output_type": "execute_result",
          "data": {
            "text/plain": [
              "tensor([[5., 2., 3., 4., 5., 6., 7.],\n",
              "        [5., 2., 3., 4., 5., 6., 7.],\n",
              "        [5., 2., 3., 4., 5., 6., 7.],\n",
              "        [5., 2., 3., 4., 5., 6., 7.]])"
            ]
          },
          "metadata": {},
          "execution_count": 138
        }
      ]
    },
    {
      "cell_type": "code",
      "source": [
        "print(f\"Previous tensor: {x_reshaped}\")\n",
        "print(f\"Previous shape: {x_reshaped.shape}\")"
      ],
      "metadata": {
        "id": "feBdJ9u_Mnog",
        "outputId": "34751501-0113-4f28-cb5d-2edde863aff2",
        "colab": {
          "base_uri": "https://localhost:8080/"
        }
      },
      "execution_count": 139,
      "outputs": [
        {
          "output_type": "stream",
          "name": "stdout",
          "text": [
            "Previous tensor: tensor([[5., 2., 3., 4., 5., 6., 7.]])\n",
            "Previous shape: torch.Size([1, 7])\n"
          ]
        }
      ]
    },
    {
      "cell_type": "code",
      "source": [
        "# Remove extra dimension from x_reshaped\n",
        "x_squeezed = x_reshaped.squeeze()\n",
        "print(f\"\\nNew tensor: {x_squeezed}\")\n",
        "print(f\"New shape: {x_squeezed.shape}\")"
      ],
      "metadata": {
        "id": "Re0RlEohMrZT",
        "outputId": "86ef84f8-2a73-4eb3-c720-0b6b3307e20a",
        "colab": {
          "base_uri": "https://localhost:8080/"
        }
      },
      "execution_count": 140,
      "outputs": [
        {
          "output_type": "stream",
          "name": "stdout",
          "text": [
            "\n",
            "New tensor: tensor([5., 2., 3., 4., 5., 6., 7.])\n",
            "New shape: torch.Size([7])\n"
          ]
        }
      ]
    },
    {
      "cell_type": "code",
      "source": [
        "print(f\"Previous tensor: {x_squeezed}\")\n",
        "print(f\"Previous shape: {x_squeezed.shape}\")"
      ],
      "metadata": {
        "id": "fcovI5IPMwBB",
        "outputId": "745c053d-98aa-41d9-bcb2-cec604d6e30d",
        "colab": {
          "base_uri": "https://localhost:8080/"
        }
      },
      "execution_count": 141,
      "outputs": [
        {
          "output_type": "stream",
          "name": "stdout",
          "text": [
            "Previous tensor: tensor([5., 2., 3., 4., 5., 6., 7.])\n",
            "Previous shape: torch.Size([7])\n"
          ]
        }
      ]
    },
    {
      "cell_type": "code",
      "source": [
        "## Add an extra dimension with unsqueeze\n",
        "x_unsqueezed = x_squeezed.unsqueeze(dim=0)\n",
        "print(f\"\\nNew tensor: {x_unsqueezed}\")\n",
        "print(f\"New shape: {x_unsqueezed.shape}\")"
      ],
      "metadata": {
        "id": "cyYZS5CBMydl",
        "outputId": "59fecdd3-6348-4d4e-e7d2-5437fdfaa728",
        "colab": {
          "base_uri": "https://localhost:8080/"
        }
      },
      "execution_count": 142,
      "outputs": [
        {
          "output_type": "stream",
          "name": "stdout",
          "text": [
            "\n",
            "New tensor: tensor([[5., 2., 3., 4., 5., 6., 7.]])\n",
            "New shape: torch.Size([1, 7])\n"
          ]
        }
      ]
    },
    {
      "cell_type": "code",
      "source": [
        "# Create tensor with specific shape\n",
        "x_original = torch.rand(size=(224, 224, 3))\n",
        "\n",
        "# Permute the original tensor to rearrange the axis order\n",
        "x_permuted = x_original.permute(2, 0, 1) # shifts axis 0->1, 1->2, 2->0"
      ],
      "metadata": {
        "id": "Ju9UsYxXM26S"
      },
      "execution_count": 143,
      "outputs": []
    },
    {
      "cell_type": "code",
      "source": [
        "print(f\"Previous shape: {x_original.shape}\")\n",
        "print(f\"New shape: {x_permuted.shape}\")"
      ],
      "metadata": {
        "id": "r8-Tty6dM6sA",
        "outputId": "ffc5a003-4452-4bdf-95a5-263d5f92ef70",
        "colab": {
          "base_uri": "https://localhost:8080/"
        }
      },
      "execution_count": 144,
      "outputs": [
        {
          "output_type": "stream",
          "name": "stdout",
          "text": [
            "Previous shape: torch.Size([224, 224, 3])\n",
            "New shape: torch.Size([3, 224, 224])\n"
          ]
        }
      ]
    },
    {
      "cell_type": "markdown",
      "source": [
        "## 📕 Indexing (selecting data from tensors)\n",
        "\n",
        "Sometimes you'll want to select specific data from tensors (for example, only the first column or second row).\n",
        "\n",
        "To do so, you can use indexing.\n",
        "\n",
        "If you've ever done indexing on Python lists or NumPy arrays, indexing in PyTorch with tensors is very similar."
      ],
      "metadata": {
        "id": "fx2J97OnNYtB"
      }
    },
    {
      "cell_type": "code",
      "source": [
        "# Create a tensor \n",
        "import torch\n",
        "x = torch.arange(1, 10).reshape(1, 3, 3)\n",
        "x, x.shape"
      ],
      "metadata": {
        "id": "bH8G1aRmNAPJ",
        "outputId": "03cad663-7dea-42cc-e94b-625cf8699bc6",
        "colab": {
          "base_uri": "https://localhost:8080/"
        }
      },
      "execution_count": 145,
      "outputs": [
        {
          "output_type": "execute_result",
          "data": {
            "text/plain": [
              "(tensor([[[1, 2, 3],\n",
              "          [4, 5, 6],\n",
              "          [7, 8, 9]]]),\n",
              " torch.Size([1, 3, 3]))"
            ]
          },
          "metadata": {},
          "execution_count": 145
        }
      ]
    },
    {
      "cell_type": "code",
      "source": [
        "# Let's index bracket by bracket\n",
        "print(f\"First square bracket:\\n{x[0]}\") \n",
        "print(f\"Second square bracket: {x[0][0]}\") \n",
        "print(f\"Third square bracket: {x[0][0][0]}\")"
      ],
      "metadata": {
        "id": "_ouHx9FuNF6r",
        "outputId": "76457152-2125-4b4c-e9c2-eea0fee01005",
        "colab": {
          "base_uri": "https://localhost:8080/"
        }
      },
      "execution_count": 146,
      "outputs": [
        {
          "output_type": "stream",
          "name": "stdout",
          "text": [
            "First square bracket:\n",
            "tensor([[1, 2, 3],\n",
            "        [4, 5, 6],\n",
            "        [7, 8, 9]])\n",
            "Second square bracket: tensor([1, 2, 3])\n",
            "Third square bracket: 1\n"
          ]
        }
      ]
    },
    {
      "cell_type": "code",
      "source": [
        "# Get all values of 0th dimension and the 0 index of 1st dimension\n",
        "x[:, 0]"
      ],
      "metadata": {
        "id": "Zsa7HNodNiFl",
        "outputId": "6bee6c07-fe8d-4226-855c-c65fa765ec8a",
        "colab": {
          "base_uri": "https://localhost:8080/"
        }
      },
      "execution_count": 147,
      "outputs": [
        {
          "output_type": "execute_result",
          "data": {
            "text/plain": [
              "tensor([[1, 2, 3]])"
            ]
          },
          "metadata": {},
          "execution_count": 147
        }
      ]
    },
    {
      "cell_type": "code",
      "source": [
        "# Get all values of 0th & 1st dimensions but only index 1 of 2nd dimension\n",
        "x[:, :, 1]"
      ],
      "metadata": {
        "id": "VbSZ46FiNgaU",
        "outputId": "dfe50101-e5df-45c6-b89e-eae0a46cc408",
        "colab": {
          "base_uri": "https://localhost:8080/"
        }
      },
      "execution_count": 148,
      "outputs": [
        {
          "output_type": "execute_result",
          "data": {
            "text/plain": [
              "tensor([[2, 5, 8]])"
            ]
          },
          "metadata": {},
          "execution_count": 148
        }
      ]
    },
    {
      "cell_type": "code",
      "source": [
        "# Get all values of the 0 dimension but only the 1 index value of the 1st and 2nd dimension\n",
        "x[:, 1, 1]"
      ],
      "metadata": {
        "id": "jogQhe3wNkr0",
        "outputId": "9aa43724-498e-4fdf-b392-962a9cfa2de3",
        "colab": {
          "base_uri": "https://localhost:8080/"
        }
      },
      "execution_count": 149,
      "outputs": [
        {
          "output_type": "execute_result",
          "data": {
            "text/plain": [
              "tensor([5])"
            ]
          },
          "metadata": {},
          "execution_count": 149
        }
      ]
    },
    {
      "cell_type": "code",
      "source": [
        "# Get index 0 of 0th and 1st dimension and all values of 2nd dimension \n",
        "x[0, 0, :] # same as x[0][0]"
      ],
      "metadata": {
        "id": "90Ve3xrSNqnr",
        "outputId": "ab0ea77a-c1b8-4947-d93c-20f7ce0ed95a",
        "colab": {
          "base_uri": "https://localhost:8080/"
        }
      },
      "execution_count": 150,
      "outputs": [
        {
          "output_type": "execute_result",
          "data": {
            "text/plain": [
              "tensor([1, 2, 3])"
            ]
          },
          "metadata": {},
          "execution_count": 150
        }
      ]
    },
    {
      "cell_type": "markdown",
      "source": [
        "### 📕 PyTorch tensors & NumPy\n",
        "\n",
        "Since NumPy is a popular Python numerical computing library, PyTorch has functionality to interact with it nicely.  \n",
        "\n",
        "The two main methods you'll want to use for NumPy to PyTorch (and back again) are: \n",
        "* [`torch.from_numpy(ndarray)`](https://pytorch.org/docs/stable/generated/torch.from_numpy.html) - NumPy array -> PyTorch tensor. \n",
        "* [`torch.Tensor.numpy()`](https://pytorch.org/docs/stable/generated/torch.Tensor.numpy.html) - PyTorch tensor -> NumPy array.\n",
        "\n",
        "Let's try them out."
      ],
      "metadata": {
        "id": "Vp0goG7XNvhD"
      }
    },
    {
      "cell_type": "code",
      "source": [
        "# NumPy array to tensor\n",
        "import torch\n",
        "import numpy as np\n",
        "array = np.arange(1.0, 8.0)\n",
        "tensor = torch.from_numpy(array)\n",
        "array, tensor"
      ],
      "metadata": {
        "id": "6f1cjdneN1Jd",
        "outputId": "9d440063-5816-4914-c362-66278d8d7ef1",
        "colab": {
          "base_uri": "https://localhost:8080/"
        }
      },
      "execution_count": 151,
      "outputs": [
        {
          "output_type": "execute_result",
          "data": {
            "text/plain": [
              "(array([1., 2., 3., 4., 5., 6., 7.]),\n",
              " tensor([1., 2., 3., 4., 5., 6., 7.], dtype=torch.float64))"
            ]
          },
          "metadata": {},
          "execution_count": 151
        }
      ]
    },
    {
      "cell_type": "code",
      "source": [
        "# Change the array, keep the tensor\n",
        "array = array + 1\n",
        "array, tensor"
      ],
      "metadata": {
        "id": "kWTrWz1KN5dK",
        "outputId": "a55b179e-508e-4744-e3e7-4a7fe71d85c2",
        "colab": {
          "base_uri": "https://localhost:8080/"
        }
      },
      "execution_count": 152,
      "outputs": [
        {
          "output_type": "execute_result",
          "data": {
            "text/plain": [
              "(array([2., 3., 4., 5., 6., 7., 8.]),\n",
              " tensor([1., 2., 3., 4., 5., 6., 7.], dtype=torch.float64))"
            ]
          },
          "metadata": {},
          "execution_count": 152
        }
      ]
    },
    {
      "cell_type": "code",
      "source": [
        "# Tensor to NumPy array\n",
        "tensor = torch.ones(7) # create a tensor of ones with dtype=float32\n",
        "numpy_tensor = tensor.numpy() # will be dtype=float32 unless changed\n",
        "tensor, numpy_tensor"
      ],
      "metadata": {
        "id": "WB4PKWJIN-0M",
        "outputId": "fb5d8107-1aba-4308-af61-eb4c210fa9f2",
        "colab": {
          "base_uri": "https://localhost:8080/"
        }
      },
      "execution_count": 153,
      "outputs": [
        {
          "output_type": "execute_result",
          "data": {
            "text/plain": [
              "(tensor([1., 1., 1., 1., 1., 1., 1.]),\n",
              " array([1., 1., 1., 1., 1., 1., 1.], dtype=float32))"
            ]
          },
          "metadata": {},
          "execution_count": 153
        }
      ]
    },
    {
      "cell_type": "code",
      "source": [
        "# Change the tensor, keep the array the same\n",
        "tensor = tensor + 1\n",
        "tensor, numpy_tensor"
      ],
      "metadata": {
        "id": "kGDN2YyxOz4O",
        "outputId": "1b4de460-75d7-48c8-c859-b047a30e46d9",
        "colab": {
          "base_uri": "https://localhost:8080/"
        }
      },
      "execution_count": 154,
      "outputs": [
        {
          "output_type": "execute_result",
          "data": {
            "text/plain": [
              "(tensor([2., 2., 2., 2., 2., 2., 2.]),\n",
              " array([1., 1., 1., 1., 1., 1., 1.], dtype=float32))"
            ]
          },
          "metadata": {},
          "execution_count": 154
        }
      ]
    },
    {
      "cell_type": "markdown",
      "source": [
        "### 📕 Reproducibility (trying to take the random out of random)\n",
        "\n",
        "As you learn more about neural networks and machine learning, you'll start to discover how much randomness plays a part.\n",
        "\n",
        "Well, pseudorandomness that is. Because after all, as they're designed, a computer is fundamentally deterministic (each step is predictable) so the randomness they create are simulated randomness (though there is debate on this too, but since I'm not a computer scientist, I'll let you find out more yourself).\n",
        "\n",
        "How does this relate to neural networks and deep learning then?\n",
        "\n",
        "We've discussed neural networks start with random numbers to describe patterns in data (these numbers are poor descriptions) and try to improve those random numbers using tensor operations (and a few other things we haven't discussed yet) to better describe patterns in data.\n",
        "\n",
        "In short: \n",
        "\n",
        "``start with random numbers -> tensor operations -> try to make better (again and again and again)``\n",
        "\n",
        "Although randomness is nice and powerful, sometimes you'd like there to be a little less randomness.\n",
        "\n",
        "Why?\n",
        "\n",
        "So you can perform repeatable experiments.\n",
        "\n",
        "For example, you create an algorithm capable of achieving X performance.\n",
        "\n",
        "And then your friend tries it out to verify you're not crazy.\n",
        "\n",
        "How could they do such a thing?\n",
        "\n",
        "That's where **reproducibility** comes in.\n",
        "\n",
        "In other words, can you get the same (or very similar) results on your computer running the same code as I get on mine?\n",
        "\n",
        "Let's see a brief example of reproducibility in PyTorch.\n",
        "\n",
        "We'll start by creating two random tensors, since they're random, you'd expect them to be different right? "
      ],
      "metadata": {
        "id": "U31MhqzqONkQ"
      }
    },
    {
      "cell_type": "code",
      "source": [
        "RANDOM_SEED = 42\n",
        "\n",
        "torch.manual_seed(RANDOM_SEED)\n",
        "random_tensor_A = torch.rand(3,3)\n",
        "\n",
        "torch.manual_seed(RANDOM_SEED)\n",
        "random_tensor_B = torch.rand(3,3)\n",
        "\n",
        "print(random_tensor_A)\n",
        "print(random_tensor_B)\n",
        "print(random_tensor_A == random_tensor_B)"
      ],
      "metadata": {
        "id": "2bZ-q9h6OSCJ",
        "outputId": "85bdfacd-9967-4bf4-a704-3038f4676459",
        "colab": {
          "base_uri": "https://localhost:8080/"
        }
      },
      "execution_count": 155,
      "outputs": [
        {
          "output_type": "stream",
          "name": "stdout",
          "text": [
            "tensor([[0.8823, 0.9150, 0.3829],\n",
            "        [0.9593, 0.3904, 0.6009],\n",
            "        [0.2566, 0.7936, 0.9408]])\n",
            "tensor([[0.8823, 0.9150, 0.3829],\n",
            "        [0.9593, 0.3904, 0.6009],\n",
            "        [0.2566, 0.7936, 0.9408]])\n",
            "tensor([[True, True, True],\n",
            "        [True, True, True],\n",
            "        [True, True, True]])\n"
          ]
        }
      ]
    },
    {
      "cell_type": "markdown",
      "source": [
        "## Running tensors and Pytorch objexts on the GPUS (making faster computations !!!)"
      ],
      "metadata": {
        "id": "myo7qjQvpwM_"
      }
    },
    {
      "cell_type": "markdown",
      "source": [
        "# Getting a GPU"
      ],
      "metadata": {
        "id": "40fy_4-BroP7"
      }
    },
    {
      "cell_type": "code",
      "source": [
        "!nvidia-smi"
      ],
      "metadata": {
        "id": "1vbifBT0p5SE",
        "outputId": "438189d8-0a78-420d-ff27-0982d9b13bf1",
        "colab": {
          "base_uri": "https://localhost:8080/"
        }
      },
      "execution_count": 156,
      "outputs": [
        {
          "output_type": "stream",
          "name": "stdout",
          "text": [
            "Mon Apr  3 16:29:34 2023       \n",
            "+-----------------------------------------------------------------------------+\n",
            "| NVIDIA-SMI 525.85.12    Driver Version: 525.85.12    CUDA Version: 12.0     |\n",
            "|-------------------------------+----------------------+----------------------+\n",
            "| GPU  Name        Persistence-M| Bus-Id        Disp.A | Volatile Uncorr. ECC |\n",
            "| Fan  Temp  Perf  Pwr:Usage/Cap|         Memory-Usage | GPU-Util  Compute M. |\n",
            "|                               |                      |               MIG M. |\n",
            "|===============================+======================+======================|\n",
            "|   0  Tesla T4            Off  | 00000000:00:04.0 Off |                    0 |\n",
            "| N/A   50C    P0    26W /  70W |    573MiB / 15360MiB |      0%      Default |\n",
            "|                               |                      |                  N/A |\n",
            "+-------------------------------+----------------------+----------------------+\n",
            "                                                                               \n",
            "+-----------------------------------------------------------------------------+\n",
            "| Processes:                                                                  |\n",
            "|  GPU   GI   CI        PID   Type   Process name                  GPU Memory |\n",
            "|        ID   ID                                                   Usage      |\n",
            "|=============================================================================|\n",
            "+-----------------------------------------------------------------------------+\n"
          ]
        }
      ]
    },
    {
      "cell_type": "markdown",
      "source": [
        "# Check for GPU access with PyTorch"
      ],
      "metadata": {
        "id": "2ISCNwclvjtt"
      }
    },
    {
      "cell_type": "code",
      "source": [
        "torch.cuda.is_available()"
      ],
      "metadata": {
        "id": "kRu7-qYivh6P",
        "outputId": "14f5c981-8648-4da7-b9f0-11ea85a5f53e",
        "colab": {
          "base_uri": "https://localhost:8080/"
        }
      },
      "execution_count": 157,
      "outputs": [
        {
          "output_type": "execute_result",
          "data": {
            "text/plain": [
              "True"
            ]
          },
          "metadata": {},
          "execution_count": 157
        }
      ]
    },
    {
      "cell_type": "code",
      "source": [
        "# Setup device agnostic code\n",
        "\n",
        "device = \"cuda\" if torch.cuda.is_available() else \"cpu\"\n",
        "device"
      ],
      "metadata": {
        "id": "NyJdYQ9vv7ll",
        "outputId": "b6cb3eb0-f40b-49b1-ff10-ac2813b697c6",
        "colab": {
          "base_uri": "https://localhost:8080/",
          "height": 36
        }
      },
      "execution_count": 158,
      "outputs": [
        {
          "output_type": "execute_result",
          "data": {
            "text/plain": [
              "'cuda'"
            ],
            "application/vnd.google.colaboratory.intrinsic+json": {
              "type": "string"
            }
          },
          "metadata": {},
          "execution_count": 158
        }
      ]
    },
    {
      "cell_type": "code",
      "source": [
        "# count no of device\n",
        "torch.cuda.device_count()"
      ],
      "metadata": {
        "id": "tJ35TasMwUMW",
        "outputId": "965c09a3-ed61-4f48-b2c5-12bcb8b4a9d0",
        "colab": {
          "base_uri": "https://localhost:8080/"
        }
      },
      "execution_count": 159,
      "outputs": [
        {
          "output_type": "execute_result",
          "data": {
            "text/plain": [
              "1"
            ]
          },
          "metadata": {},
          "execution_count": 159
        }
      ]
    },
    {
      "cell_type": "markdown",
      "source": [
        "## Putting tensors(and models ) on the GPU"
      ],
      "metadata": {
        "id": "i5kgx8eOxZZc"
      }
    },
    {
      "cell_type": "code",
      "source": [
        "# create a tensor ( default on the GPU)\n",
        "tensor = torch.tensor([1,2,3])\n",
        "\n",
        "print(tensor, tensor.device)"
      ],
      "metadata": {
        "id": "ane31OtExfMQ",
        "outputId": "57244a0f-a87c-447a-d261-d612406f3b1b",
        "colab": {
          "base_uri": "https://localhost:8080/"
        }
      },
      "execution_count": 160,
      "outputs": [
        {
          "output_type": "stream",
          "name": "stdout",
          "text": [
            "tensor([1, 2, 3]) cpu\n"
          ]
        }
      ]
    },
    {
      "cell_type": "code",
      "source": [
        "# Move tensor to GPU ( if available)\n",
        "tensor_gpu = tensor.to(device)\n",
        "print(tensor_gpu)"
      ],
      "metadata": {
        "id": "6tQmD-jLxsjT",
        "outputId": "24c5fcd4-810b-40d7-aae2-73efa718af5f",
        "colab": {
          "base_uri": "https://localhost:8080/"
        }
      },
      "execution_count": 161,
      "outputs": [
        {
          "output_type": "stream",
          "name": "stdout",
          "text": [
            "tensor([1, 2, 3], device='cuda:0')\n"
          ]
        }
      ]
    },
    {
      "cell_type": "code",
      "source": [
        "# Moving tensor back to GPU\n",
        "\n",
        "tensor = tensor_gpu.cpu()\n",
        "tensor.numpy()"
      ],
      "metadata": {
        "id": "StfaoEi5x_mJ",
        "outputId": "ff23d915-64d8-4adb-bec5-94cb3f8f01b6",
        "colab": {
          "base_uri": "https://localhost:8080/"
        }
      },
      "execution_count": 162,
      "outputs": [
        {
          "output_type": "execute_result",
          "data": {
            "text/plain": [
              "array([1, 2, 3])"
            ]
          },
          "metadata": {},
          "execution_count": 162
        }
      ]
    },
    {
      "cell_type": "markdown",
      "source": [
        "# Excercise and Extra Curriculm"
      ],
      "metadata": {
        "id": "A0XZodXI22rc"
      }
    },
    {
      "cell_type": "markdown",
      "source": [
        "## **1. Documentation reading**\n",
        "\n",
        "> A big part of deep learning (and learning to code in general) is getting familiar with the documentation of a certain framework you're using. We'll be using the PyTorch documentation a lot throughout the rest of this course. So I'd recommend spending 10-minutes reading the following (it's okay if you don't get some things for now, the focus is not yet full understanding, it's awareness):\n",
        "\n",
        "\n",
        "\n",
        "\n",
        "*   The documentation on [torch.Tensor](https://pytorch.org/docs/stable/tensors.html#torch-tensor).\n",
        "*  The documentation on [torch.cuda](https://pytorch.org/docs/master/notes/cuda.html#cuda-semantics)."
      ],
      "metadata": {
        "id": "v1RynNax4DL-"
      }
    },
    {
      "cell_type": "markdown",
      "source": [
        "## **2. Create a random tensor with shape (7, 7).**\n"
      ],
      "metadata": {
        "id": "_OG79_NG3xKV"
      }
    },
    {
      "cell_type": "code",
      "source": [
        "random_tensor = torch.rand(size = (7,7))  \n",
        "random_tensor"
      ],
      "metadata": {
        "id": "irM-I4Nh4FLu",
        "colab": {
          "base_uri": "https://localhost:8080/"
        },
        "outputId": "8d2f2f34-13c9-4105-d03d-4c8bb1576c52"
      },
      "execution_count": 163,
      "outputs": [
        {
          "output_type": "execute_result",
          "data": {
            "text/plain": [
              "tensor([[0.1332, 0.9346, 0.5936, 0.8694, 0.5677, 0.7411, 0.4294],\n",
              "        [0.8854, 0.5739, 0.2666, 0.6274, 0.2696, 0.4414, 0.2969],\n",
              "        [0.8317, 0.1053, 0.2695, 0.3588, 0.1994, 0.5472, 0.0062],\n",
              "        [0.9516, 0.0753, 0.8860, 0.5832, 0.3376, 0.8090, 0.5779],\n",
              "        [0.9040, 0.5547, 0.3423, 0.6343, 0.3644, 0.7104, 0.9464],\n",
              "        [0.7890, 0.2814, 0.7886, 0.5895, 0.7539, 0.1952, 0.0050],\n",
              "        [0.3068, 0.1165, 0.9103, 0.6440, 0.7071, 0.6581, 0.4913]])"
            ]
          },
          "metadata": {},
          "execution_count": 163
        }
      ]
    },
    {
      "cell_type": "markdown",
      "source": [
        "## **3. Perform a matrix multiplication on the tensor from 2 with another random tensor with shape (1, 7) (hint: you may have to transpose the second tensor).**"
      ],
      "metadata": {
        "id": "NrNjbk0t4w_m"
      }
    },
    {
      "cell_type": "code",
      "source": [
        "random_tensor_2 = torch.rand(size = (7,1))\n",
        "\n",
        "# Matirx Mutliplication\n",
        "torch.matmul(random_tensor, random_tensor_2)"
      ],
      "metadata": {
        "colab": {
          "base_uri": "https://localhost:8080/"
        },
        "id": "qoaVwSjO4v0e",
        "outputId": "977b3abf-9f89-49ce-aa95-f4c3a178adcb"
      },
      "execution_count": 164,
      "outputs": [
        {
          "output_type": "execute_result",
          "data": {
            "text/plain": [
              "tensor([[1.6023],\n",
              "        [1.6286],\n",
              "        [1.2705],\n",
              "        [2.2861],\n",
              "        [2.2581],\n",
              "        [1.8172],\n",
              "        [1.8756]])"
            ]
          },
          "metadata": {},
          "execution_count": 164
        }
      ]
    },
    {
      "cell_type": "markdown",
      "source": [
        "# **Set the random seed to 0 and do 2 & 3 over again.**"
      ],
      "metadata": {
        "id": "iBO3KyGd5QH0"
      }
    },
    {
      "cell_type": "code",
      "source": [
        "RANDOM_SEED = 0\n",
        "\n",
        "torch.manual_seed(RANDOM_SEED)\n",
        "random_tensor = torch.rand(size = (7,7))  \n",
        "random_tensor_2 = torch.rand(size = (7,1))\n",
        "\n",
        "# Matirx Mutliplication\n",
        "torch.matmul(random_tensor, random_tensor_2)"
      ],
      "metadata": {
        "colab": {
          "base_uri": "https://localhost:8080/"
        },
        "id": "KPKIf7uj5X8q",
        "outputId": "0f6bc48a-2c19-4e83-c889-792b39d76e40"
      },
      "execution_count": 165,
      "outputs": [
        {
          "output_type": "execute_result",
          "data": {
            "text/plain": [
              "tensor([[1.8542],\n",
              "        [1.9611],\n",
              "        [2.2884],\n",
              "        [3.0481],\n",
              "        [1.7067],\n",
              "        [2.5290],\n",
              "        [1.7989]])"
            ]
          },
          "metadata": {},
          "execution_count": 165
        }
      ]
    },
    {
      "cell_type": "markdown",
      "source": [
        "## **5. Speaking of random seeds, we saw how to set it with torch.manual_seed() but is there a GPU equivalent? (hint: you'll need to look into the documentation for torch.cuda for this one)**"
      ],
      "metadata": {
        "id": "l2QVB9_s6_Un"
      }
    },
    {
      "cell_type": "code",
      "source": [
        "torch.cuda.manual_seed(1234)"
      ],
      "metadata": {
        "id": "YK2AUNdv9MFh"
      },
      "execution_count": 170,
      "outputs": []
    },
    {
      "cell_type": "markdown",
      "source": [
        "## 6. **Create two random tensors of shape (2, 3) and send them both to the GPU (you'll need access to a GPU for this). Set torch.manual_seed(1234) when creating the tensors (this doesn't have to be the GPU random seed). The output should be something like:**"
      ],
      "metadata": {
        "id": "2D0Ipdas9Mh3"
      }
    },
    {
      "cell_type": "code",
      "source": [
        "torch.manual_seed(1234)\n",
        "random_tensor_A = torch.rand(size = (2,3))  \n",
        "random_tensor_B = torch.rand(size = (2,3))  "
      ],
      "metadata": {
        "id": "CuksFh7A7B8o"
      },
      "execution_count": 166,
      "outputs": []
    },
    {
      "cell_type": "code",
      "source": [
        "device = \"cuda\" if torch.cuda.is_available() else \"cpu\"\n",
        "# Move tensor to GPU ( if available)\n",
        "random_tensor_A_GPU = random_tensor_A.to(device)\n",
        "random_tensor_B_GPU = random_tensor_B.to(device)\n",
        "\n",
        "random_tensor_A_GPU,random_tensor_B_GPU"
      ],
      "metadata": {
        "colab": {
          "base_uri": "https://localhost:8080/"
        },
        "id": "UHV_UQOD7hPC",
        "outputId": "96a3eb5b-06cc-481b-de14-cca5ca3c23b6"
      },
      "execution_count": 168,
      "outputs": [
        {
          "output_type": "execute_result",
          "data": {
            "text/plain": [
              "(tensor([[0.0290, 0.4019, 0.2598],\n",
              "         [0.3666, 0.0583, 0.7006]], device='cuda:0'),\n",
              " tensor([[0.0518, 0.4681, 0.6738],\n",
              "         [0.3315, 0.7837, 0.5631]], device='cuda:0'))"
            ]
          },
          "metadata": {},
          "execution_count": 168
        }
      ]
    },
    {
      "cell_type": "markdown",
      "source": [
        "## **7. Perform a matrix multiplication on the tensors you created in 6 (again, you may have to adjust the shapes of one of the tensors).**"
      ],
      "metadata": {
        "id": "QGhfdLA39py3"
      }
    },
    {
      "cell_type": "code",
      "source": [
        "# Matirx Mutliplication\n",
        "tensor_mat_AB = torch.matmul(random_tensor_A_GPU,random_tensor_B_GPU.T)"
      ],
      "metadata": {
        "id": "Q1dam77m9xBC"
      },
      "execution_count": 174,
      "outputs": []
    },
    {
      "cell_type": "markdown",
      "source": [
        "# **8. Find the maximum and minimum values of the output of 7.**"
      ],
      "metadata": {
        "id": "1V4DP7Yf-Sl7"
      }
    },
    {
      "cell_type": "code",
      "source": [
        "max_value = torch.max(tensor_mat_AB)\n",
        "min_value = torch.min(tensor_mat_AB)\n",
        "\n",
        "max_value, min_value"
      ],
      "metadata": {
        "colab": {
          "base_uri": "https://localhost:8080/"
        },
        "id": "V6ekDa6k99Bl",
        "outputId": "de9b2e65-d8a8-4861-9569-e24d320f54e3"
      },
      "execution_count": 175,
      "outputs": [
        {
          "output_type": "execute_result",
          "data": {
            "text/plain": [
              "(tensor(0.5617, device='cuda:0'), tensor(0.3647, device='cuda:0'))"
            ]
          },
          "metadata": {},
          "execution_count": 175
        }
      ]
    },
    {
      "cell_type": "markdown",
      "source": [
        "## **9. Find the maximum and minimum index values of the output of 7.**\n"
      ],
      "metadata": {
        "id": "KECn8uBa-4Rw"
      }
    },
    {
      "cell_type": "code",
      "source": [
        "max_index = torch.argmax(tensor_mat_AB)\n",
        "min_index = torch.argmin(tensor_mat_AB)\n",
        "\n",
        "max_index,min_index"
      ],
      "metadata": {
        "colab": {
          "base_uri": "https://localhost:8080/"
        },
        "id": "A8Z64TEG-7Xb",
        "outputId": "d01792ad-e604-4533-c21e-2d269c7240d7"
      },
      "execution_count": 176,
      "outputs": [
        {
          "output_type": "execute_result",
          "data": {
            "text/plain": [
              "(tensor(3, device='cuda:0'), tensor(0, device='cuda:0'))"
            ]
          },
          "metadata": {},
          "execution_count": 176
        }
      ]
    },
    {
      "cell_type": "markdown",
      "source": [
        "## **10. Make a random tensor with shape (1, 1, 1, 10) and then create a new tensor with all the 1 dimensions removed to be left with a tensor of shape (10). Set the seed to 7 when you create it and print out the first tensor and it's shape as well as the second tensor and it's shape.**"
      ],
      "metadata": {
        "id": "zxFxsLK3_LvO"
      }
    },
    {
      "cell_type": "code",
      "source": [
        "torch.manual_seed(7)\n",
        "\n",
        "first_tensor = torch.rand(size = (1,1,1,10))\n",
        "second_tensor = torch.squeeze(first_tensor)\n",
        "\n",
        "first_tensor,second_tensor"
      ],
      "metadata": {
        "colab": {
          "base_uri": "https://localhost:8080/"
        },
        "id": "HdIPprbH_N5N",
        "outputId": "934b2696-d739-4c28-e7b2-5a39e8592f67"
      },
      "execution_count": 179,
      "outputs": [
        {
          "output_type": "execute_result",
          "data": {
            "text/plain": [
              "(tensor([[[[0.5349, 0.1988, 0.6592, 0.6569, 0.2328, 0.4251, 0.2071, 0.6297,\n",
              "            0.3653, 0.8513]]]]),\n",
              " tensor([0.5349, 0.1988, 0.6592, 0.6569, 0.2328, 0.4251, 0.2071, 0.6297, 0.3653,\n",
              "         0.8513]))"
            ]
          },
          "metadata": {},
          "execution_count": 179
        }
      ]
    }
  ]
}